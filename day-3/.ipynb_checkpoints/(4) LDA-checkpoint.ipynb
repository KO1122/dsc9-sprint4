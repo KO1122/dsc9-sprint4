{
 "cells": [
  {
   "cell_type": "code",
   "execution_count": 1,
   "id": "6b24d7a2",
   "metadata": {
    "scrolled": true
   },
   "outputs": [
    {
     "name": "stdout",
     "output_type": "stream",
     "text": [
      "Collecting pyLDAvis\n",
      "  Downloading pyLDAvis-3.3.1.tar.gz (1.7 MB)\n",
      "\u001b[K     |████████████████████████████████| 1.7 MB 4.3 MB/s eta 0:00:01     |█████▊                          | 296 kB 4.3 MB/s eta 0:00:01\n",
      "\u001b[?25h  Installing build dependencies ... \u001b[?25ldone\n",
      "\u001b[?25h  Getting requirements to build wheel ... \u001b[?25ldone\n",
      "\u001b[?25h  Installing backend dependencies ... \u001b[?25ldone\n",
      "\u001b[?25h    Preparing wheel metadata ... \u001b[?25ldone\n",
      "\u001b[?25hRequirement already satisfied: pandas>=1.2.0 in /Users/andrewong/opt/anaconda3/lib/python3.8/site-packages (from pyLDAvis) (1.2.4)\n",
      "Collecting funcy\n",
      "  Downloading funcy-1.17-py2.py3-none-any.whl (33 kB)\n",
      "Collecting sklearn\n",
      "  Downloading sklearn-0.0.tar.gz (1.1 kB)\n",
      "Requirement already satisfied: setuptools in /Users/andrewong/opt/anaconda3/lib/python3.8/site-packages (from pyLDAvis) (52.0.0.post20210125)\n",
      "Requirement already satisfied: gensim in /Users/andrewong/opt/anaconda3/lib/python3.8/site-packages (from pyLDAvis) (4.1.2)\n",
      "Requirement already satisfied: joblib in /Users/andrewong/opt/anaconda3/lib/python3.8/site-packages (from pyLDAvis) (1.1.0)\n",
      "Requirement already satisfied: scipy in /Users/andrewong/opt/anaconda3/lib/python3.8/site-packages (from pyLDAvis) (1.6.2)\n",
      "Requirement already satisfied: future in /Users/andrewong/opt/anaconda3/lib/python3.8/site-packages (from pyLDAvis) (0.18.2)\n",
      "Requirement already satisfied: numpy>=1.20.0 in /Users/andrewong/opt/anaconda3/lib/python3.8/site-packages (from pyLDAvis) (1.21.4)\n",
      "Requirement already satisfied: jinja2 in /Users/andrewong/opt/anaconda3/lib/python3.8/site-packages (from pyLDAvis) (3.1.1)\n",
      "Requirement already satisfied: numexpr in /Users/andrewong/opt/anaconda3/lib/python3.8/site-packages (from pyLDAvis) (2.7.3)\n",
      "Requirement already satisfied: scikit-learn in /Users/andrewong/opt/anaconda3/lib/python3.8/site-packages (from pyLDAvis) (1.1.1)\n",
      "Requirement already satisfied: python-dateutil>=2.7.3 in /Users/andrewong/opt/anaconda3/lib/python3.8/site-packages (from pandas>=1.2.0->pyLDAvis) (2.8.1)\n",
      "Requirement already satisfied: pytz>=2017.3 in /Users/andrewong/opt/anaconda3/lib/python3.8/site-packages (from pandas>=1.2.0->pyLDAvis) (2021.1)\n",
      "Requirement already satisfied: six>=1.5 in /Users/andrewong/opt/anaconda3/lib/python3.8/site-packages (from python-dateutil>=2.7.3->pandas>=1.2.0->pyLDAvis) (1.15.0)\n",
      "Requirement already satisfied: smart-open>=1.8.1 in /Users/andrewong/opt/anaconda3/lib/python3.8/site-packages (from gensim->pyLDAvis) (5.2.1)\n",
      "Requirement already satisfied: MarkupSafe>=2.0 in /Users/andrewong/opt/anaconda3/lib/python3.8/site-packages (from jinja2->pyLDAvis) (2.1.1)\n",
      "Requirement already satisfied: threadpoolctl>=2.0.0 in /Users/andrewong/opt/anaconda3/lib/python3.8/site-packages (from scikit-learn->pyLDAvis) (2.1.0)\n",
      "Building wheels for collected packages: pyLDAvis, sklearn\n",
      "  Building wheel for pyLDAvis (PEP 517) ... \u001b[?25ldone\n",
      "\u001b[?25h  Created wheel for pyLDAvis: filename=pyLDAvis-3.3.1-py2.py3-none-any.whl size=136882 sha256=dc0be9e4e4b3eecd5141ffabe677d25dbbfb1ba3af373602ce55266779811113\n",
      "  Stored in directory: /Users/andrewong/Library/Caches/pip/wheels/90/61/ec/9dbe9efc3acf9c4e37ba70fbbcc3f3a0ebd121060aa593181a\n",
      "  Building wheel for sklearn (setup.py) ... \u001b[?25ldone\n",
      "\u001b[?25h  Created wheel for sklearn: filename=sklearn-0.0-py2.py3-none-any.whl size=1316 sha256=17709485d8abf169659cc6d94453565f4807a218b1e5f9932038e5648bbcdb45\n",
      "  Stored in directory: /Users/andrewong/Library/Caches/pip/wheels/22/0b/40/fd3f795caaa1fb4c6cb738bc1f56100be1e57da95849bfc897\n",
      "Successfully built pyLDAvis sklearn\n",
      "Installing collected packages: sklearn, funcy, pyLDAvis\n",
      "Successfully installed funcy-1.17 pyLDAvis-3.3.1 sklearn-0.0\n",
      "Requirement already satisfied: gensim in /Users/andrewong/opt/anaconda3/lib/python3.8/site-packages (4.1.2)\n",
      "Requirement already satisfied: scipy>=0.18.1 in /Users/andrewong/opt/anaconda3/lib/python3.8/site-packages (from gensim) (1.6.2)\n",
      "Requirement already satisfied: smart-open>=1.8.1 in /Users/andrewong/opt/anaconda3/lib/python3.8/site-packages (from gensim) (5.2.1)\n",
      "Requirement already satisfied: numpy>=1.17.0 in /Users/andrewong/opt/anaconda3/lib/python3.8/site-packages (from gensim) (1.21.4)\n"
     ]
    }
   ],
   "source": [
    "!pip install pyLDAvis\n",
    "!pip install gensim"
   ]
  },
  {
   "cell_type": "code",
   "execution_count": 2,
   "id": "0cee98fc",
   "metadata": {},
   "outputs": [],
   "source": [
    "import re\n",
    "import numpy as np\n",
    "import pandas as  pd\n",
    "from pprint import pprint# Gensim\n",
    "import gensim\n",
    "import gensim.corpora as corpora\n",
    "from gensim.utils import simple_preprocess\n",
    "from gensim.models import CoherenceModel\n",
    "import spacy\n",
    "import pyLDAvis\n",
    "import pyLDAvis.gensim_models as gensimvis\n",
    "import matplotlib.pyplot as plt"
   ]
  },
  {
   "cell_type": "code",
   "execution_count": 3,
   "id": "fab4fcfa",
   "metadata": {},
   "outputs": [
    {
     "name": "stderr",
     "output_type": "stream",
     "text": [
      "/Users/andrewong/opt/anaconda3/lib/python3.8/site-packages/ipykernel/ipkernel.py:287: DeprecationWarning: `should_run_async` will not call `transform_cell` automatically in the future. Please pass the result to `transformed_cell` argument and any exception that happen during thetransform in `preprocessing_exc_tuple` in IPython 7.17 and above.\n",
      "  and should_run_async(code)\n"
     ]
    }
   ],
   "source": [
    "# NLTK Stop words\n",
    "from nltk.corpus import stopwords\n",
    "stop_words = stopwords.words('english')\n",
    "stop_words.extend(['from', 'subject', 're', 'edu', 'use'])"
   ]
  },
  {
   "cell_type": "code",
   "execution_count": 4,
   "id": "644ceaa7",
   "metadata": {},
   "outputs": [
    {
     "name": "stderr",
     "output_type": "stream",
     "text": [
      "/Users/andrewong/opt/anaconda3/lib/python3.8/site-packages/ipykernel/ipkernel.py:287: DeprecationWarning: `should_run_async` will not call `transform_cell` automatically in the future. Please pass the result to `transformed_cell` argument and any exception that happen during thetransform in `preprocessing_exc_tuple` in IPython 7.17 and above.\n",
      "  and should_run_async(code)\n"
     ]
    },
    {
     "name": "stdout",
     "output_type": "stream",
     "text": [
      "['rec.autos' 'comp.sys.mac.hardware' 'comp.graphics' 'sci.space'\n",
      " 'talk.politics.guns' 'sci.med' 'comp.sys.ibm.pc.hardware'\n",
      " 'comp.os.ms-windows.misc' 'rec.motorcycles' 'talk.religion.misc'\n",
      " 'misc.forsale' 'alt.atheism' 'sci.electronics' 'comp.windows.x'\n",
      " 'rec.sport.hockey' 'rec.sport.baseball' 'soc.religion.christian'\n",
      " 'talk.politics.mideast' 'talk.politics.misc' 'sci.crypt']\n"
     ]
    },
    {
     "data": {
      "text/html": [
       "<div>\n",
       "<style scoped>\n",
       "    .dataframe tbody tr th:only-of-type {\n",
       "        vertical-align: middle;\n",
       "    }\n",
       "\n",
       "    .dataframe tbody tr th {\n",
       "        vertical-align: top;\n",
       "    }\n",
       "\n",
       "    .dataframe thead th {\n",
       "        text-align: right;\n",
       "    }\n",
       "</style>\n",
       "<table border=\"1\" class=\"dataframe\">\n",
       "  <thead>\n",
       "    <tr style=\"text-align: right;\">\n",
       "      <th></th>\n",
       "      <th>content</th>\n",
       "      <th>target</th>\n",
       "      <th>target_names</th>\n",
       "    </tr>\n",
       "  </thead>\n",
       "  <tbody>\n",
       "    <tr>\n",
       "      <th>0</th>\n",
       "      <td>From: lerxst@wam.umd.edu (where's my thing)\\nS...</td>\n",
       "      <td>7</td>\n",
       "      <td>rec.autos</td>\n",
       "    </tr>\n",
       "    <tr>\n",
       "      <th>1</th>\n",
       "      <td>From: guykuo@carson.u.washington.edu (Guy Kuo)...</td>\n",
       "      <td>4</td>\n",
       "      <td>comp.sys.mac.hardware</td>\n",
       "    </tr>\n",
       "    <tr>\n",
       "      <th>2</th>\n",
       "      <td>From: twillis@ec.ecn.purdue.edu (Thomas E Will...</td>\n",
       "      <td>4</td>\n",
       "      <td>comp.sys.mac.hardware</td>\n",
       "    </tr>\n",
       "    <tr>\n",
       "      <th>3</th>\n",
       "      <td>From: jgreen@amber (Joe Green)\\nSubject: Re: W...</td>\n",
       "      <td>1</td>\n",
       "      <td>comp.graphics</td>\n",
       "    </tr>\n",
       "    <tr>\n",
       "      <th>4</th>\n",
       "      <td>From: jcm@head-cfa.harvard.edu (Jonathan McDow...</td>\n",
       "      <td>14</td>\n",
       "      <td>sci.space</td>\n",
       "    </tr>\n",
       "  </tbody>\n",
       "</table>\n",
       "</div>"
      ],
      "text/plain": [
       "                                             content  target  \\\n",
       "0  From: lerxst@wam.umd.edu (where's my thing)\\nS...       7   \n",
       "1  From: guykuo@carson.u.washington.edu (Guy Kuo)...       4   \n",
       "2  From: twillis@ec.ecn.purdue.edu (Thomas E Will...       4   \n",
       "3  From: jgreen@amber (Joe Green)\\nSubject: Re: W...       1   \n",
       "4  From: jcm@head-cfa.harvard.edu (Jonathan McDow...      14   \n",
       "\n",
       "            target_names  \n",
       "0              rec.autos  \n",
       "1  comp.sys.mac.hardware  \n",
       "2  comp.sys.mac.hardware  \n",
       "3          comp.graphics  \n",
       "4              sci.space  "
      ]
     },
     "execution_count": 4,
     "metadata": {},
     "output_type": "execute_result"
    }
   ],
   "source": [
    "# LoadDataset\n",
    "df=pd.read_json('newsgroups.json')\n",
    "print(df.target_names.unique())\n",
    "df.head()"
   ]
  },
  {
   "cell_type": "code",
   "execution_count": 5,
   "id": "14cc9dd2",
   "metadata": {},
   "outputs": [
    {
     "name": "stderr",
     "output_type": "stream",
     "text": [
      "/Users/andrewong/opt/anaconda3/lib/python3.8/site-packages/ipykernel/ipkernel.py:287: DeprecationWarning: `should_run_async` will not call `transform_cell` automatically in the future. Please pass the result to `transformed_cell` argument and any exception that happen during thetransform in `preprocessing_exc_tuple` in IPython 7.17 and above.\n",
      "  and should_run_async(code)\n"
     ]
    },
    {
     "data": {
      "text/plain": [
       "(11314, 3)"
      ]
     },
     "execution_count": 5,
     "metadata": {},
     "output_type": "execute_result"
    }
   ],
   "source": [
    "df.shape"
   ]
  },
  {
   "cell_type": "markdown",
   "id": "ef3935f1",
   "metadata": {},
   "source": [
    "### Initial Data Cleaning"
   ]
  },
  {
   "cell_type": "code",
   "execution_count": 6,
   "id": "c4eb680d",
   "metadata": {},
   "outputs": [
    {
     "name": "stderr",
     "output_type": "stream",
     "text": [
      "/Users/andrewong/opt/anaconda3/lib/python3.8/site-packages/ipykernel/ipkernel.py:287: DeprecationWarning: `should_run_async` will not call `transform_cell` automatically in the future. Please pass the result to `transformed_cell` argument and any exception that happen during thetransform in `preprocessing_exc_tuple` in IPython 7.17 and above.\n",
      "  and should_run_async(code)\n",
      "<>:4: DeprecationWarning: invalid escape sequence \\S\n",
      "<>:4: DeprecationWarning: invalid escape sequence \\S\n",
      "<ipython-input-6-8f3308331d1f>:4: DeprecationWarning: invalid escape sequence \\S\n",
      "  data = [re.sub('\\S*@\\S*\\s?', '', sent) for sent in data]\n"
     ]
    }
   ],
   "source": [
    "# Convert to list \n",
    "data = df.content.values.tolist()  \n",
    "# Remove Emails \n",
    "data = [re.sub('\\S*@\\S*\\s?', '', sent) for sent in data]  "
   ]
  },
  {
   "cell_type": "code",
   "execution_count": 7,
   "id": "5792afd4",
   "metadata": {},
   "outputs": [
    {
     "name": "stderr",
     "output_type": "stream",
     "text": [
      "/Users/andrewong/opt/anaconda3/lib/python3.8/site-packages/ipykernel/ipkernel.py:287: DeprecationWarning: `should_run_async` will not call `transform_cell` automatically in the future. Please pass the result to `transformed_cell` argument and any exception that happen during thetransform in `preprocessing_exc_tuple` in IPython 7.17 and above.\n",
      "  and should_run_async(code)\n",
      "<>:2: DeprecationWarning: invalid escape sequence \\s\n",
      "<>:2: DeprecationWarning: invalid escape sequence \\s\n",
      "<ipython-input-7-0a57aa22e879>:2: DeprecationWarning: invalid escape sequence \\s\n",
      "  data = [re.sub('\\s+', ' ', sent) for sent in data]\n"
     ]
    }
   ],
   "source": [
    "# Remove new line characters \n",
    "data = [re.sub('\\s+', ' ', sent) for sent in data]  "
   ]
  },
  {
   "cell_type": "code",
   "execution_count": 8,
   "id": "00c3910d",
   "metadata": {},
   "outputs": [
    {
     "name": "stdout",
     "output_type": "stream",
     "text": [
      "['From: (wheres my thing) Subject: WHAT car is this!? Nntp-Posting-Host: '\n",
      " 'rac3.wam.umd.edu Organization: University of Maryland, College Park Lines: '\n",
      " '15 I was wondering if anyone out there could enlighten me on this car I saw '\n",
      " 'the other day. It was a 2-door sports car, looked to be from the late 60s/ '\n",
      " 'early 70s. It was called a Bricklin. The doors were really small. In '\n",
      " 'addition, the front bumper was separate from the rest of the body. This is '\n",
      " 'all I know. If anyone can tellme a model name, engine specs, years of '\n",
      " 'production, where this car is made, history, or whatever info you have on '\n",
      " 'this funky looking car, please e-mail. Thanks, - IL ---- brought to you by '\n",
      " 'your neighborhood Lerxst ---- ']\n"
     ]
    },
    {
     "name": "stderr",
     "output_type": "stream",
     "text": [
      "/Users/andrewong/opt/anaconda3/lib/python3.8/site-packages/ipykernel/ipkernel.py:287: DeprecationWarning: `should_run_async` will not call `transform_cell` automatically in the future. Please pass the result to `transformed_cell` argument and any exception that happen during thetransform in `preprocessing_exc_tuple` in IPython 7.17 and above.\n",
      "  and should_run_async(code)\n"
     ]
    }
   ],
   "source": [
    "# Remove distracting single quotes \n",
    "data = [re.sub(\"\\'\", \"\", sent) for sent in data]  \n",
    "pprint(data[:1])"
   ]
  },
  {
   "cell_type": "markdown",
   "id": "157d4434",
   "metadata": {},
   "source": [
    "### Tokenization"
   ]
  },
  {
   "cell_type": "code",
   "execution_count": 9,
   "id": "ada6bdec",
   "metadata": {},
   "outputs": [
    {
     "name": "stderr",
     "output_type": "stream",
     "text": [
      "/Users/andrewong/opt/anaconda3/lib/python3.8/site-packages/ipykernel/ipkernel.py:287: DeprecationWarning: `should_run_async` will not call `transform_cell` automatically in the future. Please pass the result to `transformed_cell` argument and any exception that happen during thetransform in `preprocessing_exc_tuple` in IPython 7.17 and above.\n",
      "  and should_run_async(code)\n"
     ]
    },
    {
     "name": "stdout",
     "output_type": "stream",
     "text": [
      "[['from', 'wheres', 'my', 'thing', 'subject', 'what', 'car', 'is', 'this', 'nntp', 'posting', 'host', 'rac', 'wam', 'umd', 'edu', 'organization', 'university', 'of', 'maryland', 'college', 'park', 'lines', 'was', 'wondering', 'if', 'anyone', 'out', 'there', 'could', 'enlighten', 'me', 'on', 'this', 'car', 'saw', 'the', 'other', 'day', 'it', 'was', 'door', 'sports', 'car', 'looked', 'to', 'be', 'from', 'the', 'late', 'early', 'it', 'was', 'called', 'bricklin', 'the', 'doors', 'were', 'really', 'small', 'in', 'addition', 'the', 'front', 'bumper', 'was', 'separate', 'from', 'the', 'rest', 'of', 'the', 'body', 'this', 'is', 'all', 'know', 'if', 'anyone', 'can', 'tellme', 'model', 'name', 'engine', 'specs', 'years', 'of', 'production', 'where', 'this', 'car', 'is', 'made', 'history', 'or', 'whatever', 'info', 'you', 'have', 'on', 'this', 'funky', 'looking', 'car', 'please', 'mail', 'thanks', 'il', 'brought', 'to', 'you', 'by', 'your', 'neighborhood', 'lerxst']]\n"
     ]
    }
   ],
   "source": [
    "def sent_to_words(sentences):\n",
    "    for sentence in sentences:\n",
    "        yield(gensim.utils.simple_preprocess(str(sentence), deacc=True))            #deacc=True removes punctuations\n",
    "        \n",
    "data_words = list(sent_to_words(data))\n",
    "print(data_words[:1])"
   ]
  },
  {
   "cell_type": "markdown",
   "id": "beb0d83c",
   "metadata": {},
   "source": [
    "### Build the bigram and trigram models"
   ]
  },
  {
   "cell_type": "code",
   "execution_count": 10,
   "id": "3751fd71",
   "metadata": {},
   "outputs": [
    {
     "name": "stderr",
     "output_type": "stream",
     "text": [
      "/Users/andrewong/opt/anaconda3/lib/python3.8/site-packages/ipykernel/ipkernel.py:287: DeprecationWarning: `should_run_async` will not call `transform_cell` automatically in the future. Please pass the result to `transformed_cell` argument and any exception that happen during thetransform in `preprocessing_exc_tuple` in IPython 7.17 and above.\n",
      "  and should_run_async(code)\n"
     ]
    }
   ],
   "source": [
    "bigram = gensim.models.Phrases(data_words, min_count=5, threshold=100) # higher threshold fewer phrases.\n",
    "trigram = gensim.models.Phrases(bigram[data_words], threshold=100)"
   ]
  },
  {
   "cell_type": "code",
   "execution_count": 11,
   "id": "fb776e78",
   "metadata": {},
   "outputs": [
    {
     "name": "stderr",
     "output_type": "stream",
     "text": [
      "/Users/andrewong/opt/anaconda3/lib/python3.8/site-packages/ipykernel/ipkernel.py:287: DeprecationWarning: `should_run_async` will not call `transform_cell` automatically in the future. Please pass the result to `transformed_cell` argument and any exception that happen during thetransform in `preprocessing_exc_tuple` in IPython 7.17 and above.\n",
      "  and should_run_async(code)\n"
     ]
    },
    {
     "name": "stdout",
     "output_type": "stream",
     "text": [
      "['from', 'wheres', 'my', 'thing', 'subject', 'what', 'car', 'is', 'this', 'nntp_posting_host', 'rac_wam_umd_edu', 'organization', 'university', 'of', 'maryland_college_park', 'lines', 'was', 'wondering', 'if', 'anyone', 'out', 'there', 'could', 'enlighten', 'me', 'on', 'this', 'car', 'saw', 'the', 'other', 'day', 'it', 'was', 'door', 'sports', 'car', 'looked', 'to', 'be', 'from', 'the', 'late', 'early', 'it', 'was', 'called', 'bricklin', 'the', 'doors', 'were', 'really', 'small', 'in', 'addition', 'the', 'front_bumper', 'was', 'separate', 'from', 'the', 'rest', 'of', 'the', 'body', 'this', 'is', 'all', 'know', 'if', 'anyone', 'can', 'tellme', 'model', 'name', 'engine', 'specs', 'years', 'of', 'production', 'where', 'this', 'car', 'is', 'made', 'history', 'or', 'whatever', 'info', 'you', 'have', 'on', 'this', 'funky', 'looking', 'car', 'please', 'mail', 'thanks', 'il', 'brought', 'to', 'you', 'by', 'your', 'neighborhood', 'lerxst']\n"
     ]
    }
   ],
   "source": [
    "# Faster way to get a sentence clubbed as a trigram/bigram\n",
    "bigram_mod = gensim.models.phrases.Phraser(bigram)\n",
    "trigram_mod = gensim.models.phrases.Phraser(trigram)\n",
    "# See trigram example\n",
    "print(trigram_mod[bigram_mod[data_words[0]]])"
   ]
  },
  {
   "cell_type": "markdown",
   "id": "3574af38",
   "metadata": {},
   "source": [
    "### Define function for stopwords, bigrams, trigrams and lemmatization"
   ]
  },
  {
   "cell_type": "code",
   "execution_count": 12,
   "id": "45925a06",
   "metadata": {},
   "outputs": [
    {
     "name": "stderr",
     "output_type": "stream",
     "text": [
      "/Users/andrewong/opt/anaconda3/lib/python3.8/site-packages/ipykernel/ipkernel.py:287: DeprecationWarning: `should_run_async` will not call `transform_cell` automatically in the future. Please pass the result to `transformed_cell` argument and any exception that happen during thetransform in `preprocessing_exc_tuple` in IPython 7.17 and above.\n",
      "  and should_run_async(code)\n"
     ]
    }
   ],
   "source": [
    "def remove_stopwords(texts):\n",
    "    return [[word for word in simple_preprocess(str(doc)) if word not in stop_words] for doc in texts]\n",
    "\n",
    "def make_bigrams(texts):\n",
    "    return [bigram_mod[doc] for doc in texts]\n",
    "\n",
    "def make_trigrams(texts):\n",
    "    return [trigram_mod[bigram_mod[doc]] for doc in texts]\n",
    "\n",
    "def lemmatization(texts, allowed_postags=['NOUN', 'ADJ', 'VERB', 'ADV']):\n",
    "    \"\"\"https://spacy.io/api/annotation\"\"\"\n",
    "    texts_out = []\n",
    "    for sent in texts:\n",
    "        doc = nlp(\" \".join(sent)) \n",
    "        texts_out.append([token.lemma_ for token in doc if token.pos_ in allowed_postags])\n",
    "    return texts_out"
   ]
  },
  {
   "cell_type": "code",
   "execution_count": 13,
   "id": "662ee652",
   "metadata": {},
   "outputs": [
    {
     "name": "stderr",
     "output_type": "stream",
     "text": [
      "/Users/andrewong/opt/anaconda3/lib/python3.8/site-packages/ipykernel/ipkernel.py:287: DeprecationWarning: `should_run_async` will not call `transform_cell` automatically in the future. Please pass the result to `transformed_cell` argument and any exception that happen during thetransform in `preprocessing_exc_tuple` in IPython 7.17 and above.\n",
      "  and should_run_async(code)\n"
     ]
    }
   ],
   "source": [
    "# Remove Stop Words\n",
    "data_words_nostops = remove_stopwords(data_words)"
   ]
  },
  {
   "cell_type": "code",
   "execution_count": 14,
   "id": "41c9cb38",
   "metadata": {},
   "outputs": [
    {
     "name": "stderr",
     "output_type": "stream",
     "text": [
      "/Users/andrewong/opt/anaconda3/lib/python3.8/site-packages/ipykernel/ipkernel.py:287: DeprecationWarning: `should_run_async` will not call `transform_cell` automatically in the future. Please pass the result to `transformed_cell` argument and any exception that happen during thetransform in `preprocessing_exc_tuple` in IPython 7.17 and above.\n",
      "  and should_run_async(code)\n"
     ]
    }
   ],
   "source": [
    "# Form Bigrams\n",
    "data_words_bigrams = make_bigrams(data_words_nostops)"
   ]
  },
  {
   "cell_type": "code",
   "execution_count": 15,
   "id": "6694b4b9",
   "metadata": {},
   "outputs": [
    {
     "name": "stderr",
     "output_type": "stream",
     "text": [
      "/Users/andrewong/opt/anaconda3/lib/python3.8/site-packages/ipykernel/ipkernel.py:287: DeprecationWarning: `should_run_async` will not call `transform_cell` automatically in the future. Please pass the result to `transformed_cell` argument and any exception that happen during thetransform in `preprocessing_exc_tuple` in IPython 7.17 and above.\n",
      "  and should_run_async(code)\n"
     ]
    }
   ],
   "source": [
    "# Initialize spacy 'en' model, keeping only tagger component (for efficiency)\n",
    "# python3 -m spacy download en\n",
    "nlp = spacy.load('en_core_web_sm', disable=['parser', 'ner'])"
   ]
  },
  {
   "cell_type": "code",
   "execution_count": 16,
   "id": "6fbdc302",
   "metadata": {},
   "outputs": [
    {
     "name": "stderr",
     "output_type": "stream",
     "text": [
      "/Users/andrewong/opt/anaconda3/lib/python3.8/site-packages/ipykernel/ipkernel.py:287: DeprecationWarning: `should_run_async` will not call `transform_cell` automatically in the future. Please pass the result to `transformed_cell` argument and any exception that happen during thetransform in `preprocessing_exc_tuple` in IPython 7.17 and above.\n",
      "  and should_run_async(code)\n"
     ]
    },
    {
     "name": "stdout",
     "output_type": "stream",
     "text": [
      "[['s', 'thing', 'car', 'nntp_poste', 'host', 'umd', 'organization', 'park', 'line', 'wonder', 'enlighten', 'car', 'see', 'day', 'door', 'sport', 'car', 'look', 'late', 'early', 'call', 'bricklin', 'door', 'really', 'small', 'addition', 'separate', 'rest', 'body', 'know', 'tellme', 'model', 'name', 'engine', 'spec', 'year', 'production', 'car', 'make', 'history', 'info', 'funky', 'look', 'car', 'mail', 'thank', 'bring', 'neighborhood', 'lerxst']]\n"
     ]
    }
   ],
   "source": [
    "# Do lemmatization keeping only noun, adj, vb, adv\n",
    "data_lemmatized = lemmatization(data_words_bigrams, allowed_postags=['NOUN', 'ADJ', 'VERB', 'ADV'])\n",
    "print(data_lemmatized[:1])"
   ]
  },
  {
   "cell_type": "code",
   "execution_count": 17,
   "id": "5b4694a8",
   "metadata": {},
   "outputs": [
    {
     "name": "stderr",
     "output_type": "stream",
     "text": [
      "/Users/andrewong/opt/anaconda3/lib/python3.8/site-packages/ipykernel/ipkernel.py:287: DeprecationWarning: `should_run_async` will not call `transform_cell` automatically in the future. Please pass the result to `transformed_cell` argument and any exception that happen during thetransform in `preprocessing_exc_tuple` in IPython 7.17 and above.\n",
      "  and should_run_async(code)\n"
     ]
    }
   ],
   "source": [
    "# Create Dictionary \n",
    "id2word = corpora.Dictionary(data_lemmatized)  "
   ]
  },
  {
   "cell_type": "code",
   "execution_count": 18,
   "id": "93dba04a",
   "metadata": {},
   "outputs": [
    {
     "name": "stderr",
     "output_type": "stream",
     "text": [
      "/Users/andrewong/opt/anaconda3/lib/python3.8/site-packages/ipykernel/ipkernel.py:287: DeprecationWarning: `should_run_async` will not call `transform_cell` automatically in the future. Please pass the result to `transformed_cell` argument and any exception that happen during thetransform in `preprocessing_exc_tuple` in IPython 7.17 and above.\n",
      "  and should_run_async(code)\n"
     ]
    }
   ],
   "source": [
    "# Create Corpus \n",
    "texts = data_lemmatized "
   ]
  },
  {
   "cell_type": "code",
   "execution_count": 19,
   "id": "813f76d2",
   "metadata": {},
   "outputs": [
    {
     "name": "stderr",
     "output_type": "stream",
     "text": [
      "/Users/andrewong/opt/anaconda3/lib/python3.8/site-packages/ipykernel/ipkernel.py:287: DeprecationWarning: `should_run_async` will not call `transform_cell` automatically in the future. Please pass the result to `transformed_cell` argument and any exception that happen during thetransform in `preprocessing_exc_tuple` in IPython 7.17 and above.\n",
      "  and should_run_async(code)\n"
     ]
    }
   ],
   "source": [
    "# Term Document Frequency \n",
    "corpus = [id2word.doc2bow(text) for text in texts]  "
   ]
  },
  {
   "cell_type": "code",
   "execution_count": 20,
   "id": "0f2578e2",
   "metadata": {},
   "outputs": [
    {
     "name": "stdout",
     "output_type": "stream",
     "text": [
      "[[(0, 1), (1, 1), (2, 1), (3, 1), (4, 1), (5, 5), (6, 1), (7, 2), (8, 1), (9, 1), (10, 1), (11, 1), (12, 1), (13, 1), (14, 1), (15, 1), (16, 1), (17, 1), (18, 1), (19, 2), (20, 1), (21, 1), (22, 1), (23, 1), (24, 1), (25, 1), (26, 1), (27, 1), (28, 1), (29, 1), (30, 1), (31, 1), (32, 1), (33, 1), (34, 1), (35, 1), (36, 1), (37, 1), (38, 1), (39, 1), (40, 1), (41, 1), (42, 1)]]\n"
     ]
    },
    {
     "name": "stderr",
     "output_type": "stream",
     "text": [
      "/Users/andrewong/opt/anaconda3/lib/python3.8/site-packages/ipykernel/ipkernel.py:287: DeprecationWarning: `should_run_async` will not call `transform_cell` automatically in the future. Please pass the result to `transformed_cell` argument and any exception that happen during thetransform in `preprocessing_exc_tuple` in IPython 7.17 and above.\n",
      "  and should_run_async(code)\n"
     ]
    }
   ],
   "source": [
    "# View \n",
    "print(corpus[:1])"
   ]
  },
  {
   "cell_type": "code",
   "execution_count": 21,
   "id": "915256db",
   "metadata": {
    "scrolled": true
   },
   "outputs": [
    {
     "name": "stderr",
     "output_type": "stream",
     "text": [
      "/Users/andrewong/opt/anaconda3/lib/python3.8/site-packages/ipykernel/ipkernel.py:287: DeprecationWarning: `should_run_async` will not call `transform_cell` automatically in the future. Please pass the result to `transformed_cell` argument and any exception that happen during thetransform in `preprocessing_exc_tuple` in IPython 7.17 and above.\n",
      "  and should_run_async(code)\n"
     ]
    },
    {
     "data": {
      "text/plain": [
       "[[('addition', 1),\n",
       "  ('body', 1),\n",
       "  ('bricklin', 1),\n",
       "  ('bring', 1),\n",
       "  ('call', 1),\n",
       "  ('car', 5),\n",
       "  ('day', 1),\n",
       "  ('door', 2),\n",
       "  ('early', 1),\n",
       "  ('engine', 1),\n",
       "  ('enlighten', 1),\n",
       "  ('funky', 1),\n",
       "  ('history', 1),\n",
       "  ('host', 1),\n",
       "  ('info', 1),\n",
       "  ('know', 1),\n",
       "  ('late', 1),\n",
       "  ('lerxst', 1),\n",
       "  ('line', 1),\n",
       "  ('look', 2),\n",
       "  ('mail', 1),\n",
       "  ('make', 1),\n",
       "  ('model', 1),\n",
       "  ('name', 1),\n",
       "  ('neighborhood', 1),\n",
       "  ('nntp_poste', 1),\n",
       "  ('organization', 1),\n",
       "  ('park', 1),\n",
       "  ('production', 1),\n",
       "  ('really', 1),\n",
       "  ('rest', 1),\n",
       "  ('s', 1),\n",
       "  ('see', 1),\n",
       "  ('separate', 1),\n",
       "  ('small', 1),\n",
       "  ('spec', 1),\n",
       "  ('sport', 1),\n",
       "  ('tellme', 1),\n",
       "  ('thank', 1),\n",
       "  ('thing', 1),\n",
       "  ('umd', 1),\n",
       "  ('wonder', 1),\n",
       "  ('year', 1)]]"
      ]
     },
     "execution_count": 21,
     "metadata": {},
     "output_type": "execute_result"
    }
   ],
   "source": [
    "[[(id2word[id], freq) for id, freq in cp] for cp in corpus[:1]]"
   ]
  },
  {
   "cell_type": "code",
   "execution_count": 22,
   "id": "f7de87e1",
   "metadata": {},
   "outputs": [
    {
     "name": "stderr",
     "output_type": "stream",
     "text": [
      "/Users/andrewong/opt/anaconda3/lib/python3.8/site-packages/ipykernel/ipkernel.py:287: DeprecationWarning: `should_run_async` will not call `transform_cell` automatically in the future. Please pass the result to `transformed_cell` argument and any exception that happen during thetransform in `preprocessing_exc_tuple` in IPython 7.17 and above.\n",
      "  and should_run_async(code)\n"
     ]
    }
   ],
   "source": [
    "lda_model = gensim.models.ldamodel.LdaModel(corpus=corpus,\n",
    "                                           id2word=id2word,\n",
    "                                           num_topics=8, \n",
    "                                           random_state=100,\n",
    "                                           update_every=1,\n",
    "                                           chunksize=100,\n",
    "                                           passes=10,\n",
    "                                           alpha='auto',\n",
    "                                           per_word_topics=True)"
   ]
  },
  {
   "cell_type": "code",
   "execution_count": 23,
   "id": "6b4f9cce",
   "metadata": {},
   "outputs": [
    {
     "name": "stdout",
     "output_type": "stream",
     "text": [
      "[(0,\n",
      "  '0.032*\"sale\" + 0.030*\"physical\" + 0.019*\"server\" + 0.016*\"item\" + '\n",
      "  '0.014*\"sell\" + 0.014*\"wing\" + 0.012*\"box\" + 0.012*\"direct\" + 0.012*\"nhl\" + '\n",
      "  '0.011*\"recommend\"'),\n",
      " (1,\n",
      "  '0.022*\"line\" + 0.011*\"organization\" + 0.011*\"use\" + 0.010*\"nntp_poste\" + '\n",
      "  '0.010*\"host\" + 0.010*\"get\" + 0.009*\"system\" + 0.008*\"drive\" + 0.008*\"need\" '\n",
      "  '+ 0.007*\"thank\"'),\n",
      " (2,\n",
      "  '0.015*\"write\" + 0.014*\"say\" + 0.011*\"people\" + 0.011*\"think\" + '\n",
      "  '0.011*\"article\" + 0.010*\"know\" + 0.010*\"make\" + 0.009*\"line\" + 0.008*\"go\" + '\n",
      "  '0.007*\"see\"'),\n",
      " (3,\n",
      "  '0.014*\"line\" + 0.014*\"go\" + 0.014*\"get\" + 0.014*\"year\" + 0.013*\"team\" + '\n",
      "  '0.013*\"game\" + 0.012*\"car\" + 0.009*\"good\" + 0.009*\"organization\" + '\n",
      "  '0.009*\"write\"'),\n",
      " (4,\n",
      "  '0.575*\"ax\" + 0.057*\"_\" + 0.018*\"c\" + 0.010*\"cx\" + 0.008*\"rlk\" + 0.005*\"sj\" '\n",
      "  '+ 0.005*\"m\" + 0.003*\"mf\" + 0.003*\"nei\" + 0.003*\"mu\"'),\n",
      " (5,\n",
      "  '0.015*\"government\" + 0.014*\"gun\" + 0.014*\"child\" + 0.013*\"kill\" + '\n",
      "  '0.013*\"law\" + 0.011*\"state\" + 0.011*\"people\" + 0.009*\"death\" + '\n",
      "  '0.008*\"right\" + 0.008*\"public\"'),\n",
      " (6,\n",
      "  '0.018*\"space\" + 0.009*\"israeli\" + 0.008*\"greek\" + 0.008*\"lebanese\" + '\n",
      "  '0.008*\"armenian\" + 0.008*\"village\" + 0.008*\"government\" + 0.007*\"first\" + '\n",
      "  '0.007*\"launch\" + 0.006*\"soldier\"'),\n",
      " (7,\n",
      "  '0.008*\"test\" + 0.007*\"high\" + 0.006*\"research\" + 0.006*\"year\" + '\n",
      "  '0.005*\"power\" + 0.005*\"report\" + 0.005*\"increase\" + 0.005*\"wire\" + '\n",
      "  '0.005*\"effect\" + 0.005*\"low\"')]\n"
     ]
    },
    {
     "name": "stderr",
     "output_type": "stream",
     "text": [
      "/Users/andrewong/opt/anaconda3/lib/python3.8/site-packages/ipykernel/ipkernel.py:287: DeprecationWarning: `should_run_async` will not call `transform_cell` automatically in the future. Please pass the result to `transformed_cell` argument and any exception that happen during thetransform in `preprocessing_exc_tuple` in IPython 7.17 and above.\n",
      "  and should_run_async(code)\n"
     ]
    }
   ],
   "source": [
    "# Print the keyword of topics\n",
    "pprint(lda_model.print_topics())\n",
    "doc_lda = lda_model[corpus]"
   ]
  },
  {
   "cell_type": "code",
   "execution_count": 24,
   "id": "a056cfe3",
   "metadata": {},
   "outputs": [
    {
     "name": "stderr",
     "output_type": "stream",
     "text": [
      "/Users/andrewong/opt/anaconda3/lib/python3.8/site-packages/ipykernel/ipkernel.py:287: DeprecationWarning: `should_run_async` will not call `transform_cell` automatically in the future. Please pass the result to `transformed_cell` argument and any exception that happen during thetransform in `preprocessing_exc_tuple` in IPython 7.17 and above.\n",
      "  and should_run_async(code)\n"
     ]
    },
    {
     "name": "stdout",
     "output_type": "stream",
     "text": [
      "\n",
      "Perplexity:  -8.341445130270714\n",
      "\n",
      "Coherence Score:  0.46851123719778365\n"
     ]
    }
   ],
   "source": [
    "# Compute Perplexity\n",
    "print('\\nPerplexity: ', lda_model.log_perplexity(corpus))  \n",
    "# a measure of how good the model is. lower the better.\n",
    "\n",
    "# Compute Coherence Score\n",
    "coherence_model_lda = CoherenceModel(model=lda_model, texts=data_lemmatized, dictionary=id2word, coherence='c_v')\n",
    "coherence_lda = coherence_model_lda.get_coherence()\n",
    "print('\\nCoherence Score: ', coherence_lda)"
   ]
  },
  {
   "cell_type": "markdown",
   "id": "2e87c1e4",
   "metadata": {},
   "source": [
    "### Visualize the topics"
   ]
  },
  {
   "cell_type": "code",
   "execution_count": 25,
   "id": "907d7251",
   "metadata": {},
   "outputs": [
    {
     "name": "stderr",
     "output_type": "stream",
     "text": [
      "/Users/andrewong/opt/anaconda3/lib/python3.8/site-packages/ipykernel/ipkernel.py:287: DeprecationWarning: `should_run_async` will not call `transform_cell` automatically in the future. Please pass the result to `transformed_cell` argument and any exception that happen during thetransform in `preprocessing_exc_tuple` in IPython 7.17 and above.\n",
      "  and should_run_async(code)\n"
     ]
    }
   ],
   "source": [
    "vis = gensimvis.prepare(lda_model, corpus, id2word)"
   ]
  },
  {
   "cell_type": "code",
   "execution_count": 27,
   "id": "2631cc1f",
   "metadata": {},
   "outputs": [
    {
     "name": "stderr",
     "output_type": "stream",
     "text": [
      "/Users/andrewong/opt/anaconda3/lib/python3.8/site-packages/ipykernel/ipkernel.py:287: DeprecationWarning: `should_run_async` will not call `transform_cell` automatically in the future. Please pass the result to `transformed_cell` argument and any exception that happen during thetransform in `preprocessing_exc_tuple` in IPython 7.17 and above.\n",
      "  and should_run_async(code)\n"
     ]
    },
    {
     "data": {
      "text/html": [
       "\n",
       "<link rel=\"stylesheet\" type=\"text/css\" href=\"https://cdn.jsdelivr.net/gh/bmabey/pyLDAvis@3.3.1/pyLDAvis/js/ldavis.v1.0.0.css\">\n",
       "\n",
       "\n",
       "<div id=\"ldavis_el3522870106556964039501038\"></div>\n",
       "<script type=\"text/javascript\">\n",
       "\n",
       "var ldavis_el3522870106556964039501038_data = {\"mdsDat\": {\"x\": [0.25882498641525686, 0.23734308285178574, 0.18901675249867717, 0.020534472713872095, -0.063105186819492, -0.2636918123944939, -0.1324550149401691, -0.24646728032543588], \"y\": [-0.019464005892578434, -0.10329923291172859, -0.0770288342430129, 0.07585817107039187, 0.2586654984289735, -0.19059847171592958, 0.19638586161114777, -0.14051898634726384], \"topics\": [1, 2, 3, 4, 5, 6, 7, 8], \"cluster\": [1, 1, 1, 1, 1, 1, 1, 1], \"Freq\": [35.00736766954032, 26.704902035450107, 11.164278584481172, 9.462282328304427, 6.73507682534561, 4.5596486720939415, 4.27988449186443, 2.0865593929199786]}, \"tinfo\": {\"Term\": [\"ax\", \"_\", \"people\", \"line\", \"go\", \"get\", \"say\", \"think\", \"write\", \"team\", \"year\", \"nntp_poste\", \"game\", \"space\", \"car\", \"host\", \"article\", \"organization\", \"government\", \"law\", \"state\", \"sale\", \"child\", \"gun\", \"c\", \"good\", \"right\", \"physical\", \"kill\", \"first\", \"believe\", \"reason\", \"evidence\", \"claim\", \"christian\", \"sense\", \"faith\", \"understand\", \"god\", \"religion\", \"argument\", \"matter\", \"accept\", \"explain\", \"speak\", \"prove\", \"patient\", \"truth\", \"belief\", \"mind\", \"clear\", \"atheist\", \"certainly\", \"church\", \"valid\", \"statement\", \"conclusion\", \"slave\", \"religious\", \"existence\", \"perhaps\", \"agree\", \"say\", \"opinion\", \"love\", \"mean\", \"talk\", \"life\", \"fact\", \"think\", \"thing\", \"people\", \"true\", \"word\", \"tell\", \"many\", \"make\", \"even\", \"know\", \"write\", \"wrong\", \"come\", \"article\", \"man\", \"see\", \"point\", \"way\", \"take\", \"go\", \"s\", \"time\", \"seem\", \"well\", \"give\", \"line\", \"question\", \"good\", \"want\", \"organization\", \"get\", \"m\", \"key\", \"mail\", \"file\", \"window\", \"card\", \"computer\", \"chip\", \"driver\", \"software\", \"info\", \"email\", \"machine\", \"image\", \"version\", \"code\", \"phone\", \"entry\", \"memory\", \"color\", \"ripem\", \"user\", \"internet\", \"pin\", \"application\", \"screen\", \"hardware\", \"choose\", \"graphic\", \"disk\", \"encryption\", \"thank\", \"drive\", \"copy\", \"program\", \"bit\", \"use\", \"system\", \"available\", \"host\", \"line\", \"nntp_poste\", \"need\", \"com\", \"organization\", \"problem\", \"run\", \"work\", \"get\", \"help\", \"new\", \"send\", \"do\", \"also\", \"write\", \"information\", \"look\", \"know\", \"m\", \"want\", \"article\", \"team\", \"game\", \"car\", \"play\", \"player\", \"hockey\", \"bike\", \"season\", \"hit\", \"trade\", \"fan\", \"engine\", \"ride\", \"score\", \"playoff\", \"pen\", \"capable\", \"motorcycle\", \"baseball\", \"sport\", \"pack\", \"rider\", \"stat\", \"helmet\", \"coach\", \"saturn\", \"dog\", \"ice\", \"winner\", \"ball\", \"win\", \"division\", \"year\", \"pick\", \"goal\", \"owner\", \"next\", \"go\", \"guy\", \"last\", \"get\", \"good\", \"line\", \"big\", \"nntp_poste\", \"well\", \"article\", \"organization\", \"first\", \"run\", \"write\", \"host\", \"s\", \"look\", \"time\", \"back\", \"think\", \"take\", \"see\", \"test\", \"wire\", \"scientific\", \"announce\", \"motif\", \"material\", \"food\", \"treatment\", \"health\", \"dn\", \"doctor\", \"diagnosis\", \"syndrome\", \"significant\", \"convert\", \"cable\", \"tumor\", \"analysis\", \"translation\", \"medical\", \"eeg\", \"procedure\", \"degree\", \"improve\", \"ensure\", \"tube\", \"slightly\", \"los_angele\", \"negative\", \"cap\", \"period\", \"trust\", \"ground\", \"eat\", \"research\", \"effect\", \"increase\", \"reduce\", \"study\", \"level\", \"low\", \"high\", \"report\", \"science\", \"power\", \"risk\", \"result\", \"rate\", \"cost\", \"year\", \"cause\", \"service\", \"information\", \"provide\", \"week\", \"case\", \"also\", \"lead\", \"less\", \"group\", \"include\", \"gun\", \"kill\", \"reality\", \"crime\", \"murder\", \"weapon\", \"police\", \"tv\", \"trial\", \"criminal\", \"firearm\", \"cop\", \"court\", \"examine\", \"militia\", \"father\", \"smoke\", \"illegal\", \"colorado\", \"son\", \"girl\", \"amendment\", \"dream\", \"husband\", \"honest\", \"constitution\", \"possess\", \"gang\", \"cub\", \"liar\", \"child\", \"fire\", \"citizen\", \"legal\", \"government\", \"death\", \"law\", \"drug\", \"black\", \"protect\", \"arm\", \"public\", \"state\", \"carry\", \"safety\", \"right\", \"people\", \"country\", \"shoot\", \"case\", \"person\", \"ax\", \"_\", \"c\", \"cx\", \"rlk\", \"sj\", \"mf\", \"nei\", \"mu\", \"r\", \"ip\", \"sy\", \"conversion\", \"lk\", \"wm\", \"gy\", \"hst\", \"kp\", \"bo\", \"ei\", \"gb\", \"ai\", \"bhj\", \"n\", \"qx\", \"ij\", \"ci\", \"hh\", \"gw\", \"bxn\", \"hz\", \"m\", \"wa\", \"israeli\", \"lebanese\", \"armenian\", \"village\", \"launch\", \"turk\", \"orbit\", \"mission\", \"moon\", \"turkish\", \"arab\", \"occupy\", \"terrorism\", \"withdraw\", \"satellite\", \"international\", \"workstation\", \"rocket\", \"northern\", \"ethnic\", \"cambridge\", \"lebanese_resistance\", \"patrol\", \"astronomy\", \"expansion\", \"inhabitant\", \"border\", \"invasion\", \"sky\", \"russian\", \"greek\", \"space\", \"soldier\", \"land\", \"civilian\", \"attack\", \"earth\", \"war\", \"military\", \"government\", \"force\", \"first\", \"policy\", \"year\", \"center\", \"area\", \"sale\", \"physical\", \"server\", \"item\", \"wing\", \"direct\", \"nhl\", \"recommend\", \"upgrade\", \"gateway\", \"vertical\", \"shuttle\", \"band\", \"cd\", \"probe\", \"floppy\", \"sector\", \"widget\", \"icon\", \"daughter\", \"ethernet\", \"buyer\", \"inch\", \"shipping\", \"human_being\", \"routine\", \"jet\", \"guide\", \"grade\", \"stack\", \"usenet\", \"box\", \"sell\", \"offer\", \"price\", \"select\", \"super\", \"distribution\", \"radio\", \"condition\", \"include\"], \"Freq\": [33697.0, 3365.0, 6058.0, 13780.0, 5835.0, 8027.0, 6746.0, 5630.0, 10460.0, 1882.0, 3682.0, 5419.0, 1801.0, 1395.0, 1754.0, 4874.0, 7469.0, 8053.0, 1678.0, 1581.0, 2230.0, 871.0, 1274.0, 1228.0, 1070.0, 5028.0, 3065.0, 815.0, 1165.0, 2945.0, 2735.653156181414, 2727.8057439761974, 2400.9326324552576, 1658.1074893827395, 1420.6447960528837, 1410.9291968379046, 1160.6518574890897, 907.9812145754717, 875.8636632673455, 854.8477904768544, 841.5266772936759, 829.8590211961667, 826.5172703818611, 813.5035578316614, 791.0662976221839, 788.8618453324127, 751.1813798087716, 733.5248071188927, 710.536499319384, 702.6388490079937, 692.4624107731928, 624.9735133178857, 607.1561158251361, 600.3310150296979, 562.3379102801506, 548.5219596090517, 534.9087424842426, 516.6282009907833, 509.73536518879405, 509.5214210536398, 788.4375716912242, 1031.3319524837639, 6381.6266634522335, 1157.0968435567104, 860.9008274466552, 2156.560654141621, 1309.7283823170228, 1197.2323232698395, 1672.950204267605, 4930.37004485634, 3084.4474741225545, 5107.1168175267, 1240.6146828793592, 1058.5812269985458, 2167.696435899213, 2517.6141177077016, 4562.5881325343325, 2498.90018742136, 4626.165372650764, 6742.915235068895, 1071.8395818384543, 2754.4485989737054, 4870.767429965771, 1414.2925830410002, 3297.4205836917727, 2255.269155691372, 2434.345635408396, 2474.519356849895, 3425.057852648824, 2275.5714273532953, 2931.5541104877316, 1813.360943903206, 2729.70923910229, 2143.7916886529883, 4048.6356476530673, 1908.300592157282, 2496.6750426895255, 2136.052191462076, 2891.941547120614, 2785.16749835615, 2247.374386606092, 2285.077368237719, 2017.4919712496885, 1966.514806609691, 1551.5804340152015, 1520.0277924236027, 1498.1248320126072, 1263.3937957172595, 1201.9094473341531, 1088.2989496117684, 1031.1048314507464, 1018.4198837200191, 996.8573188178046, 926.9207077825188, 904.0508291124875, 881.8786053840269, 879.1250702658008, 824.4848375444572, 799.0455682155168, 779.6964932441995, 771.9789701816479, 752.486032351489, 749.3892244673051, 737.3840287446038, 733.9745589138711, 719.3669639985378, 699.0936500829744, 696.1291161051141, 690.6397090307753, 687.0067722259754, 678.775898528791, 2435.790337026755, 2632.5493311975647, 936.7246419173243, 1875.2566808845606, 1574.0068953847592, 3768.823587051982, 3209.921815271913, 1138.896955694908, 3427.161126027397, 7668.850101367401, 3544.7923508829704, 2584.591528269408, 1049.7086168894543, 3845.1786395344807, 2053.089716736668, 1718.7198238743795, 2150.7756349948363, 3270.430533700643, 1536.2828568441023, 1844.9855376699975, 1259.3243949834966, 1309.3211342404895, 1806.2175343170143, 2415.9495707734413, 1253.9869230728566, 1444.9083620509314, 1683.6300741267312, 1396.5323977464088, 1325.9292221318242, 1312.8566439203296, 1881.8767652987653, 1799.9407991914215, 1753.357689665909, 1291.661924622033, 881.2205443117552, 733.0430462905812, 654.852213033324, 614.7344579341094, 545.2768216698751, 478.4079601229025, 477.22751119564396, 467.93444547649966, 449.0592913310643, 434.9034269174337, 344.3051996791796, 342.0384931554655, 326.97432894171044, 316.0960154401535, 295.92279850281716, 270.39479271476546, 270.51837080521426, 244.558484901414, 234.59550464273926, 225.99943472371987, 225.26727170980627, 216.35518135562, 210.04741948403387, 209.64995478890506, 207.859534297448, 207.365806663673, 1075.049061981151, 442.6959802975554, 1963.2082228722709, 453.61118178393207, 420.94550129191146, 290.4518492542526, 750.7962577238116, 1997.349255691929, 435.94691583583744, 829.5031886382466, 1967.6298359222294, 1337.301717492266, 2057.789951514691, 577.8213465161022, 1163.063726934781, 1059.395859466322, 1285.1417060009217, 1310.2213924625987, 844.0651884282204, 790.4976196465565, 1301.014097990766, 988.2615239573097, 790.7617162335262, 680.838662295758, 732.5451921476348, 601.8964368259788, 699.0059279933771, 623.9462965779851, 607.046387097947, 927.1082082612173, 570.0841657679043, 381.41543246724177, 382.1720367314063, 374.4295371084377, 370.960547478498, 370.04365650043695, 344.78096947236486, 314.0058920850399, 410.3250387053617, 308.51122954962085, 305.4222553638112, 297.9195627891244, 290.4315962022868, 285.8209460451348, 276.1434516187888, 274.82740141239384, 272.1707199275788, 259.80060694222425, 252.93348233926505, 254.0247629965088, 248.7236339244764, 244.53281601706198, 222.4327331140452, 215.4046279766082, 199.1089630995757, 186.6951677368033, 185.2500102638617, 184.44531998552822, 183.54954097658558, 366.6809771750851, 315.72945568595253, 449.7134313432728, 367.23467431821285, 782.1140929156184, 561.5301226184109, 576.5196490116392, 360.7378516712448, 523.4034073086825, 493.5471466055219, 561.3884699429851, 817.6269453821238, 588.5682257161491, 525.1964662445602, 661.0693613548145, 387.71141529531343, 487.1894279053135, 450.08282708462707, 450.72714569144193, 678.7641083543452, 475.76398704048154, 420.581264454179, 510.66514462709944, 487.1691513528135, 422.615574717916, 470.9192786341504, 443.3139134929387, 393.705118903574, 398.9275772174431, 406.4024603304609, 390.87591680726473, 1227.7069845007716, 1164.2798111675424, 503.83168297329615, 489.03537408507844, 486.9358120201009, 433.4245139424823, 432.21174271358984, 361.28581092063826, 342.44022567887714, 332.5801452369749, 300.74813569083125, 299.9480001669326, 275.53976472104785, 275.3080187047168, 232.9826132354926, 220.19917078589424, 217.97759788010154, 214.44301255734865, 209.41428324394238, 205.28901467664167, 202.1779700423422, 198.96964731159898, 197.3257160157915, 195.43453790461328, 194.5655054611861, 187.7424931484137, 186.6335510688751, 180.76791970693, 181.43771951354617, 171.62930168274738, 1214.963513552468, 574.7424163234963, 377.0767107402127, 340.1877519604346, 1257.2783163945207, 798.3225149665009, 1129.3778169710313, 456.2924053568829, 462.8523676989568, 437.62541189599455, 265.60544573185956, 715.0126340089528, 985.5762794107341, 438.5951692975505, 349.82807985210275, 734.4789768673905, 950.5361688617919, 360.89383622866865, 314.6777906717553, 374.7701354032755, 326.9246918094722, 33696.639886505545, 3364.2626969825114, 1069.787651390002, 572.2533892840086, 448.3235786115547, 300.82359752396917, 197.19487809398055, 179.6991766258003, 178.44057357059833, 163.7255619793821, 159.04767435382752, 145.09939670232262, 128.68669703037932, 111.07083260868524, 110.01912872101494, 111.38645226348561, 106.19256194873202, 85.006470655985, 85.27417796852349, 82.9175280138821, 84.5278862642745, 86.61268723851168, 78.7776478203056, 77.48587730629774, 76.79094364821869, 76.218206250118, 74.15344494395589, 76.40397404140569, 69.11558701924002, 61.485993432065776, 95.42763708593183, 269.1149610514423, 86.13516043908977, 518.0665071002907, 441.7841519437318, 433.22267910055047, 425.52000245517513, 364.14716189925764, 339.1386774352541, 321.440067000483, 307.2118662703381, 300.19934174645823, 297.8772898368639, 291.7479755780426, 267.30526726857613, 267.4489849152573, 263.7062033711456, 258.24070580765436, 223.87704794263095, 197.78036983568668, 193.31704027207823, 175.73873252337035, 170.13448722825257, 166.64182818741563, 160.90901836290936, 158.16730323957046, 154.66075917832333, 154.5750537617508, 151.6901845903452, 151.01176556727754, 143.9225019684185, 143.76751234944865, 137.9699014933417, 442.0439709049867, 986.74732695698, 354.0820079527616, 264.3125330078032, 190.25024402974464, 352.800000431752, 353.19485249740194, 289.50129217406965, 240.56533100666934, 420.6613468907183, 266.07167799217035, 376.93595738625237, 207.33045869388548, 347.40011087060486, 241.62986631686323, 245.44112509262885, 870.7659209164585, 814.2117008433921, 512.4160556582323, 422.8929353790422, 385.9393020208304, 329.2766978454909, 322.7377068547215, 299.74219233990425, 265.55831109331893, 257.13195296736853, 194.08921207607088, 153.29644845402845, 149.11640410219988, 145.29500896457668, 145.06179205494942, 143.88130708391367, 142.58446969333698, 134.1239277360981, 135.29217297214566, 132.7849257074396, 131.1278154643428, 129.22692217304726, 127.94447271584447, 121.09248172656554, 120.19287369445806, 118.33775451411331, 117.26129480095179, 111.43971464432263, 104.85431257680207, 101.12166176260611, 190.48324876376557, 332.83443909984777, 386.9945420301705, 244.6372068475432, 276.3821085757955, 162.16833293354944, 128.1160912857148, 180.7241083928548, 139.81348111868613, 143.50503514923037, 146.56067249950996], \"Total\": [33697.0, 3365.0, 6058.0, 13780.0, 5835.0, 8027.0, 6746.0, 5630.0, 10460.0, 1882.0, 3682.0, 5419.0, 1801.0, 1395.0, 1754.0, 4874.0, 7469.0, 8053.0, 1678.0, 1581.0, 2230.0, 871.0, 1274.0, 1228.0, 1070.0, 5028.0, 3065.0, 815.0, 1165.0, 2945.0, 2736.7280277120462, 2728.8811748013845, 2402.007646016941, 1659.1825880597169, 1421.71924280717, 1412.0043815987817, 1161.7264542908608, 909.0563470013881, 876.9381890407046, 855.9223878653848, 842.6015269525213, 830.9343264634414, 827.5925646784808, 814.578522262083, 792.1414031909532, 789.9373110656354, 752.2599048291584, 734.5998353762144, 711.6110986003179, 703.7140582404553, 693.5396608151677, 626.0479669734157, 608.2310064176169, 601.4054135356982, 563.4143500849505, 549.5967812612479, 535.9834467272528, 517.7105444077014, 510.81012714819786, 510.59618618653025, 792.2727543310803, 1044.133853037075, 6746.016418804779, 1184.347144264574, 874.1199899595302, 2262.3324058258063, 1357.8754492081853, 1236.0438044601622, 1758.7634280035325, 5630.311233951036, 3470.2397634712047, 6058.587635469421, 1302.9626530447879, 1097.6531241693629, 2507.090007384466, 3052.041840945899, 6248.414417905063, 3088.123012387355, 6465.516367932185, 10460.671079519663, 1134.2534822344473, 3611.94788685681, 7469.558019788122, 1603.5191397896392, 4644.338828863286, 2896.0685206550147, 3232.131942684349, 3548.6066329011455, 5835.334197255784, 3240.6358435468405, 4785.552680895604, 2339.112109996301, 4565.828481618553, 3162.7509416678363, 13780.523743704161, 2721.9549903688194, 5028.539063206145, 3571.813036472575, 8053.158480320809, 8027.2556189580855, 4437.404950270157, 2286.140857427637, 2018.5559939670218, 1967.5784660374231, 1552.6437271734558, 1521.0918860392837, 1499.1887695439816, 1264.4574638240172, 1202.9728396437233, 1089.362333910216, 1032.1687252344316, 1019.48347950599, 997.9211498677428, 927.9850090665053, 905.1144101915887, 882.9423788443268, 880.1888649777285, 825.5498198347249, 800.1094227747317, 780.7601959070288, 773.044504942679, 753.5499545603368, 750.4532212492472, 738.4477621193961, 735.0386932998216, 720.4306457783057, 700.1573415887289, 697.1979949172307, 691.7029327170005, 688.0701403690334, 679.8392460648702, 2510.758091345033, 2779.9961096459742, 954.1495926691887, 2066.131100974866, 1720.6469647966576, 4765.404397113236, 3978.292960244754, 1243.0561731679875, 4874.305489229284, 13780.523743704161, 5419.039117168402, 3645.7353851752373, 1163.2705064797715, 8053.158480320809, 3164.2547232542433, 2510.141337630618, 3625.492095819366, 8027.2556189580855, 2242.51101651602, 3117.336625869348, 1641.4635620315494, 1859.7380226219384, 4530.950679861297, 10460.671079519663, 1795.469766762944, 3162.300696468083, 6465.516367932185, 4437.404950270157, 3571.813036472575, 7469.558019788122, 1882.9433402818274, 1801.0072229529883, 1754.4244923180613, 1292.7298084712072, 882.2867318909462, 734.1092766999018, 655.9184894493503, 615.8015128536249, 546.3438233912057, 479.47541074510866, 478.2939536901629, 469.0017300160257, 450.125884684713, 435.96963472447334, 345.37133405047473, 343.10600221063015, 328.04998390941995, 317.1624808325499, 296.9889464080544, 271.46133905884085, 271.58664399426846, 245.62504693916142, 235.66264042780838, 227.06573367014084, 226.33355553749107, 217.4237562619067, 211.1143440072413, 210.7164522639483, 208.9279770526969, 208.4332127829289, 1264.985592100268, 528.7354869106697, 3682.533583037381, 565.1375750137591, 517.8005961081743, 320.2108915428408, 1333.0601783448271, 5835.334197255784, 603.3991429053516, 1710.5261858424562, 8027.2556189580855, 5028.539063206145, 13780.523743704161, 1153.9664145676106, 5419.039117168402, 4565.828481618553, 7469.558019788122, 8053.158480320809, 2945.3549274511533, 2510.141337630618, 10460.671079519663, 4874.305489229284, 3240.6358435468405, 3162.300696468083, 4785.552680895604, 1959.5356868889176, 5630.311233951036, 3548.6066329011455, 4644.338828863286, 928.1742463473089, 571.1502870958384, 382.48094806136436, 383.24242138782756, 375.4954159507562, 372.0266423097672, 371.1090773663889, 345.8471893904075, 315.07169858883503, 411.7234389598398, 309.57680847532754, 306.4892313356553, 298.985151906661, 291.49795428556723, 286.88692273653123, 277.2094962248008, 275.90033599424504, 273.2367301330275, 260.86644383023236, 253.9989875342567, 255.09644810801794, 249.78935839652212, 245.5986815247887, 223.499196508732, 216.47149313628063, 200.17514853252132, 187.76200369777374, 186.3160200605691, 185.51191444304314, 184.6167031418809, 369.93320441763626, 318.5525717966151, 462.7621922780222, 394.1455082085625, 909.7663169233014, 650.8956863707978, 702.7817921811263, 405.3873747081204, 709.048797854478, 707.8188442258414, 894.8842833324885, 1715.0019493017946, 1104.136470362386, 904.3960208927701, 1457.4965758300466, 536.2880105970826, 885.8730166576472, 782.0694600176153, 1008.6359815427986, 3682.533583037381, 1208.4019605042183, 852.2603300699611, 1795.469766762944, 1520.2776155219947, 949.4817508018468, 2360.2114760746363, 4530.950679861297, 952.1749419084231, 1219.301721984401, 2129.6736258998526, 1831.596431560864, 1228.7727821059552, 1165.3463228046742, 504.90162695279963, 490.10119234142235, 488.00225312794, 434.49042432939393, 433.27804473053124, 362.35346705257643, 343.5065431164036, 333.6459451872298, 301.8138677202984, 301.01420532165093, 276.6057633969255, 276.380200008809, 234.04869901204236, 221.2660983025886, 219.04543984219464, 215.50981118379258, 210.4844304514184, 206.35594930434402, 203.245115962747, 200.0355864157955, 198.39318905460394, 196.50136752525427, 195.6340223001825, 188.80825975920646, 187.7077142560371, 181.8352559093825, 182.5159844743605, 172.69830235401136, 1274.2294351820997, 605.5431374983197, 413.2467961417789, 370.29370080421364, 1678.8813425257215, 1007.2509102412595, 1581.1239593959663, 587.8709768872966, 613.277210390318, 591.2144514922991, 296.53832123103473, 1348.9746428409444, 2230.3436885484725, 658.9760234530364, 488.39118575618204, 3065.16657948878, 6058.587635469421, 711.7098884117029, 460.1393162499282, 2360.2114760746363, 1301.49381608827, 33697.581660735654, 3365.21600847688, 1070.7336535540903, 573.1971202224115, 449.26567887224803, 301.7735466580114, 198.13709632673294, 180.642144992784, 179.40634922430417, 164.66739550271083, 160.041749012936, 146.04516637953506, 129.64561927755648, 112.02563249756457, 110.96629645381924, 112.34991607046999, 107.15888442377835, 85.9502151518925, 86.22255650411034, 83.85931421542553, 85.49698032350122, 87.61533886379947, 79.7194598254183, 78.4334395300293, 77.73374737018862, 77.16057900305078, 75.10183244996804, 77.4266127959824, 70.06884477010954, 62.42824232663282, 142.7442497700639, 4437.404950270157, 168.59449859960938, 519.1480497359191, 442.86623936818285, 434.3041578395581, 426.6016887465579, 365.22892569711934, 340.22008742607335, 322.5217217473756, 308.29411501778736, 301.281210578154, 298.95867117108185, 292.82949847992546, 268.3872368251152, 268.53190092552586, 264.78865449317476, 259.32237742631327, 224.9599825367622, 198.86710457344958, 194.40020214945648, 176.8220781847707, 171.21663564424077, 167.72454575245234, 161.9919646933359, 159.25053447147255, 155.7430964315589, 155.65895494399183, 152.77178499395, 152.09483601744728, 145.0044107587284, 144.85145014575707, 139.0514877288901, 508.94391467801626, 1395.8897388691369, 499.4559984481091, 382.1211321593858, 228.8469278934983, 690.6533900970953, 743.2194543497626, 566.1725278781827, 414.8555274581375, 1678.8813425257215, 778.8109590632097, 2945.3549274511533, 336.1595854400669, 3682.533583037381, 739.7835074575061, 892.129378137189, 871.8504609655839, 815.2996210200143, 513.5005313029479, 423.97877862767007, 387.0252032095972, 330.36356251609317, 323.8233911886526, 300.8297604492654, 266.6430520860954, 258.2170322376956, 195.1770730384495, 154.38361980534341, 150.20162260739107, 146.3795763417095, 146.14739660253403, 144.9662132514132, 143.67104136549926, 135.2081786642548, 136.38685197578957, 133.87149788698937, 132.2165210007423, 130.31203208584316, 129.0298804424662, 122.17695548234417, 121.28058746643114, 119.42226345047521, 118.3466706910859, 112.52465851200633, 105.9403670765155, 102.20703045006192, 208.68167690153274, 479.60343435421925, 980.2085385984321, 665.5633736043867, 1105.560039631084, 279.7830958503391, 146.9355151442317, 495.29600813126797, 309.36686140280466, 472.74945014259885, 1831.596431560864], \"Category\": [\"Default\", \"Default\", \"Default\", \"Default\", \"Default\", \"Default\", \"Default\", \"Default\", \"Default\", \"Default\", \"Default\", \"Default\", \"Default\", \"Default\", \"Default\", \"Default\", \"Default\", \"Default\", \"Default\", \"Default\", \"Default\", \"Default\", \"Default\", \"Default\", \"Default\", \"Default\", \"Default\", \"Default\", \"Default\", \"Default\", \"Topic1\", \"Topic1\", \"Topic1\", \"Topic1\", \"Topic1\", \"Topic1\", \"Topic1\", \"Topic1\", \"Topic1\", \"Topic1\", \"Topic1\", \"Topic1\", \"Topic1\", \"Topic1\", \"Topic1\", \"Topic1\", \"Topic1\", \"Topic1\", \"Topic1\", \"Topic1\", \"Topic1\", \"Topic1\", \"Topic1\", \"Topic1\", \"Topic1\", \"Topic1\", \"Topic1\", \"Topic1\", \"Topic1\", \"Topic1\", \"Topic1\", \"Topic1\", \"Topic1\", \"Topic1\", \"Topic1\", \"Topic1\", \"Topic1\", \"Topic1\", \"Topic1\", \"Topic1\", \"Topic1\", \"Topic1\", \"Topic1\", \"Topic1\", \"Topic1\", \"Topic1\", \"Topic1\", \"Topic1\", \"Topic1\", \"Topic1\", \"Topic1\", \"Topic1\", \"Topic1\", \"Topic1\", \"Topic1\", \"Topic1\", \"Topic1\", \"Topic1\", \"Topic1\", \"Topic1\", \"Topic1\", \"Topic1\", \"Topic1\", \"Topic1\", \"Topic1\", \"Topic1\", \"Topic1\", \"Topic1\", \"Topic1\", \"Topic1\", \"Topic1\", \"Topic2\", \"Topic2\", \"Topic2\", \"Topic2\", \"Topic2\", \"Topic2\", \"Topic2\", \"Topic2\", \"Topic2\", \"Topic2\", \"Topic2\", \"Topic2\", \"Topic2\", \"Topic2\", \"Topic2\", \"Topic2\", \"Topic2\", \"Topic2\", \"Topic2\", \"Topic2\", \"Topic2\", \"Topic2\", \"Topic2\", \"Topic2\", \"Topic2\", \"Topic2\", \"Topic2\", \"Topic2\", \"Topic2\", \"Topic2\", \"Topic2\", \"Topic2\", \"Topic2\", \"Topic2\", \"Topic2\", \"Topic2\", \"Topic2\", \"Topic2\", \"Topic2\", \"Topic2\", \"Topic2\", \"Topic2\", \"Topic2\", \"Topic2\", \"Topic2\", \"Topic2\", \"Topic2\", \"Topic2\", \"Topic2\", \"Topic2\", \"Topic2\", \"Topic2\", \"Topic2\", \"Topic2\", \"Topic2\", \"Topic2\", \"Topic2\", \"Topic2\", \"Topic2\", \"Topic2\", \"Topic3\", \"Topic3\", \"Topic3\", \"Topic3\", \"Topic3\", \"Topic3\", \"Topic3\", \"Topic3\", \"Topic3\", \"Topic3\", \"Topic3\", \"Topic3\", \"Topic3\", \"Topic3\", \"Topic3\", \"Topic3\", \"Topic3\", \"Topic3\", \"Topic3\", \"Topic3\", \"Topic3\", \"Topic3\", \"Topic3\", \"Topic3\", \"Topic3\", \"Topic3\", \"Topic3\", \"Topic3\", \"Topic3\", \"Topic3\", \"Topic3\", \"Topic3\", \"Topic3\", \"Topic3\", \"Topic3\", \"Topic3\", \"Topic3\", \"Topic3\", \"Topic3\", \"Topic3\", \"Topic3\", \"Topic3\", \"Topic3\", \"Topic3\", \"Topic3\", \"Topic3\", \"Topic3\", \"Topic3\", \"Topic3\", \"Topic3\", \"Topic3\", \"Topic3\", \"Topic3\", \"Topic3\", \"Topic3\", \"Topic3\", \"Topic3\", \"Topic3\", \"Topic3\", \"Topic4\", \"Topic4\", \"Topic4\", \"Topic4\", \"Topic4\", \"Topic4\", \"Topic4\", \"Topic4\", \"Topic4\", \"Topic4\", \"Topic4\", \"Topic4\", \"Topic4\", \"Topic4\", \"Topic4\", \"Topic4\", \"Topic4\", \"Topic4\", \"Topic4\", \"Topic4\", \"Topic4\", \"Topic4\", \"Topic4\", \"Topic4\", \"Topic4\", \"Topic4\", \"Topic4\", \"Topic4\", \"Topic4\", \"Topic4\", \"Topic4\", \"Topic4\", \"Topic4\", \"Topic4\", \"Topic4\", \"Topic4\", \"Topic4\", \"Topic4\", \"Topic4\", \"Topic4\", \"Topic4\", \"Topic4\", \"Topic4\", \"Topic4\", \"Topic4\", \"Topic4\", \"Topic4\", \"Topic4\", \"Topic4\", \"Topic4\", \"Topic4\", \"Topic4\", \"Topic4\", \"Topic4\", \"Topic4\", \"Topic4\", \"Topic4\", \"Topic4\", \"Topic4\", \"Topic4\", \"Topic4\", \"Topic5\", \"Topic5\", \"Topic5\", \"Topic5\", \"Topic5\", \"Topic5\", \"Topic5\", \"Topic5\", \"Topic5\", \"Topic5\", \"Topic5\", \"Topic5\", \"Topic5\", \"Topic5\", \"Topic5\", \"Topic5\", \"Topic5\", \"Topic5\", \"Topic5\", \"Topic5\", \"Topic5\", \"Topic5\", \"Topic5\", \"Topic5\", \"Topic5\", \"Topic5\", \"Topic5\", \"Topic5\", \"Topic5\", \"Topic5\", \"Topic5\", \"Topic5\", \"Topic5\", \"Topic5\", \"Topic5\", \"Topic5\", \"Topic5\", \"Topic5\", \"Topic5\", \"Topic5\", \"Topic5\", \"Topic5\", \"Topic5\", \"Topic5\", \"Topic5\", \"Topic5\", \"Topic5\", \"Topic5\", \"Topic5\", \"Topic5\", \"Topic5\", \"Topic6\", \"Topic6\", \"Topic6\", \"Topic6\", \"Topic6\", \"Topic6\", \"Topic6\", \"Topic6\", \"Topic6\", \"Topic6\", \"Topic6\", \"Topic6\", \"Topic6\", \"Topic6\", \"Topic6\", \"Topic6\", \"Topic6\", \"Topic6\", \"Topic6\", \"Topic6\", \"Topic6\", \"Topic6\", \"Topic6\", \"Topic6\", \"Topic6\", \"Topic6\", \"Topic6\", \"Topic6\", \"Topic6\", \"Topic6\", \"Topic6\", \"Topic6\", \"Topic6\", \"Topic7\", \"Topic7\", \"Topic7\", \"Topic7\", \"Topic7\", \"Topic7\", \"Topic7\", \"Topic7\", \"Topic7\", \"Topic7\", \"Topic7\", \"Topic7\", \"Topic7\", \"Topic7\", \"Topic7\", \"Topic7\", \"Topic7\", \"Topic7\", \"Topic7\", \"Topic7\", \"Topic7\", \"Topic7\", \"Topic7\", \"Topic7\", \"Topic7\", \"Topic7\", \"Topic7\", \"Topic7\", \"Topic7\", \"Topic7\", \"Topic7\", \"Topic7\", \"Topic7\", \"Topic7\", \"Topic7\", \"Topic7\", \"Topic7\", \"Topic7\", \"Topic7\", \"Topic7\", \"Topic7\", \"Topic7\", \"Topic7\", \"Topic7\", \"Topic7\", \"Topic7\", \"Topic8\", \"Topic8\", \"Topic8\", \"Topic8\", \"Topic8\", \"Topic8\", \"Topic8\", \"Topic8\", \"Topic8\", \"Topic8\", \"Topic8\", \"Topic8\", \"Topic8\", \"Topic8\", \"Topic8\", \"Topic8\", \"Topic8\", \"Topic8\", \"Topic8\", \"Topic8\", \"Topic8\", \"Topic8\", \"Topic8\", \"Topic8\", \"Topic8\", \"Topic8\", \"Topic8\", \"Topic8\", \"Topic8\", \"Topic8\", \"Topic8\", \"Topic8\", \"Topic8\", \"Topic8\", \"Topic8\", \"Topic8\", \"Topic8\", \"Topic8\", \"Topic8\", \"Topic8\", \"Topic8\"], \"logprob\": [30.0, 29.0, 28.0, 27.0, 26.0, 25.0, 24.0, 23.0, 22.0, 21.0, 20.0, 19.0, 18.0, 17.0, 16.0, 15.0, 14.0, 13.0, 12.0, 11.0, 10.0, 9.0, 8.0, 7.0, 6.0, 5.0, 4.0, 3.0, 2.0, 1.0, -5.1029, -5.1057, -5.2334, -5.6036, -5.7581, -5.765, -5.9602, -6.2058, -6.2418, -6.2661, -6.2818, -6.2957, -6.2998, -6.3156, -6.3436, -6.3464, -6.3953, -6.4191, -6.451, -6.4621, -6.4767, -6.5793, -6.6082, -6.6195, -6.6849, -6.7098, -6.7349, -6.7697, -6.7831, -6.7835, -6.3469, -6.0784, -4.2558, -5.9633, -6.259, -5.3407, -5.8394, -5.9292, -5.5946, -4.5138, -4.9829, -4.4786, -5.8936, -6.0523, -5.3356, -5.1859, -4.5913, -5.1934, -4.5775, -4.2007, -6.0399, -5.096, -4.526, -5.7626, -4.9161, -5.296, -5.2196, -5.2032, -4.8781, -5.287, -5.0337, -5.514, -5.105, -5.3467, -4.7108, -5.463, -5.1943, -5.3503, -5.0473, -5.0849, -5.2995, -5.0121, -5.1367, -5.1623, -5.3992, -5.4198, -5.4343, -5.6047, -5.6546, -5.7539, -5.8079, -5.8203, -5.8417, -5.9144, -5.9394, -5.9642, -5.9673, -6.0315, -6.0629, -6.0874, -6.0973, -6.1229, -6.127, -6.1432, -6.1478, -6.1679, -6.1965, -6.2007, -6.2087, -6.2139, -6.226, -4.9482, -4.8706, -5.9039, -5.2098, -5.3849, -4.5118, -4.6723, -5.7085, -4.6068, -3.8014, -4.573, -4.889, -5.79, -4.4917, -5.1192, -5.2969, -5.0727, -4.6536, -5.4092, -5.226, -5.6079, -5.569, -5.2473, -4.9564, -5.6122, -5.4705, -5.3176, -5.5045, -5.5564, -5.5663, -4.3341, -4.3786, -4.4049, -4.7105, -5.0928, -5.2769, -5.3897, -5.453, -5.5729, -5.7037, -5.7062, -5.7258, -5.767, -5.799, -6.0326, -6.0392, -6.0843, -6.1181, -6.184, -6.2743, -6.2738, -6.3747, -6.4163, -6.4536, -6.4569, -6.4972, -6.5268, -6.5287, -6.5373, -6.5397, -4.894, -5.7813, -4.2918, -5.7569, -5.8316, -6.2027, -5.253, -4.2746, -5.7966, -5.1533, -4.2896, -4.6757, -4.2448, -5.5149, -4.8153, -4.9087, -4.7155, -4.6962, -5.1359, -5.2015, -4.7032, -4.9782, -5.2011, -5.3508, -5.2776, -5.4741, -5.3245, -5.4381, -5.4655, -4.8767, -5.363, -5.7649, -5.7629, -5.7833, -5.7926, -5.7951, -5.8658, -5.9593, -5.6918, -5.977, -5.987, -6.0119, -6.0374, -6.0534, -6.0878, -6.0926, -6.1023, -6.1488, -6.1756, -6.1713, -6.1924, -6.2094, -6.3041, -6.3362, -6.4149, -6.4793, -6.487, -6.4914, -6.4963, -5.8042, -5.9539, -5.6001, -5.8027, -5.0467, -5.3781, -5.3517, -5.8206, -5.4484, -5.5071, -5.3783, -5.0023, -5.331, -5.445, -5.2149, -5.7485, -5.5201, -5.5993, -5.5979, -5.1885, -5.5438, -5.6671, -5.473, -5.5201, -5.6623, -5.5541, -5.6145, -5.7331, -5.72, -5.7014, -5.7403, -4.2559, -4.3089, -5.1465, -5.1763, -5.1806, -5.297, -5.2998, -5.4791, -5.5327, -5.5619, -5.6625, -5.6651, -5.75, -5.7509, -5.9178, -5.9742, -5.9844, -6.0007, -6.0244, -6.0443, -6.0596, -6.0756, -6.0839, -6.0935, -6.098, -6.1337, -6.1396, -6.1715, -6.1678, -6.2234, -4.2663, -5.0148, -5.4363, -5.5393, -4.2321, -4.6862, -4.3393, -5.2456, -5.2313, -5.2874, -5.7867, -4.7965, -4.4755, -5.2852, -5.5113, -4.7696, -4.5117, -5.4802, -5.6172, -5.4424, -5.579, -0.5535, -2.8577, -4.0035, -4.6291, -4.8732, -5.2721, -5.6945, -5.7874, -5.7944, -5.8805, -5.9095, -6.0013, -6.1213, -6.2685, -6.278, -6.2657, -6.3134, -6.5359, -6.5328, -6.5608, -6.5416, -6.5172, -6.612, -6.6286, -6.6376, -6.6451, -6.6725, -6.6426, -6.7429, -6.8599, -6.4203, -5.3835, -6.5228, -4.6652, -4.8245, -4.8441, -4.862, -5.0178, -5.0889, -5.1425, -5.1878, -5.2109, -5.2187, -5.2395, -5.327, -5.3264, -5.3405, -5.3615, -5.5043, -5.6282, -5.651, -5.7464, -5.7788, -5.7995, -5.8345, -5.8517, -5.8741, -5.8747, -5.8935, -5.898, -5.9461, -5.9472, -5.9883, -4.8239, -4.0209, -5.0458, -5.3382, -5.667, -5.0495, -5.0483, -5.2472, -5.4324, -4.8735, -5.3316, -4.9833, -5.581, -5.0649, -5.4279, -5.4123, -3.4276, -3.4947, -3.9578, -4.1498, -4.2413, -4.4, -4.4201, -4.494, -4.6151, -4.6474, -4.9286, -5.1646, -5.1922, -5.2182, -5.2198, -5.228, -5.237, -5.2982, -5.2895, -5.3082, -5.3208, -5.3354, -5.3453, -5.4004, -5.4078, -5.4234, -5.4325, -5.4835, -5.5444, -5.5806, -4.9474, -4.3893, -4.2385, -4.6972, -4.5752, -5.1083, -5.344, -5.0, -5.2566, -5.2306, -5.2095], \"loglift\": [30.0, 29.0, 28.0, 27.0, 26.0, 25.0, 24.0, 23.0, 22.0, 21.0, 20.0, 19.0, 18.0, 17.0, 16.0, 15.0, 14.0, 13.0, 12.0, 11.0, 10.0, 9.0, 8.0, 7.0, 6.0, 5.0, 4.0, 3.0, 2.0, 1.0, 1.0492, 1.0492, 1.0492, 1.049, 1.0489, 1.0488, 1.0487, 1.0484, 1.0484, 1.0484, 1.0483, 1.0483, 1.0483, 1.0483, 1.0483, 1.0482, 1.0482, 1.0481, 1.0481, 1.0481, 1.0481, 1.0479, 1.0478, 1.0478, 1.0477, 1.0477, 1.0476, 1.0475, 1.0475, 1.0475, 1.0448, 1.0373, 0.9941, 1.0263, 1.0344, 1.0017, 1.0135, 1.0177, 0.9996, 0.9169, 0.9318, 0.8788, 1.0006, 1.0134, 0.9042, 0.8571, 0.7352, 0.8379, 0.7149, 0.6105, 0.993, 0.7786, 0.622, 0.924, 0.7071, 0.7995, 0.7661, 0.6891, 0.5168, 0.6961, 0.5595, 0.795, 0.5352, 0.6607, -0.1753, 0.6945, 0.3494, 0.5355, 0.0255, -0.0089, 0.3693, 1.3199, 1.3198, 1.3198, 1.3196, 1.3196, 1.3196, 1.3195, 1.3194, 1.3193, 1.3193, 1.3193, 1.3193, 1.3192, 1.3191, 1.3191, 1.3191, 1.319, 1.319, 1.319, 1.3189, 1.3189, 1.3189, 1.3189, 1.3189, 1.3188, 1.3188, 1.3188, 1.3188, 1.3188, 1.3188, 1.29, 1.2658, 1.3019, 1.2234, 1.2312, 1.0857, 1.1057, 1.2328, 0.9681, 0.7342, 0.8959, 0.9763, 1.2176, 0.5811, 0.8878, 0.9416, 0.7982, 0.4224, 0.9421, 0.7958, 1.0553, 0.9694, 0.4006, -0.1452, 0.9614, 0.5371, -0.0252, 0.1642, 0.3294, -0.4183, 2.1919, 2.1919, 2.1918, 2.1916, 2.1912, 2.191, 2.1908, 2.1907, 2.1905, 2.1902, 2.1902, 2.1902, 2.1901, 2.19, 2.1894, 2.1893, 2.1892, 2.1891, 2.1889, 2.1885, 2.1885, 2.1881, 2.1879, 2.1877, 2.1877, 2.1875, 2.1874, 2.1874, 2.1873, 2.1873, 2.0298, 2.0148, 1.5634, 1.9726, 1.9854, 2.0949, 1.6184, 1.1203, 1.8674, 1.4687, 0.7864, 0.868, 0.2908, 1.5008, 0.6536, 0.7315, 0.4325, 0.3766, 0.9427, 1.037, 0.108, 0.5967, 0.7819, 0.6567, 0.3156, 1.0121, 0.1062, 0.4542, 0.1577, 2.3567, 2.356, 2.3551, 2.3551, 2.355, 2.355, 2.355, 2.3548, 2.3545, 2.3545, 2.3544, 2.3544, 2.3543, 2.3542, 2.3541, 2.354, 2.354, 2.3539, 2.3538, 2.3537, 2.3536, 2.3536, 2.3535, 2.3531, 2.3529, 2.3525, 2.3522, 2.3521, 2.3521, 2.3521, 2.349, 2.349, 2.3293, 2.2871, 2.2067, 2.2102, 2.1598, 2.2412, 2.0543, 1.9973, 1.8916, 1.6171, 1.7287, 1.8144, 1.5672, 2.0334, 1.7599, 1.8053, 1.5524, 0.6668, 1.4257, 1.6516, 1.1005, 1.2198, 1.5484, 0.746, 0.0334, 1.4747, 1.2406, 0.7015, 0.8133, 2.697, 2.6969, 2.6957, 2.6957, 2.6957, 2.6954, 2.6954, 2.6949, 2.6947, 2.6946, 2.6943, 2.6943, 2.694, 2.694, 2.6933, 2.693, 2.693, 2.6929, 2.6927, 2.6927, 2.6926, 2.6925, 2.6924, 2.6924, 2.6924, 2.6922, 2.6921, 2.692, 2.6919, 2.6916, 2.6502, 2.6456, 2.6062, 2.613, 2.4087, 2.4654, 2.3614, 2.4445, 2.4164, 2.397, 2.5877, 2.063, 1.8812, 2.2907, 2.3642, 1.2691, 0.8456, 2.0188, 2.3179, 0.8576, 1.3163, 3.0879, 3.0876, 3.087, 3.0863, 3.0858, 3.0848, 3.0832, 3.0827, 3.0825, 3.0822, 3.0817, 3.0814, 3.0805, 3.0794, 3.0794, 3.0793, 3.0789, 3.0769, 3.0769, 3.0766, 3.0765, 3.0764, 3.076, 3.0758, 3.0757, 3.0756, 3.0752, 3.0746, 3.0742, 3.0727, 2.6852, 0.2852, 2.4163, 3.1492, 3.1488, 3.1488, 3.1487, 3.1483, 3.1481, 3.1479, 3.1477, 3.1476, 3.1476, 3.1475, 3.1472, 3.1472, 3.1471, 3.1471, 3.1464, 3.1458, 3.1457, 3.1451, 3.1449, 3.1448, 3.1445, 3.1444, 3.1443, 3.1443, 3.1441, 3.1441, 3.1438, 3.1437, 3.1434, 3.0103, 2.8044, 2.8073, 2.7826, 2.9665, 2.4795, 2.4073, 2.4805, 2.6063, 1.7672, 2.0772, 1.0953, 2.668, 0.7904, 2.0323, 1.8607, 3.8684, 3.8683, 3.8675, 3.8671, 3.8668, 3.8664, 3.8663, 3.866, 3.8656, 3.8654, 3.8641, 3.8626, 3.8624, 3.8622, 3.8622, 3.8621, 3.8621, 3.8616, 3.8616, 3.8615, 3.8614, 3.8613, 3.8612, 3.8607, 3.8606, 3.8605, 3.8604, 3.86, 3.8593, 3.859, 3.7784, 3.5043, 2.9403, 2.8688, 2.4833, 3.3243, 3.7326, 2.8615, 3.0754, 2.6775, 1.3441]}, \"token.table\": {\"Topic\": [6, 1, 1, 3, 6, 1, 2, 3, 4, 7, 5, 4, 4, 2, 7, 1, 2, 4, 5, 7, 1, 3, 4, 5, 7, 1, 2, 3, 7, 1, 1, 5, 7, 2, 4, 6, 1, 2, 3, 3, 8, 3, 1, 1, 6, 1, 2, 3, 3, 1, 2, 1, 2, 3, 5, 6, 7, 4, 8, 8, 6, 6, 4, 7, 4, 3, 3, 2, 3, 4, 5, 7, 1, 2, 4, 5, 1, 4, 5, 8, 2, 3, 4, 5, 7, 1, 1, 5, 2, 2, 1, 1, 6, 5, 7, 5, 7, 1, 1, 3, 2, 2, 5, 1, 2, 1, 2, 3, 5, 2, 1, 1, 4, 5, 8, 5, 6, 4, 5, 1, 2, 2, 3, 4, 1, 5, 7, 5, 5, 5, 5, 6, 8, 1, 5, 4, 4, 8, 2, 4, 8, 1, 2, 3, 4, 1, 2, 4, 3, 5, 2, 3, 2, 1, 4, 5, 1, 7, 3, 4, 4, 1, 4, 6, 2, 2, 3, 4, 2, 8, 7, 1, 2, 3, 5, 1, 5, 1, 7, 1, 1, 5, 1, 3, 5, 2, 3, 5, 5, 1, 2, 3, 4, 7, 8, 4, 1, 3, 5, 7, 3, 5, 8, 6, 1, 2, 3, 5, 5, 1, 2, 3, 7, 1, 2, 3, 5, 1, 3, 1, 1, 2, 3, 5, 7, 8, 2, 1, 7, 4, 5, 1, 2, 4, 8, 5, 1, 3, 6, 6, 2, 4, 3, 1, 2, 6, 2, 3, 4, 5, 3, 3, 5, 1, 2, 3, 6, 8, 5, 2, 6, 3, 8, 6, 5, 2, 4, 8, 1, 2, 4, 5, 7, 8, 2, 3, 4, 2, 2, 4, 7, 7, 7, 2, 7, 6, 7, 8, 8, 2, 5, 1, 2, 3, 6, 5, 7, 1, 2, 3, 4, 5, 7, 7, 1, 5, 1, 3, 4, 7, 7, 2, 5, 1, 2, 3, 4, 5, 1, 2, 3, 4, 5, 1, 5, 1, 2, 3, 6, 6, 1, 2, 3, 4, 1, 3, 2, 3, 4, 1, 2, 3, 6, 2, 2, 1, 2, 3, 4, 5, 1, 5, 7, 1, 2, 3, 4, 4, 1, 1, 2, 4, 2, 6, 5, 7, 5, 1, 7, 7, 4, 3, 6, 5, 6, 1, 2, 3, 4, 6, 1, 2, 3, 4, 1, 2, 3, 4, 8, 1, 2, 3, 7, 7, 1, 2, 8, 1, 2, 7, 1, 2, 3, 6, 2, 3, 3, 1, 7, 3, 1, 5, 1, 2, 4, 7, 1, 4, 5, 2, 8, 1, 2, 3, 2, 3, 3, 3, 1, 2, 3, 5, 4, 5, 7, 5, 1, 2, 3, 4, 5, 7, 2, 3, 7, 8, 8, 1, 2, 4, 4, 2, 4, 2, 5, 1, 1, 2, 4, 7, 2, 4, 5, 1, 2, 6, 6, 3, 7, 8, 2, 3, 4, 5, 5, 1, 8, 1, 4, 8, 1, 1, 2, 3, 4, 5, 7, 2, 4, 1, 2, 3, 4, 3, 3, 1, 2, 3, 5, 2, 4, 5, 6, 7, 8, 2, 3, 7, 1, 2, 3, 3, 4, 5, 8, 7, 3, 1, 3, 5, 1, 4, 4, 3, 2, 3, 8, 1, 2, 3, 1, 2, 3, 4, 8, 1, 2, 3, 8, 1, 2, 3, 7, 1, 8, 1, 2, 4, 5, 7, 8, 3, 5, 8, 4, 6, 7, 1, 4, 5, 2, 5, 7, 5, 2, 7, 1, 3, 8, 3, 1, 2, 5, 7, 1, 1, 4, 7, 8, 6, 4, 1, 2, 4, 1, 2, 3, 4, 5, 1, 3, 3, 1, 2, 3, 5, 7, 4, 1, 2, 3, 1, 2, 3, 1, 3, 1, 2, 3, 4, 5, 3, 4, 4, 5, 1, 2, 4, 7, 1, 4, 4, 7, 7, 5, 1, 8, 1, 2, 4, 5, 7, 8, 2, 1, 2, 8, 7, 6, 7, 1, 2, 3, 1, 5, 7, 1, 2, 3, 7, 5, 1, 2, 3, 4, 1, 2, 3, 4, 8, 2, 3, 2, 8, 3, 4, 7, 6, 1, 2, 1, 2, 4, 7, 7, 1, 2, 3, 1, 2, 1, 3, 4, 5, 7], \"Freq\": [0.9996386536632963, 0.9992839898474547, 0.9874212937365526, 0.011492779364537955, 0.9929768135148569, 0.44273269380663577, 0.39859184696649264, 0.04414084684014315, 0.09777197575091708, 0.016552817565053682, 0.9948229890773388, 0.9954737778759635, 0.996758131880786, 0.9985868862288615, 0.9971672987720452, 0.038111064194515945, 0.24884283091713355, 0.3284277002645051, 0.10984953797242832, 0.2746238449310708, 0.999286107450224, 0.06744490869501445, 0.03372245434750722, 0.8970172856436921, 0.9969971325026091, 0.6521135503728464, 0.17578014609721768, 0.17203159766559384, 0.9952287038810387, 0.9983260596173134, 0.16361318371884617, 0.32433055887629686, 0.5111102110863072, 0.9162900475343803, 0.08286029402637503, 0.9999827387988399, 0.507773349910113, 0.18473764087182, 0.307215634819988, 0.9931238752030296, 0.9919999359092679, 0.9966700901834387, 0.9991412463893272, 0.9997339787860999, 0.9909751041089104, 0.33623162260349054, 0.1620497768733318, 0.500881128517571, 0.9985996896502775, 0.08485180457529472, 0.9147721945309171, 0.013044671910942898, 0.12881613512056111, 0.10272679129867533, 0.7549603868458202, 0.9858209202593979, 0.9928016226841411, 0.30441817039235214, 0.6943236352099539, 0.9899316121094723, 0.9771218558555587, 0.9993148122769326, 0.9956368874758175, 0.9956801447921539, 0.9966595485057116, 0.9967993172963854, 0.9991880572094732, 0.9992821695721967, 0.14112804819920413, 0.14568056588304942, 0.6661850877360281, 0.045525176838452946, 0.42708037403345134, 0.2143875687112365, 0.19955838905729723, 0.15888406772077804, 0.5743122095816704, 0.3939086624796471, 0.03144648986182057, 0.9905753495385926, 0.1987067818059513, 0.10678799838551124, 0.23925918625614545, 0.1284159474256148, 0.3271227292315661, 0.9979760873670889, 0.04551770536654668, 0.9535174486267968, 0.9988473603377614, 0.9982817005700468, 0.9994941034871625, 0.9976631179166883, 0.9853288206955261, 0.9122877745691146, 0.08469515148519631, 0.16604985852239446, 0.8302492926119723, 0.999287246582608, 0.9977799960086521, 0.9941080078279857, 0.9989326836417568, 0.9990263388028565, 0.9929475522335082, 0.09713991661488497, 0.9026275437666302, 0.7624694725029897, 0.08333453566572255, 0.13815260231626428, 0.015780958581216562, 0.9992070581316166, 0.9981651546642759, 0.24537310400892073, 0.3659443706339939, 0.08249612979610267, 0.3046010946317637, 0.9957191504215056, 0.9950201226917333, 0.9969084588169055, 0.9966307061137956, 0.01676885901637368, 0.9820263061463838, 0.46597584123569846, 0.08625510252660801, 0.4471385199942553, 0.27679817747037033, 0.5072291475472268, 0.21497523427901857, 0.9978100116588813, 0.9977531327027354, 0.9980639801066147, 0.9916939632507998, 0.9979115034249526, 0.9934900415641493, 0.20650266769198478, 0.7922554270105955, 0.9975623585555434, 0.9951409994760164, 0.9958725396175411, 0.9984447219749145, 0.633964326069797, 0.3654380350911887, 0.00945652433736636, 0.15319569426533503, 0.8378480562906594, 0.995814085872318, 0.2952028690718472, 0.703862578533785, 0.9981367839594693, 0.9947216092185424, 0.9929776366757204, 0.9471236275705818, 0.05287777183929948, 0.9991913037338304, 0.02041264235145355, 0.20242536998524768, 0.7756804093552349, 0.5233985705343698, 0.4749606565517545, 0.06596548599062577, 0.9311282060984483, 0.9957018291859805, 0.13519831494146478, 0.8634256022398091, 0.989752906716861, 0.9985448714610767, 0.9987655227765564, 0.997864122983104, 0.9932023699057952, 0.998122681638965, 0.990799024270685, 0.9928941738653905, 0.8092294218772335, 0.06249751037307165, 0.1023275299372572, 0.025905703781584105, 0.9995804984140613, 0.9950061545336278, 0.9988323724252957, 0.9957666750092924, 0.9992897894478283, 0.9512365184322219, 0.048329410679461365, 0.9993746769834003, 0.9972946476112029, 0.9942779381373772, 0.9997060010325342, 0.049542300361852004, 0.9495607569354968, 0.9973034117800954, 0.41964382237274467, 0.15787570987324132, 0.286552901361324, 0.007808906079751721, 0.12799815617679994, 0.9933349072881037, 0.9970114517967075, 0.39290664369704187, 0.030816207348787598, 0.23368957239497262, 0.34154629811572923, 0.9994407446343625, 0.9954065238602642, 0.9952867855882749, 0.9941871593403562, 0.3469429817860322, 0.40736213660334847, 0.2451647354236666, 0.00037372673082876004, 0.9938738209927012, 0.6778908739710592, 0.18781118429981772, 0.12236183219533578, 0.012014856908069147, 0.5869415331191647, 0.054666963230660885, 0.34222547201137865, 0.015937390534330603, 0.18539955481230178, 0.8130542976664484, 0.9989301537412449, 0.4965656960429255, 0.23744471008219986, 0.26588239311549516, 0.7487128292872443, 0.2507622125138662, 0.9911236188578022, 0.9989837650185471, 0.12968030090654478, 0.8684650454650423, 0.9724217049469874, 0.025931245465252998, 0.6249783928453411, 0.18359620706425872, 0.1906395398160845, 0.9864504497754717, 0.9993710943819648, 0.2767653914718858, 0.7225731178547438, 0.9847457914624348, 0.9879847166986465, 0.9983470264182295, 0.996598556475764, 0.995306497141092, 0.3143797264796909, 0.6849464679046883, 0.9815746454033643, 0.356267816633531, 0.15918349253838618, 0.47696738789890075, 0.007580166311351723, 0.997540333881942, 0.9984889488048858, 0.9967591409064337, 0.09396210414222891, 0.7030745216057172, 0.2026955434334545, 0.989185363117487, 0.9894411175507738, 0.992359505971065, 0.32926019840174864, 0.6655259329397046, 0.9965999225202841, 0.9898314833453612, 0.9849589127240103, 0.9929942345756826, 0.9989385506695888, 0.9932921615283148, 0.9920182794951482, 0.07206827755583212, 0.5787301076453185, 0.21347497366916937, 0.026752618183604346, 0.028936505382265925, 0.08025785455081304, 0.0782604225264632, 0.09960417412458954, 0.8210229781412595, 0.9988676994314412, 0.6984244587202597, 0.2846051821419878, 0.016708719108140185, 0.994948118240678, 0.9957326519768674, 0.9980635418596403, 0.9930732399554408, 0.9934907671319451, 0.9977885889458641, 0.9976914442962496, 0.9886209668322563, 0.9995009680073166, 0.9988447015463747, 0.7154880966575446, 0.2604587018528545, 0.023973336571967017, 0.9889445866980873, 0.3061856310820265, 0.6908803983389317, 0.34141541055238067, 0.0929538532154598, 0.48523080609328073, 0.009353846864448786, 0.011692308580560981, 0.05904615833183296, 0.9966351906690477, 0.28524012764457424, 0.714049011331983, 0.40538768981501316, 0.17958884704240222, 0.41378950722050567, 0.998044015797143, 0.9938764574205038, 0.0783162120690064, 0.9181900725331784, 0.3510205819306434, 0.1755102909653217, 0.12220109043847165, 0.3272364770802026, 0.024604246397007715, 0.1554069955855861, 0.10172094256511091, 0.04520930780671596, 0.6979186892661776, 0.9959565187121532, 0.9684122809246114, 0.030743247013479726, 0.29382047266888867, 0.556510053074267, 0.14934120344593058, 0.0003628309121621248, 0.9908446622911335, 0.32760957905018007, 0.45694579317327244, 0.2153495398968848, 0.9929366242358479, 0.9849906304509319, 0.01372809241046595, 0.2112004909687058, 0.16091465978568062, 0.6268966954150473, 0.5063770436059027, 0.31482364482307346, 0.11808703642612062, 0.06062101679127184, 0.9990769312105823, 0.9992291549148637, 0.7302652632841629, 0.17412417410764172, 0.09250346749468467, 0.0014403654108168893, 0.0014403654108168893, 0.8818104910088559, 0.05051389658537293, 0.06735186211383058, 0.8250214548892335, 0.11631557445817231, 0.024246063408182396, 0.03440319807917772, 0.9972404064843496, 0.9988755712290549, 0.9534407916561858, 0.04641227775795063, 0.9960669625341637, 0.9986134111870796, 0.9942610629316085, 0.4170126430759855, 0.5809251270596099, 0.9955193127905898, 0.9989853005889342, 0.9958023362926902, 0.9957474594061296, 0.9960174854679124, 0.9963347466904081, 0.9921610955778055, 0.9979462120891536, 0.9817241276346106, 0.2526239297961914, 0.7090476205463135, 0.03840103167368816, 0.9918500412893569, 0.996445209434323, 0.25374224696680286, 0.591851385150128, 0.10072701080603805, 0.05325058533058062, 0.15828242672583978, 0.2768067083499283, 0.5633654145550032, 0.0015003073623302348, 0.9974572831640415, 0.1310195377166782, 0.6541750157825693, 0.21461369347112216, 0.9953508170856827, 0.9948312116420828, 0.11719394890615403, 0.5138503913577522, 0.3681091984872787, 0.9769095198168817, 0.021953022917233295, 0.995281800744672, 0.3591137572999548, 0.477452419370099, 0.16266909476588548, 0.0006208744075033797, 0.09056531419113241, 0.9056531419113241, 0.9978399379820724, 0.998325173492472, 0.9921473766124372, 0.9967764999635559, 0.8429357314403703, 0.15696727640489372, 0.9946069654576374, 0.0037865747415899904, 0.9920709890796263, 0.0054063814118780725, 0.7460657807183502, 0.002305043606750824, 0.25124975313583986, 0.9986493069555492, 0.9984059590038955, 0.07431818703432955, 0.12209416441354141, 0.8033442122282289, 0.998039452221724, 0.9994354516570866, 0.9985415944222709, 0.9960293923806823, 0.7786417979813468, 0.10669637054378545, 0.11429287588994493, 0.9970502896556273, 0.23798220685949475, 0.14278932411569684, 0.6157789602489426, 0.9962297007406326, 0.13996602351111642, 0.20514627955795986, 0.09056625050719298, 0.45351736049435276, 0.09193846642396863, 0.01852491487647129, 0.57165597285055, 0.1528637016008591, 0.024422011498362105, 0.24964722864992375, 0.9921490452159437, 0.31982254543629773, 0.6488099661864815, 0.03097095795726994, 0.996839903823008, 0.9074932365692165, 0.09195931463901394, 0.25878934389003666, 0.7408479256459873, 0.9988134361391653, 0.31902068085997104, 0.3512516362458238, 0.3203362300593936, 0.008551069796246646, 0.2520432847306596, 0.21720200713553903, 0.5300322017130048, 0.700966770850781, 0.2986823819191221, 0.9905607616381297, 0.9959470088132909, 0.4719316068242479, 0.07434539011614864, 0.45253715722873084, 0.22248663180899667, 0.028130493676999577, 0.5753964615749914, 0.17389759727599738, 0.9982142522331703, 0.999677093011773, 0.99724176076188, 0.05426908032308613, 0.890506272574277, 0.05180230394476403, 0.9989223463733842, 0.9984140346771887, 0.11592769864579278, 0.06520933048825844, 0.5334485507997808, 0.19653367661044557, 0.08785145913001484, 0.1395962871317282, 0.8595613900552082, 0.2212506717266294, 0.1806127932462281, 0.047410858227134874, 0.5497401894432067, 0.9974987337475568, 0.9974552801233001, 0.5644065192334623, 0.06557555512481268, 0.13017237062089682, 0.2394649624955846, 0.998648842419808, 0.7234918408263792, 0.2759711145420209, 0.9971827830796576, 0.9927973215358079, 0.9880904664726521, 0.6848219955704187, 0.3147233138456258, 0.9924381411082764, 0.7023313046827696, 0.05369316652671437, 0.24408790070477623, 0.05733109199472398, 0.22522928997927277, 0.7166386499340497, 0.9990245334450566, 0.9949006428236644, 0.9934516987178178, 0.9460397964952961, 0.025051821624522883, 0.028905948028295637, 0.4179584952473134, 0.580497910065713, 0.9961280475044034, 0.9977759122488287, 0.9980141797316796, 0.9986984233768594, 0.9953293206541732, 0.7098965259618988, 0.15911845092078955, 0.13069675197418032, 0.7750804214351517, 0.17699023412804898, 0.04745390335317255, 0.4181810900490763, 0.5790199708371825, 0.05917108218923729, 0.3050371305962405, 0.24076509304586208, 0.3948139449523247, 0.11270429894345974, 0.7669984452422476, 0.04264486987049828, 0.07736997819361831, 0.9992886837945613, 0.9970778388502529, 0.024640358419916287, 0.440006400355648, 0.4939805187992741, 0.03754721283034863, 0.003520051202845184, 0.9903667964412958, 0.31512195302442303, 0.6845752772599535, 0.9910377810347498, 0.9948611842260143, 0.9974366651199946, 0.9941219080312949, 0.9986275257180356, 0.9959416512245988, 0.9952272923693467, 0.9987494207686382, 0.2883136861854325, 0.7087711452058549, 0.9934290757842692, 0.2922866961759718, 0.7070759047198141, 0.9985590916137507, 0.9946167691358654, 0.9881903383285197, 0.9971881821123388, 0.420114623952781, 0.053803366995019974, 0.44208433214241416, 0.08384358023390613, 0.9989141470954791, 0.26091293090094, 0.7376079073577926, 0.12250271816402744, 0.8711304402775285, 0.9928435400811627, 0.9967050139434064, 0.13422842544183752, 0.8068787372065513, 0.058567833572936594, 0.6974568488524118, 0.0769316039340236, 0.1758436661349111, 0.0019726052290775283, 0.047906126991882826, 0.9647423854403563, 0.03461289474480667, 0.9994990076113037, 0.8647475733277629, 0.11527308518990935, 0.01475814585476348, 0.0047864256826259935, 0.9942952739683963, 0.998734885877377, 0.009957152019614644, 0.9702248927912508, 0.0195160179584447, 0.8886994012526508, 0.09250081316540236, 0.01844252972768147, 0.8756176692812064, 0.12414944235853212, 0.6126774054133458, 0.1849316179368387, 0.15316935135333645, 0.0470165130347895, 0.0022985850817008203, 0.9969228646307099, 0.9966785922424112, 0.9975503938837822, 0.9956142229410371, 0.952444797324012, 0.04681638407474999, 0.9919869684861787, 0.00627839853472265, 0.9991834528850565, 0.9941293984736053, 0.9967367346944304, 0.9964138289561211, 0.9967932986612279, 0.9962647879056169, 0.9988379741202263, 0.9975883411134682, 0.12800592545084377, 0.7909087426626724, 0.052671290636330796, 0.02832918022272772, 0.08146378854345471, 0.9104776366621409, 0.9979431296479327, 0.9974896804017555, 0.9987687631761902, 0.9939692043736222, 0.9985895772041461, 0.510099681272751, 0.4863741147019253, 0.5980156234911599, 0.37124003593130994, 0.030516714869164997, 0.1536634077355284, 0.333820506459941, 0.512211359118428, 0.7530633164618011, 0.17047571379229765, 0.0603316954437351, 0.015469665498393615, 0.9965697188109628, 0.1579809194577184, 0.0937353455449129, 0.30227015922910117, 0.4455061928707658, 0.5979199637022359, 0.16645390930904735, 0.23194038152405413, 0.0035042928275588916, 0.9910643078237529, 0.149408816337743, 0.8498120505982736, 0.9995853993017267, 0.9973510686097568, 0.9955583877957004, 0.9979860167773226, 0.9970215699207947, 0.9912919824784692, 0.9647856656003114, 0.03461931566837756, 0.32299063659532057, 0.5932987696981508, 0.06040559300971409, 0.02316926855167116, 0.99563977875924, 0.6446049157593461, 0.23096032574144743, 0.12437060587318838, 0.9451150177544002, 0.05377986574908434, 0.14310799565480853, 0.5330569174011179, 0.18438392609035104, 0.045077660870395095, 0.09422860434956083], \"Term\": [\"_\", \"accept\", \"agree\", \"agree\", \"ai\", \"also\", \"also\", \"also\", \"also\", \"also\", \"amendment\", \"analysis\", \"announce\", \"application\", \"arab\", \"area\", \"area\", \"area\", \"area\", \"area\", \"argument\", \"arm\", \"arm\", \"arm\", \"armenian\", \"article\", \"article\", \"article\", \"astronomy\", \"atheist\", \"attack\", \"attack\", \"attack\", \"available\", \"available\", \"ax\", \"back\", \"back\", \"back\", \"ball\", \"band\", \"baseball\", \"belief\", \"believe\", \"bhj\", \"big\", \"big\", \"big\", \"bike\", \"bit\", \"bit\", \"black\", \"black\", \"black\", \"black\", \"bo\", \"border\", \"box\", \"box\", \"buyer\", \"bxn\", \"c\", \"cable\", \"cambridge\", \"cap\", \"capable\", \"car\", \"card\", \"carry\", \"carry\", \"carry\", \"carry\", \"case\", \"case\", \"case\", \"case\", \"cause\", \"cause\", \"cause\", \"cd\", \"center\", \"center\", \"center\", \"center\", \"center\", \"certainly\", \"child\", \"child\", \"chip\", \"choose\", \"christian\", \"church\", \"ci\", \"citizen\", \"citizen\", \"civilian\", \"civilian\", \"claim\", \"clear\", \"coach\", \"code\", \"color\", \"colorado\", \"com\", \"com\", \"come\", \"come\", \"come\", \"come\", \"computer\", \"conclusion\", \"condition\", \"condition\", \"condition\", \"condition\", \"constitution\", \"conversion\", \"convert\", \"cop\", \"copy\", \"copy\", \"cost\", \"cost\", \"cost\", \"country\", \"country\", \"country\", \"court\", \"crime\", \"criminal\", \"cub\", \"cx\", \"daughter\", \"death\", \"death\", \"degree\", \"diagnosis\", \"direct\", \"disk\", \"distribution\", \"distribution\", \"division\", \"division\", \"division\", \"dn\", \"do\", \"do\", \"doctor\", \"dog\", \"dream\", \"drive\", \"drive\", \"driver\", \"drug\", \"drug\", \"drug\", \"earth\", \"earth\", \"eat\", \"eat\", \"eeg\", \"effect\", \"effect\", \"ei\", \"email\", \"encryption\", \"engine\", \"ensure\", \"entry\", \"ethernet\", \"ethnic\", \"even\", \"even\", \"even\", \"even\", \"evidence\", \"examine\", \"existence\", \"expansion\", \"explain\", \"fact\", \"fact\", \"faith\", \"fan\", \"father\", \"file\", \"fire\", \"fire\", \"firearm\", \"first\", \"first\", \"first\", \"first\", \"first\", \"floppy\", \"food\", \"force\", \"force\", \"force\", \"force\", \"game\", \"gang\", \"gateway\", \"gb\", \"get\", \"get\", \"get\", \"get\", \"girl\", \"give\", \"give\", \"give\", \"give\", \"go\", \"go\", \"go\", \"go\", \"goal\", \"goal\", \"god\", \"good\", \"good\", \"good\", \"government\", \"government\", \"grade\", \"graphic\", \"greek\", \"greek\", \"ground\", \"ground\", \"group\", \"group\", \"group\", \"guide\", \"gun\", \"guy\", \"guy\", \"gw\", \"gy\", \"hardware\", \"health\", \"helmet\", \"help\", \"help\", \"hh\", \"high\", \"high\", \"high\", \"high\", \"hit\", \"hockey\", \"honest\", \"host\", \"host\", \"host\", \"hst\", \"human_being\", \"husband\", \"hz\", \"hz\", \"ice\", \"icon\", \"ij\", \"illegal\", \"image\", \"improve\", \"inch\", \"include\", \"include\", \"include\", \"include\", \"include\", \"include\", \"increase\", \"increase\", \"increase\", \"info\", \"information\", \"information\", \"information\", \"inhabitant\", \"international\", \"internet\", \"invasion\", \"ip\", \"israeli\", \"item\", \"jet\", \"key\", \"kill\", \"know\", \"know\", \"know\", \"kp\", \"land\", \"land\", \"last\", \"last\", \"last\", \"last\", \"last\", \"last\", \"launch\", \"law\", \"law\", \"lead\", \"lead\", \"lead\", \"lebanese\", \"lebanese_resistance\", \"legal\", \"legal\", \"less\", \"less\", \"less\", \"less\", \"less\", \"level\", \"level\", \"level\", \"level\", \"liar\", \"life\", \"life\", \"line\", \"line\", \"line\", \"line\", \"lk\", \"look\", \"look\", \"look\", \"los_angele\", \"love\", \"love\", \"low\", \"low\", \"low\", \"m\", \"m\", \"m\", \"m\", \"machine\", \"mail\", \"make\", \"make\", \"make\", \"make\", \"make\", \"man\", \"man\", \"man\", \"many\", \"many\", \"many\", \"many\", \"material\", \"matter\", \"mean\", \"mean\", \"medical\", \"memory\", \"mf\", \"military\", \"military\", \"militia\", \"mind\", \"mission\", \"moon\", \"motif\", \"motorcycle\", \"mu\", \"murder\", \"n\", \"need\", \"need\", \"need\", \"negative\", \"nei\", \"new\", \"new\", \"new\", \"new\", \"next\", \"next\", \"next\", \"next\", \"nhl\", \"nntp_poste\", \"nntp_poste\", \"nntp_poste\", \"northern\", \"occupy\", \"offer\", \"offer\", \"offer\", \"opinion\", \"opinion\", \"orbit\", \"organization\", \"organization\", \"organization\", \"organization\", \"owner\", \"owner\", \"pack\", \"patient\", \"patrol\", \"pen\", \"people\", \"people\", \"perhaps\", \"perhaps\", \"period\", \"period\", \"person\", \"person\", \"person\", \"phone\", \"physical\", \"pick\", \"pick\", \"pick\", \"pin\", \"play\", \"player\", \"playoff\", \"point\", \"point\", \"point\", \"police\", \"policy\", \"policy\", \"policy\", \"possess\", \"power\", \"power\", \"power\", \"power\", \"power\", \"power\", \"price\", \"price\", \"price\", \"price\", \"probe\", \"problem\", \"problem\", \"problem\", \"procedure\", \"program\", \"program\", \"protect\", \"protect\", \"prove\", \"provide\", \"provide\", \"provide\", \"provide\", \"public\", \"public\", \"public\", \"question\", \"question\", \"qx\", \"r\", \"radio\", \"radio\", \"radio\", \"rate\", \"rate\", \"rate\", \"rate\", \"reality\", \"reason\", \"recommend\", \"reduce\", \"reduce\", \"reduce\", \"religion\", \"religious\", \"report\", \"report\", \"report\", \"report\", \"report\", \"research\", \"research\", \"result\", \"result\", \"result\", \"result\", \"ride\", \"rider\", \"right\", \"right\", \"right\", \"right\", \"ripem\", \"risk\", \"risk\", \"rlk\", \"rocket\", \"routine\", \"run\", \"run\", \"russian\", \"s\", \"s\", \"s\", \"safety\", \"safety\", \"safety\", \"sale\", \"satellite\", \"saturn\", \"say\", \"say\", \"say\", \"science\", \"science\", \"scientific\", \"score\", \"screen\", \"season\", \"sector\", \"see\", \"see\", \"see\", \"seem\", \"seem\", \"seem\", \"select\", \"select\", \"sell\", \"sell\", \"sell\", \"sell\", \"send\", \"send\", \"send\", \"send\", \"sense\", \"server\", \"service\", \"service\", \"service\", \"service\", \"service\", \"shipping\", \"shoot\", \"shoot\", \"shuttle\", \"significant\", \"sj\", \"sky\", \"slave\", \"slightly\", \"smoke\", \"software\", \"soldier\", \"soldier\", \"son\", \"space\", \"space\", \"speak\", \"sport\", \"stack\", \"stat\", \"state\", \"state\", \"state\", \"state\", \"statement\", \"study\", \"study\", \"super\", \"super\", \"sy\", \"syndrome\", \"system\", \"system\", \"system\", \"take\", \"take\", \"take\", \"take\", \"take\", \"talk\", \"talk\", \"team\", \"tell\", \"tell\", \"tell\", \"tell\", \"terrorism\", \"test\", \"thank\", \"thank\", \"thank\", \"thing\", \"thing\", \"thing\", \"think\", \"think\", \"time\", \"time\", \"time\", \"time\", \"time\", \"trade\", \"translation\", \"treatment\", \"trial\", \"true\", \"true\", \"trust\", \"trust\", \"truth\", \"tube\", \"tumor\", \"turk\", \"turkish\", \"tv\", \"understand\", \"upgrade\", \"use\", \"use\", \"use\", \"use\", \"usenet\", \"usenet\", \"user\", \"valid\", \"version\", \"vertical\", \"village\", \"wa\", \"wa\", \"want\", \"want\", \"want\", \"war\", \"war\", \"war\", \"way\", \"way\", \"way\", \"way\", \"weapon\", \"week\", \"week\", \"week\", \"week\", \"well\", \"well\", \"well\", \"well\", \"widget\", \"win\", \"win\", \"window\", \"wing\", \"winner\", \"wire\", \"withdraw\", \"wm\", \"word\", \"word\", \"work\", \"work\", \"work\", \"work\", \"workstation\", \"write\", \"write\", \"write\", \"wrong\", \"wrong\", \"year\", \"year\", \"year\", \"year\", \"year\"]}, \"R\": 30, \"lambda.step\": 0.01, \"plot.opts\": {\"xlab\": \"PC1\", \"ylab\": \"PC2\"}, \"topic.order\": [3, 2, 4, 8, 6, 5, 7, 1]};\n",
       "\n",
       "function LDAvis_load_lib(url, callback){\n",
       "  var s = document.createElement('script');\n",
       "  s.src = url;\n",
       "  s.async = true;\n",
       "  s.onreadystatechange = s.onload = callback;\n",
       "  s.onerror = function(){console.warn(\"failed to load library \" + url);};\n",
       "  document.getElementsByTagName(\"head\")[0].appendChild(s);\n",
       "}\n",
       "\n",
       "if(typeof(LDAvis) !== \"undefined\"){\n",
       "   // already loaded: just create the visualization\n",
       "   !function(LDAvis){\n",
       "       new LDAvis(\"#\" + \"ldavis_el3522870106556964039501038\", ldavis_el3522870106556964039501038_data);\n",
       "   }(LDAvis);\n",
       "}else if(typeof define === \"function\" && define.amd){\n",
       "   // require.js is available: use it to load d3/LDAvis\n",
       "   require.config({paths: {d3: \"https://d3js.org/d3.v5\"}});\n",
       "   require([\"d3\"], function(d3){\n",
       "      window.d3 = d3;\n",
       "      LDAvis_load_lib(\"https://cdn.jsdelivr.net/gh/bmabey/pyLDAvis@3.3.1/pyLDAvis/js/ldavis.v3.0.0.js\", function(){\n",
       "        new LDAvis(\"#\" + \"ldavis_el3522870106556964039501038\", ldavis_el3522870106556964039501038_data);\n",
       "      });\n",
       "    });\n",
       "}else{\n",
       "    // require.js not available: dynamically load d3 & LDAvis\n",
       "    LDAvis_load_lib(\"https://d3js.org/d3.v5.js\", function(){\n",
       "         LDAvis_load_lib(\"https://cdn.jsdelivr.net/gh/bmabey/pyLDAvis@3.3.1/pyLDAvis/js/ldavis.v3.0.0.js\", function(){\n",
       "                 new LDAvis(\"#\" + \"ldavis_el3522870106556964039501038\", ldavis_el3522870106556964039501038_data);\n",
       "            })\n",
       "         });\n",
       "}\n",
       "</script>"
      ],
      "text/plain": [
       "<IPython.core.display.HTML object>"
      ]
     },
     "execution_count": 27,
     "metadata": {},
     "output_type": "execute_result"
    }
   ],
   "source": [
    "pyLDAvis.display(vis)"
   ]
  },
  {
   "cell_type": "code",
   "execution_count": 28,
   "id": "acb48bde",
   "metadata": {},
   "outputs": [
    {
     "name": "stderr",
     "output_type": "stream",
     "text": [
      "/Users/andrewong/opt/anaconda3/lib/python3.8/site-packages/ipykernel/ipkernel.py:287: DeprecationWarning: `should_run_async` will not call `transform_cell` automatically in the future. Please pass the result to `transformed_cell` argument and any exception that happen during thetransform in `preprocessing_exc_tuple` in IPython 7.17 and above.\n",
      "  and should_run_async(code)\n"
     ]
    },
    {
     "data": {
      "text/plain": [
       "'\\n<link rel=\"stylesheet\" type=\"text/css\" href=\"https://cdn.jsdelivr.net/gh/bmabey/pyLDAvis@3.3.1/pyLDAvis/js/ldavis.v1.0.0.css\">\\n\\n\\n<div id=\"ldavis_el35228701065569687140786\"></div>\\n<script type=\"text/javascript\">\\n\\nvar ldavis_el35228701065569687140786_data = {\"mdsDat\": {\"x\": [0.25882498641525686, 0.23734308285178574, 0.18901675249867717, 0.020534472713872095, -0.063105186819492, -0.2636918123944939, -0.1324550149401691, -0.24646728032543588], \"y\": [-0.019464005892578434, -0.10329923291172859, -0.0770288342430129, 0.07585817107039187, 0.2586654984289735, -0.19059847171592958, 0.19638586161114777, -0.14051898634726384], \"topics\": [1, 2, 3, 4, 5, 6, 7, 8], \"cluster\": [1, 1, 1, 1, 1, 1, 1, 1], \"Freq\": [35.00736766954032, 26.704902035450107, 11.164278584481172, 9.462282328304427, 6.73507682534561, 4.5596486720939415, 4.27988449186443, 2.0865593929199786]}, \"tinfo\": {\"Term\": [\"ax\", \"_\", \"people\", \"line\", \"go\", \"get\", \"say\", \"think\", \"write\", \"team\", \"year\", \"nntp_poste\", \"game\", \"space\", \"car\", \"host\", \"article\", \"organization\", \"government\", \"law\", \"state\", \"sale\", \"child\", \"gun\", \"c\", \"good\", \"right\", \"physical\", \"kill\", \"first\", \"believe\", \"reason\", \"evidence\", \"claim\", \"christian\", \"sense\", \"faith\", \"understand\", \"god\", \"religion\", \"argument\", \"matter\", \"accept\", \"explain\", \"speak\", \"prove\", \"patient\", \"truth\", \"belief\", \"mind\", \"clear\", \"atheist\", \"certainly\", \"church\", \"valid\", \"statement\", \"conclusion\", \"slave\", \"religious\", \"existence\", \"perhaps\", \"agree\", \"say\", \"opinion\", \"love\", \"mean\", \"talk\", \"life\", \"fact\", \"think\", \"thing\", \"people\", \"true\", \"word\", \"tell\", \"many\", \"make\", \"even\", \"know\", \"write\", \"wrong\", \"come\", \"article\", \"man\", \"see\", \"point\", \"way\", \"take\", \"go\", \"s\", \"time\", \"seem\", \"well\", \"give\", \"line\", \"question\", \"good\", \"want\", \"organization\", \"get\", \"m\", \"key\", \"mail\", \"file\", \"window\", \"card\", \"computer\", \"chip\", \"driver\", \"software\", \"info\", \"email\", \"machine\", \"image\", \"version\", \"code\", \"phone\", \"entry\", \"memory\", \"color\", \"ripem\", \"user\", \"internet\", \"pin\", \"application\", \"screen\", \"hardware\", \"choose\", \"graphic\", \"disk\", \"encryption\", \"thank\", \"drive\", \"copy\", \"program\", \"bit\", \"use\", \"system\", \"available\", \"host\", \"line\", \"nntp_poste\", \"need\", \"com\", \"organization\", \"problem\", \"run\", \"work\", \"get\", \"help\", \"new\", \"send\", \"do\", \"also\", \"write\", \"information\", \"look\", \"know\", \"m\", \"want\", \"article\", \"team\", \"game\", \"car\", \"play\", \"player\", \"hockey\", \"bike\", \"season\", \"hit\", \"trade\", \"fan\", \"engine\", \"ride\", \"score\", \"playoff\", \"pen\", \"capable\", \"motorcycle\", \"baseball\", \"sport\", \"pack\", \"rider\", \"stat\", \"helmet\", \"coach\", \"saturn\", \"dog\", \"ice\", \"winner\", \"ball\", \"win\", \"division\", \"year\", \"pick\", \"goal\", \"owner\", \"next\", \"go\", \"guy\", \"last\", \"get\", \"good\", \"line\", \"big\", \"nntp_poste\", \"well\", \"article\", \"organization\", \"first\", \"run\", \"write\", \"host\", \"s\", \"look\", \"time\", \"back\", \"think\", \"take\", \"see\", \"test\", \"wire\", \"scientific\", \"announce\", \"motif\", \"material\", \"food\", \"treatment\", \"health\", \"dn\", \"doctor\", \"diagnosis\", \"syndrome\", \"significant\", \"convert\", \"cable\", \"tumor\", \"analysis\", \"translation\", \"medical\", \"eeg\", \"procedure\", \"degree\", \"improve\", \"ensure\", \"tube\", \"slightly\", \"los_angele\", \"negative\", \"cap\", \"period\", \"trust\", \"ground\", \"eat\", \"research\", \"effect\", \"increase\", \"reduce\", \"study\", \"level\", \"low\", \"high\", \"report\", \"science\", \"power\", \"risk\", \"result\", \"rate\", \"cost\", \"year\", \"cause\", \"service\", \"information\", \"provide\", \"week\", \"case\", \"also\", \"lead\", \"less\", \"group\", \"include\", \"gun\", \"kill\", \"reality\", \"crime\", \"murder\", \"weapon\", \"police\", \"tv\", \"trial\", \"criminal\", \"firearm\", \"cop\", \"court\", \"examine\", \"militia\", \"father\", \"smoke\", \"illegal\", \"colorado\", \"son\", \"girl\", \"amendment\", \"dream\", \"husband\", \"honest\", \"constitution\", \"possess\", \"gang\", \"cub\", \"liar\", \"child\", \"fire\", \"citizen\", \"legal\", \"government\", \"death\", \"law\", \"drug\", \"black\", \"protect\", \"arm\", \"public\", \"state\", \"carry\", \"safety\", \"right\", \"people\", \"country\", \"shoot\", \"case\", \"person\", \"ax\", \"_\", \"c\", \"cx\", \"rlk\", \"sj\", \"mf\", \"nei\", \"mu\", \"r\", \"ip\", \"sy\", \"conversion\", \"lk\", \"wm\", \"gy\", \"hst\", \"kp\", \"bo\", \"ei\", \"gb\", \"ai\", \"bhj\", \"n\", \"qx\", \"ij\", \"ci\", \"hh\", \"gw\", \"bxn\", \"hz\", \"m\", \"wa\", \"israeli\", \"lebanese\", \"armenian\", \"village\", \"launch\", \"turk\", \"orbit\", \"mission\", \"moon\", \"turkish\", \"arab\", \"occupy\", \"terrorism\", \"withdraw\", \"satellite\", \"international\", \"workstation\", \"rocket\", \"northern\", \"ethnic\", \"cambridge\", \"lebanese_resistance\", \"patrol\", \"astronomy\", \"expansion\", \"inhabitant\", \"border\", \"invasion\", \"sky\", \"russian\", \"greek\", \"space\", \"soldier\", \"land\", \"civilian\", \"attack\", \"earth\", \"war\", \"military\", \"government\", \"force\", \"first\", \"policy\", \"year\", \"center\", \"area\", \"sale\", \"physical\", \"server\", \"item\", \"wing\", \"direct\", \"nhl\", \"recommend\", \"upgrade\", \"gateway\", \"vertical\", \"shuttle\", \"band\", \"cd\", \"probe\", \"floppy\", \"sector\", \"widget\", \"icon\", \"daughter\", \"ethernet\", \"buyer\", \"inch\", \"shipping\", \"human_being\", \"routine\", \"jet\", \"guide\", \"grade\", \"stack\", \"usenet\", \"box\", \"sell\", \"offer\", \"price\", \"select\", \"super\", \"distribution\", \"radio\", \"condition\", \"include\"], \"Freq\": [33697.0, 3365.0, 6058.0, 13780.0, 5835.0, 8027.0, 6746.0, 5630.0, 10460.0, 1882.0, 3682.0, 5419.0, 1801.0, 1395.0, 1754.0, 4874.0, 7469.0, 8053.0, 1678.0, 1581.0, 2230.0, 871.0, 1274.0, 1228.0, 1070.0, 5028.0, 3065.0, 815.0, 1165.0, 2945.0, 2735.653156181414, 2727.8057439761974, 2400.9326324552576, 1658.1074893827395, 1420.6447960528837, 1410.9291968379046, 1160.6518574890897, 907.9812145754717, 875.8636632673455, 854.8477904768544, 841.5266772936759, 829.8590211961667, 826.5172703818611, 813.5035578316614, 791.0662976221839, 788.8618453324127, 751.1813798087716, 733.5248071188927, 710.536499319384, 702.6388490079937, 692.4624107731928, 624.9735133178857, 607.1561158251361, 600.3310150296979, 562.3379102801506, 548.5219596090517, 534.9087424842426, 516.6282009907833, 509.73536518879405, 509.5214210536398, 788.4375716912242, 1031.3319524837639, 6381.6266634522335, 1157.0968435567104, 860.9008274466552, 2156.560654141621, 1309.7283823170228, 1197.2323232698395, 1672.950204267605, 4930.37004485634, 3084.4474741225545, 5107.1168175267, 1240.6146828793592, 1058.5812269985458, 2167.696435899213, 2517.6141177077016, 4562.5881325343325, 2498.90018742136, 4626.165372650764, 6742.915235068895, 1071.8395818384543, 2754.4485989737054, 4870.767429965771, 1414.2925830410002, 3297.4205836917727, 2255.269155691372, 2434.345635408396, 2474.519356849895, 3425.057852648824, 2275.5714273532953, 2931.5541104877316, 1813.360943903206, 2729.70923910229, 2143.7916886529883, 4048.6356476530673, 1908.300592157282, 2496.6750426895255, 2136.052191462076, 2891.941547120614, 2785.16749835615, 2247.374386606092, 2285.077368237719, 2017.4919712496885, 1966.514806609691, 1551.5804340152015, 1520.0277924236027, 1498.1248320126072, 1263.3937957172595, 1201.9094473341531, 1088.2989496117684, 1031.1048314507464, 1018.4198837200191, 996.8573188178046, 926.9207077825188, 904.0508291124875, 881.8786053840269, 879.1250702658008, 824.4848375444572, 799.0455682155168, 779.6964932441995, 771.9789701816479, 752.486032351489, 749.3892244673051, 737.3840287446038, 733.9745589138711, 719.3669639985378, 699.0936500829744, 696.1291161051141, 690.6397090307753, 687.0067722259754, 678.775898528791, 2435.790337026755, 2632.5493311975647, 936.7246419173243, 1875.2566808845606, 1574.0068953847592, 3768.823587051982, 3209.921815271913, 1138.896955694908, 3427.161126027397, 7668.850101367401, 3544.7923508829704, 2584.591528269408, 1049.7086168894543, 3845.1786395344807, 2053.089716736668, 1718.7198238743795, 2150.7756349948363, 3270.430533700643, 1536.2828568441023, 1844.9855376699975, 1259.3243949834966, 1309.3211342404895, 1806.2175343170143, 2415.9495707734413, 1253.9869230728566, 1444.9083620509314, 1683.6300741267312, 1396.5323977464088, 1325.9292221318242, 1312.8566439203296, 1881.8767652987653, 1799.9407991914215, 1753.357689665909, 1291.661924622033, 881.2205443117552, 733.0430462905812, 654.852213033324, 614.7344579341094, 545.2768216698751, 478.4079601229025, 477.22751119564396, 467.93444547649966, 449.0592913310643, 434.9034269174337, 344.3051996791796, 342.0384931554655, 326.97432894171044, 316.0960154401535, 295.92279850281716, 270.39479271476546, 270.51837080521426, 244.558484901414, 234.59550464273926, 225.99943472371987, 225.26727170980627, 216.35518135562, 210.04741948403387, 209.64995478890506, 207.859534297448, 207.365806663673, 1075.049061981151, 442.6959802975554, 1963.2082228722709, 453.61118178393207, 420.94550129191146, 290.4518492542526, 750.7962577238116, 1997.349255691929, 435.94691583583744, 829.5031886382466, 1967.6298359222294, 1337.301717492266, 2057.789951514691, 577.8213465161022, 1163.063726934781, 1059.395859466322, 1285.1417060009217, 1310.2213924625987, 844.0651884282204, 790.4976196465565, 1301.014097990766, 988.2615239573097, 790.7617162335262, 680.838662295758, 732.5451921476348, 601.8964368259788, 699.0059279933771, 623.9462965779851, 607.046387097947, 927.1082082612173, 570.0841657679043, 381.41543246724177, 382.1720367314063, 374.4295371084377, 370.960547478498, 370.04365650043695, 344.78096947236486, 314.0058920850399, 410.3250387053617, 308.51122954962085, 305.4222553638112, 297.9195627891244, 290.4315962022868, 285.8209460451348, 276.1434516187888, 274.82740141239384, 272.1707199275788, 259.80060694222425, 252.93348233926505, 254.0247629965088, 248.7236339244764, 244.53281601706198, 222.4327331140452, 215.4046279766082, 199.1089630995757, 186.6951677368033, 185.2500102638617, 184.44531998552822, 183.54954097658558, 366.6809771750851, 315.72945568595253, 449.7134313432728, 367.23467431821285, 782.1140929156184, 561.5301226184109, 576.5196490116392, 360.7378516712448, 523.4034073086825, 493.5471466055219, 561.3884699429851, 817.6269453821238, 588.5682257161491, 525.1964662445602, 661.0693613548145, 387.71141529531343, 487.1894279053135, 450.08282708462707, 450.72714569144193, 678.7641083543452, 475.76398704048154, 420.581264454179, 510.66514462709944, 487.1691513528135, 422.615574717916, 470.9192786341504, 443.3139134929387, 393.705118903574, 398.9275772174431, 406.4024603304609, 390.87591680726473, 1227.7069845007716, 1164.2798111675424, 503.83168297329615, 489.03537408507844, 486.9358120201009, 433.4245139424823, 432.21174271358984, 361.28581092063826, 342.44022567887714, 332.5801452369749, 300.74813569083125, 299.9480001669326, 275.53976472104785, 275.3080187047168, 232.9826132354926, 220.19917078589424, 217.97759788010154, 214.44301255734865, 209.41428324394238, 205.28901467664167, 202.1779700423422, 198.96964731159898, 197.3257160157915, 195.43453790461328, 194.5655054611861, 187.7424931484137, 186.6335510688751, 180.76791970693, 181.43771951354617, 171.62930168274738, 1214.963513552468, 574.7424163234963, 377.0767107402127, 340.1877519604346, 1257.2783163945207, 798.3225149665009, 1129.3778169710313, 456.2924053568829, 462.8523676989568, 437.62541189599455, 265.60544573185956, 715.0126340089528, 985.5762794107341, 438.5951692975505, 349.82807985210275, 734.4789768673905, 950.5361688617919, 360.89383622866865, 314.6777906717553, 374.7701354032755, 326.9246918094722, 33696.639886505545, 3364.2626969825114, 1069.787651390002, 572.2533892840086, 448.3235786115547, 300.82359752396917, 197.19487809398055, 179.6991766258003, 178.44057357059833, 163.7255619793821, 159.04767435382752, 145.09939670232262, 128.68669703037932, 111.07083260868524, 110.01912872101494, 111.38645226348561, 106.19256194873202, 85.006470655985, 85.27417796852349, 82.9175280138821, 84.5278862642745, 86.61268723851168, 78.7776478203056, 77.48587730629774, 76.79094364821869, 76.218206250118, 74.15344494395589, 76.40397404140569, 69.11558701924002, 61.485993432065776, 95.42763708593183, 269.1149610514423, 86.13516043908977, 518.0665071002907, 441.7841519437318, 433.22267910055047, 425.52000245517513, 364.14716189925764, 339.1386774352541, 321.440067000483, 307.2118662703381, 300.19934174645823, 297.8772898368639, 291.7479755780426, 267.30526726857613, 267.4489849152573, 263.7062033711456, 258.24070580765436, 223.87704794263095, 197.78036983568668, 193.31704027207823, 175.73873252337035, 170.13448722825257, 166.64182818741563, 160.90901836290936, 158.16730323957046, 154.66075917832333, 154.5750537617508, 151.6901845903452, 151.01176556727754, 143.9225019684185, 143.76751234944865, 137.9699014933417, 442.0439709049867, 986.74732695698, 354.0820079527616, 264.3125330078032, 190.25024402974464, 352.800000431752, 353.19485249740194, 289.50129217406965, 240.56533100666934, 420.6613468907183, 266.07167799217035, 376.93595738625237, 207.33045869388548, 347.40011087060486, 241.62986631686323, 245.44112509262885, 870.7659209164585, 814.2117008433921, 512.4160556582323, 422.8929353790422, 385.9393020208304, 329.2766978454909, 322.7377068547215, 299.74219233990425, 265.55831109331893, 257.13195296736853, 194.08921207607088, 153.29644845402845, 149.11640410219988, 145.29500896457668, 145.06179205494942, 143.88130708391367, 142.58446969333698, 134.1239277360981, 135.29217297214566, 132.7849257074396, 131.1278154643428, 129.22692217304726, 127.94447271584447, 121.09248172656554, 120.19287369445806, 118.33775451411331, 117.26129480095179, 111.43971464432263, 104.85431257680207, 101.12166176260611, 190.48324876376557, 332.83443909984777, 386.9945420301705, 244.6372068475432, 276.3821085757955, 162.16833293354944, 128.1160912857148, 180.7241083928548, 139.81348111868613, 143.50503514923037, 146.56067249950996], \"Total\": [33697.0, 3365.0, 6058.0, 13780.0, 5835.0, 8027.0, 6746.0, 5630.0, 10460.0, 1882.0, 3682.0, 5419.0, 1801.0, 1395.0, 1754.0, 4874.0, 7469.0, 8053.0, 1678.0, 1581.0, 2230.0, 871.0, 1274.0, 1228.0, 1070.0, 5028.0, 3065.0, 815.0, 1165.0, 2945.0, 2736.7280277120462, 2728.8811748013845, 2402.007646016941, 1659.1825880597169, 1421.71924280717, 1412.0043815987817, 1161.7264542908608, 909.0563470013881, 876.9381890407046, 855.9223878653848, 842.6015269525213, 830.9343264634414, 827.5925646784808, 814.578522262083, 792.1414031909532, 789.9373110656354, 752.2599048291584, 734.5998353762144, 711.6110986003179, 703.7140582404553, 693.5396608151677, 626.0479669734157, 608.2310064176169, 601.4054135356982, 563.4143500849505, 549.5967812612479, 535.9834467272528, 517.7105444077014, 510.81012714819786, 510.59618618653025, 792.2727543310803, 1044.133853037075, 6746.016418804779, 1184.347144264574, 874.1199899595302, 2262.3324058258063, 1357.8754492081853, 1236.0438044601622, 1758.7634280035325, 5630.311233951036, 3470.2397634712047, 6058.587635469421, 1302.9626530447879, 1097.6531241693629, 2507.090007384466, 3052.041840945899, 6248.414417905063, 3088.123012387355, 6465.516367932185, 10460.671079519663, 1134.2534822344473, 3611.94788685681, 7469.558019788122, 1603.5191397896392, 4644.338828863286, 2896.0685206550147, 3232.131942684349, 3548.6066329011455, 5835.334197255784, 3240.6358435468405, 4785.552680895604, 2339.112109996301, 4565.828481618553, 3162.7509416678363, 13780.523743704161, 2721.9549903688194, 5028.539063206145, 3571.813036472575, 8053.158480320809, 8027.2556189580855, 4437.404950270157, 2286.140857427637, 2018.5559939670218, 1967.5784660374231, 1552.6437271734558, 1521.0918860392837, 1499.1887695439816, 1264.4574638240172, 1202.9728396437233, 1089.362333910216, 1032.1687252344316, 1019.48347950599, 997.9211498677428, 927.9850090665053, 905.1144101915887, 882.9423788443268, 880.1888649777285, 825.5498198347249, 800.1094227747317, 780.7601959070288, 773.044504942679, 753.5499545603368, 750.4532212492472, 738.4477621193961, 735.0386932998216, 720.4306457783057, 700.1573415887289, 697.1979949172307, 691.7029327170005, 688.0701403690334, 679.8392460648702, 2510.758091345033, 2779.9961096459742, 954.1495926691887, 2066.131100974866, 1720.6469647966576, 4765.404397113236, 3978.292960244754, 1243.0561731679875, 4874.305489229284, 13780.523743704161, 5419.039117168402, 3645.7353851752373, 1163.2705064797715, 8053.158480320809, 3164.2547232542433, 2510.141337630618, 3625.492095819366, 8027.2556189580855, 2242.51101651602, 3117.336625869348, 1641.4635620315494, 1859.7380226219384, 4530.950679861297, 10460.671079519663, 1795.469766762944, 3162.300696468083, 6465.516367932185, 4437.404950270157, 3571.813036472575, 7469.558019788122, 1882.9433402818274, 1801.0072229529883, 1754.4244923180613, 1292.7298084712072, 882.2867318909462, 734.1092766999018, 655.9184894493503, 615.8015128536249, 546.3438233912057, 479.47541074510866, 478.2939536901629, 469.0017300160257, 450.125884684713, 435.96963472447334, 345.37133405047473, 343.10600221063015, 328.04998390941995, 317.1624808325499, 296.9889464080544, 271.46133905884085, 271.58664399426846, 245.62504693916142, 235.66264042780838, 227.06573367014084, 226.33355553749107, 217.4237562619067, 211.1143440072413, 210.7164522639483, 208.9279770526969, 208.4332127829289, 1264.985592100268, 528.7354869106697, 3682.533583037381, 565.1375750137591, 517.8005961081743, 320.2108915428408, 1333.0601783448271, 5835.334197255784, 603.3991429053516, 1710.5261858424562, 8027.2556189580855, 5028.539063206145, 13780.523743704161, 1153.9664145676106, 5419.039117168402, 4565.828481618553, 7469.558019788122, 8053.158480320809, 2945.3549274511533, 2510.141337630618, 10460.671079519663, 4874.305489229284, 3240.6358435468405, 3162.300696468083, 4785.552680895604, 1959.5356868889176, 5630.311233951036, 3548.6066329011455, 4644.338828863286, 928.1742463473089, 571.1502870958384, 382.48094806136436, 383.24242138782756, 375.4954159507562, 372.0266423097672, 371.1090773663889, 345.8471893904075, 315.07169858883503, 411.7234389598398, 309.57680847532754, 306.4892313356553, 298.985151906661, 291.49795428556723, 286.88692273653123, 277.2094962248008, 275.90033599424504, 273.2367301330275, 260.86644383023236, 253.9989875342567, 255.09644810801794, 249.78935839652212, 245.5986815247887, 223.499196508732, 216.47149313628063, 200.17514853252132, 187.76200369777374, 186.3160200605691, 185.51191444304314, 184.6167031418809, 369.93320441763626, 318.5525717966151, 462.7621922780222, 394.1455082085625, 909.7663169233014, 650.8956863707978, 702.7817921811263, 405.3873747081204, 709.048797854478, 707.8188442258414, 894.8842833324885, 1715.0019493017946, 1104.136470362386, 904.3960208927701, 1457.4965758300466, 536.2880105970826, 885.8730166576472, 782.0694600176153, 1008.6359815427986, 3682.533583037381, 1208.4019605042183, 852.2603300699611, 1795.469766762944, 1520.2776155219947, 949.4817508018468, 2360.2114760746363, 4530.950679861297, 952.1749419084231, 1219.301721984401, 2129.6736258998526, 1831.596431560864, 1228.7727821059552, 1165.3463228046742, 504.90162695279963, 490.10119234142235, 488.00225312794, 434.49042432939393, 433.27804473053124, 362.35346705257643, 343.5065431164036, 333.6459451872298, 301.8138677202984, 301.01420532165093, 276.6057633969255, 276.380200008809, 234.04869901204236, 221.2660983025886, 219.04543984219464, 215.50981118379258, 210.4844304514184, 206.35594930434402, 203.245115962747, 200.0355864157955, 198.39318905460394, 196.50136752525427, 195.6340223001825, 188.80825975920646, 187.7077142560371, 181.8352559093825, 182.5159844743605, 172.69830235401136, 1274.2294351820997, 605.5431374983197, 413.2467961417789, 370.29370080421364, 1678.8813425257215, 1007.2509102412595, 1581.1239593959663, 587.8709768872966, 613.277210390318, 591.2144514922991, 296.53832123103473, 1348.9746428409444, 2230.3436885484725, 658.9760234530364, 488.39118575618204, 3065.16657948878, 6058.587635469421, 711.7098884117029, 460.1393162499282, 2360.2114760746363, 1301.49381608827, 33697.581660735654, 3365.21600847688, 1070.7336535540903, 573.1971202224115, 449.26567887224803, 301.7735466580114, 198.13709632673294, 180.642144992784, 179.40634922430417, 164.66739550271083, 160.041749012936, 146.04516637953506, 129.64561927755648, 112.02563249756457, 110.96629645381924, 112.34991607046999, 107.15888442377835, 85.9502151518925, 86.22255650411034, 83.85931421542553, 85.49698032350122, 87.61533886379947, 79.7194598254183, 78.4334395300293, 77.73374737018862, 77.16057900305078, 75.10183244996804, 77.4266127959824, 70.06884477010954, 62.42824232663282, 142.7442497700639, 4437.404950270157, 168.59449859960938, 519.1480497359191, 442.86623936818285, 434.3041578395581, 426.6016887465579, 365.22892569711934, 340.22008742607335, 322.5217217473756, 308.29411501778736, 301.281210578154, 298.95867117108185, 292.82949847992546, 268.3872368251152, 268.53190092552586, 264.78865449317476, 259.32237742631327, 224.9599825367622, 198.86710457344958, 194.40020214945648, 176.8220781847707, 171.21663564424077, 167.72454575245234, 161.9919646933359, 159.25053447147255, 155.7430964315589, 155.65895494399183, 152.77178499395, 152.09483601744728, 145.0044107587284, 144.85145014575707, 139.0514877288901, 508.94391467801626, 1395.8897388691369, 499.4559984481091, 382.1211321593858, 228.8469278934983, 690.6533900970953, 743.2194543497626, 566.1725278781827, 414.8555274581375, 1678.8813425257215, 778.8109590632097, 2945.3549274511533, 336.1595854400669, 3682.533583037381, 739.7835074575061, 892.129378137189, 871.8504609655839, 815.2996210200143, 513.5005313029479, 423.97877862767007, 387.0252032095972, 330.36356251609317, 323.8233911886526, 300.8297604492654, 266.6430520860954, 258.2170322376956, 195.1770730384495, 154.38361980534341, 150.20162260739107, 146.3795763417095, 146.14739660253403, 144.9662132514132, 143.67104136549926, 135.2081786642548, 136.38685197578957, 133.87149788698937, 132.2165210007423, 130.31203208584316, 129.0298804424662, 122.17695548234417, 121.28058746643114, 119.42226345047521, 118.3466706910859, 112.52465851200633, 105.9403670765155, 102.20703045006192, 208.68167690153274, 479.60343435421925, 980.2085385984321, 665.5633736043867, 1105.560039631084, 279.7830958503391, 146.9355151442317, 495.29600813126797, 309.36686140280466, 472.74945014259885, 1831.596431560864], \"Category\": [\"Default\", \"Default\", \"Default\", \"Default\", \"Default\", \"Default\", \"Default\", \"Default\", \"Default\", \"Default\", \"Default\", \"Default\", \"Default\", \"Default\", \"Default\", \"Default\", \"Default\", \"Default\", \"Default\", \"Default\", \"Default\", \"Default\", \"Default\", \"Default\", \"Default\", \"Default\", \"Default\", \"Default\", \"Default\", \"Default\", \"Topic1\", \"Topic1\", \"Topic1\", \"Topic1\", \"Topic1\", \"Topic1\", \"Topic1\", \"Topic1\", \"Topic1\", \"Topic1\", \"Topic1\", \"Topic1\", \"Topic1\", \"Topic1\", \"Topic1\", \"Topic1\", \"Topic1\", \"Topic1\", \"Topic1\", \"Topic1\", \"Topic1\", \"Topic1\", \"Topic1\", \"Topic1\", \"Topic1\", \"Topic1\", \"Topic1\", \"Topic1\", \"Topic1\", \"Topic1\", \"Topic1\", \"Topic1\", \"Topic1\", \"Topic1\", \"Topic1\", \"Topic1\", \"Topic1\", \"Topic1\", \"Topic1\", \"Topic1\", \"Topic1\", \"Topic1\", \"Topic1\", \"Topic1\", \"Topic1\", \"Topic1\", \"Topic1\", \"Topic1\", \"Topic1\", \"Topic1\", \"Topic1\", \"Topic1\", \"Topic1\", \"Topic1\", \"Topic1\", \"Topic1\", \"Topic1\", \"Topic1\", \"Topic1\", \"Topic1\", \"Topic1\", \"Topic1\", \"Topic1\", \"Topic1\", \"Topic1\", \"Topic1\", \"Topic1\", \"Topic1\", \"Topic1\", \"Topic1\", \"Topic1\", \"Topic2\", \"Topic2\", \"Topic2\", \"Topic2\", \"Topic2\", \"Topic2\", \"Topic2\", \"Topic2\", \"Topic2\", \"Topic2\", \"Topic2\", \"Topic2\", \"Topic2\", \"Topic2\", \"Topic2\", \"Topic2\", \"Topic2\", \"Topic2\", \"Topic2\", \"Topic2\", \"Topic2\", \"Topic2\", \"Topic2\", \"Topic2\", \"Topic2\", \"Topic2\", \"Topic2\", \"Topic2\", \"Topic2\", \"Topic2\", \"Topic2\", \"Topic2\", \"Topic2\", \"Topic2\", \"Topic2\", \"Topic2\", \"Topic2\", \"Topic2\", \"Topic2\", \"Topic2\", \"Topic2\", \"Topic2\", \"Topic2\", \"Topic2\", \"Topic2\", \"Topic2\", \"Topic2\", \"Topic2\", \"Topic2\", \"Topic2\", \"Topic2\", \"Topic2\", \"Topic2\", \"Topic2\", \"Topic2\", \"Topic2\", \"Topic2\", \"Topic2\", \"Topic2\", \"Topic2\", \"Topic3\", \"Topic3\", \"Topic3\", \"Topic3\", \"Topic3\", \"Topic3\", \"Topic3\", \"Topic3\", \"Topic3\", \"Topic3\", \"Topic3\", \"Topic3\", \"Topic3\", \"Topic3\", \"Topic3\", \"Topic3\", \"Topic3\", \"Topic3\", \"Topic3\", \"Topic3\", \"Topic3\", \"Topic3\", \"Topic3\", \"Topic3\", \"Topic3\", \"Topic3\", \"Topic3\", \"Topic3\", \"Topic3\", \"Topic3\", \"Topic3\", \"Topic3\", \"Topic3\", \"Topic3\", \"Topic3\", \"Topic3\", \"Topic3\", \"Topic3\", \"Topic3\", \"Topic3\", \"Topic3\", \"Topic3\", \"Topic3\", \"Topic3\", \"Topic3\", \"Topic3\", \"Topic3\", \"Topic3\", \"Topic3\", \"Topic3\", \"Topic3\", \"Topic3\", \"Topic3\", \"Topic3\", \"Topic3\", \"Topic3\", \"Topic3\", \"Topic3\", \"Topic3\", \"Topic4\", \"Topic4\", \"Topic4\", \"Topic4\", \"Topic4\", \"Topic4\", \"Topic4\", \"Topic4\", \"Topic4\", \"Topic4\", \"Topic4\", \"Topic4\", \"Topic4\", \"Topic4\", \"Topic4\", \"Topic4\", \"Topic4\", \"Topic4\", \"Topic4\", \"Topic4\", \"Topic4\", \"Topic4\", \"Topic4\", \"Topic4\", \"Topic4\", \"Topic4\", \"Topic4\", \"Topic4\", \"Topic4\", \"Topic4\", \"Topic4\", \"Topic4\", \"Topic4\", \"Topic4\", \"Topic4\", \"Topic4\", \"Topic4\", \"Topic4\", \"Topic4\", \"Topic4\", \"Topic4\", \"Topic4\", \"Topic4\", \"Topic4\", \"Topic4\", \"Topic4\", \"Topic4\", \"Topic4\", \"Topic4\", \"Topic4\", \"Topic4\", \"Topic4\", \"Topic4\", \"Topic4\", \"Topic4\", \"Topic4\", \"Topic4\", \"Topic4\", \"Topic4\", \"Topic4\", \"Topic4\", \"Topic5\", \"Topic5\", \"Topic5\", \"Topic5\", \"Topic5\", \"Topic5\", \"Topic5\", \"Topic5\", \"Topic5\", \"Topic5\", \"Topic5\", \"Topic5\", \"Topic5\", \"Topic5\", \"Topic5\", \"Topic5\", \"Topic5\", \"Topic5\", \"Topic5\", \"Topic5\", \"Topic5\", \"Topic5\", \"Topic5\", \"Topic5\", \"Topic5\", \"Topic5\", \"Topic5\", \"Topic5\", \"Topic5\", \"Topic5\", \"Topic5\", \"Topic5\", \"Topic5\", \"Topic5\", \"Topic5\", \"Topic5\", \"Topic5\", \"Topic5\", \"Topic5\", \"Topic5\", \"Topic5\", \"Topic5\", \"Topic5\", \"Topic5\", \"Topic5\", \"Topic5\", \"Topic5\", \"Topic5\", \"Topic5\", \"Topic5\", \"Topic5\", \"Topic6\", \"Topic6\", \"Topic6\", \"Topic6\", \"Topic6\", \"Topic6\", \"Topic6\", \"Topic6\", \"Topic6\", \"Topic6\", \"Topic6\", \"Topic6\", \"Topic6\", \"Topic6\", \"Topic6\", \"Topic6\", \"Topic6\", \"Topic6\", \"Topic6\", \"Topic6\", \"Topic6\", \"Topic6\", \"Topic6\", \"Topic6\", \"Topic6\", \"Topic6\", \"Topic6\", \"Topic6\", \"Topic6\", \"Topic6\", \"Topic6\", \"Topic6\", \"Topic6\", \"Topic7\", \"Topic7\", \"Topic7\", \"Topic7\", \"Topic7\", \"Topic7\", \"Topic7\", \"Topic7\", \"Topic7\", \"Topic7\", \"Topic7\", \"Topic7\", \"Topic7\", \"Topic7\", \"Topic7\", \"Topic7\", \"Topic7\", \"Topic7\", \"Topic7\", \"Topic7\", \"Topic7\", \"Topic7\", \"Topic7\", \"Topic7\", \"Topic7\", \"Topic7\", \"Topic7\", \"Topic7\", \"Topic7\", \"Topic7\", \"Topic7\", \"Topic7\", \"Topic7\", \"Topic7\", \"Topic7\", \"Topic7\", \"Topic7\", \"Topic7\", \"Topic7\", \"Topic7\", \"Topic7\", \"Topic7\", \"Topic7\", \"Topic7\", \"Topic7\", \"Topic7\", \"Topic8\", \"Topic8\", \"Topic8\", \"Topic8\", \"Topic8\", \"Topic8\", \"Topic8\", \"Topic8\", \"Topic8\", \"Topic8\", \"Topic8\", \"Topic8\", \"Topic8\", \"Topic8\", \"Topic8\", \"Topic8\", \"Topic8\", \"Topic8\", \"Topic8\", \"Topic8\", \"Topic8\", \"Topic8\", \"Topic8\", \"Topic8\", \"Topic8\", \"Topic8\", \"Topic8\", \"Topic8\", \"Topic8\", \"Topic8\", \"Topic8\", \"Topic8\", \"Topic8\", \"Topic8\", \"Topic8\", \"Topic8\", \"Topic8\", \"Topic8\", \"Topic8\", \"Topic8\", \"Topic8\"], \"logprob\": [30.0, 29.0, 28.0, 27.0, 26.0, 25.0, 24.0, 23.0, 22.0, 21.0, 20.0, 19.0, 18.0, 17.0, 16.0, 15.0, 14.0, 13.0, 12.0, 11.0, 10.0, 9.0, 8.0, 7.0, 6.0, 5.0, 4.0, 3.0, 2.0, 1.0, -5.1029, -5.1057, -5.2334, -5.6036, -5.7581, -5.765, -5.9602, -6.2058, -6.2418, -6.2661, -6.2818, -6.2957, -6.2998, -6.3156, -6.3436, -6.3464, -6.3953, -6.4191, -6.451, -6.4621, -6.4767, -6.5793, -6.6082, -6.6195, -6.6849, -6.7098, -6.7349, -6.7697, -6.7831, -6.7835, -6.3469, -6.0784, -4.2558, -5.9633, -6.259, -5.3407, -5.8394, -5.9292, -5.5946, -4.5138, -4.9829, -4.4786, -5.8936, -6.0523, -5.3356, -5.1859, -4.5913, -5.1934, -4.5775, -4.2007, -6.0399, -5.096, -4.526, -5.7626, -4.9161, -5.296, -5.2196, -5.2032, -4.8781, -5.287, -5.0337, -5.514, -5.105, -5.3467, -4.7108, -5.463, -5.1943, -5.3503, -5.0473, -5.0849, -5.2995, -5.0121, -5.1367, -5.1623, -5.3992, -5.4198, -5.4343, -5.6047, -5.6546, -5.7539, -5.8079, -5.8203, -5.8417, -5.9144, -5.9394, -5.9642, -5.9673, -6.0315, -6.0629, -6.0874, -6.0973, -6.1229, -6.127, -6.1432, -6.1478, -6.1679, -6.1965, -6.2007, -6.2087, -6.2139, -6.226, -4.9482, -4.8706, -5.9039, -5.2098, -5.3849, -4.5118, -4.6723, -5.7085, -4.6068, -3.8014, -4.573, -4.889, -5.79, -4.4917, -5.1192, -5.2969, -5.0727, -4.6536, -5.4092, -5.226, -5.6079, -5.569, -5.2473, -4.9564, -5.6122, -5.4705, -5.3176, -5.5045, -5.5564, -5.5663, -4.3341, -4.3786, -4.4049, -4.7105, -5.0928, -5.2769, -5.3897, -5.453, -5.5729, -5.7037, -5.7062, -5.7258, -5.767, -5.799, -6.0326, -6.0392, -6.0843, -6.1181, -6.184, -6.2743, -6.2738, -6.3747, -6.4163, -6.4536, -6.4569, -6.4972, -6.5268, -6.5287, -6.5373, -6.5397, -4.894, -5.7813, -4.2918, -5.7569, -5.8316, -6.2027, -5.253, -4.2746, -5.7966, -5.1533, -4.2896, -4.6757, -4.2448, -5.5149, -4.8153, -4.9087, -4.7155, -4.6962, -5.1359, -5.2015, -4.7032, -4.9782, -5.2011, -5.3508, -5.2776, -5.4741, -5.3245, -5.4381, -5.4655, -4.8767, -5.363, -5.7649, -5.7629, -5.7833, -5.7926, -5.7951, -5.8658, -5.9593, -5.6918, -5.977, -5.987, -6.0119, -6.0374, -6.0534, -6.0878, -6.0926, -6.1023, -6.1488, -6.1756, -6.1713, -6.1924, -6.2094, -6.3041, -6.3362, -6.4149, -6.4793, -6.487, -6.4914, -6.4963, -5.8042, -5.9539, -5.6001, -5.8027, -5.0467, -5.3781, -5.3517, -5.8206, -5.4484, -5.5071, -5.3783, -5.0023, -5.331, -5.445, -5.2149, -5.7485, -5.5201, -5.5993, -5.5979, -5.1885, -5.5438, -5.6671, -5.473, -5.5201, -5.6623, -5.5541, -5.6145, -5.7331, -5.72, -5.7014, -5.7403, -4.2559, -4.3089, -5.1465, -5.1763, -5.1806, -5.297, -5.2998, -5.4791, -5.5327, -5.5619, -5.6625, -5.6651, -5.75, -5.7509, -5.9178, -5.9742, -5.9844, -6.0007, -6.0244, -6.0443, -6.0596, -6.0756, -6.0839, -6.0935, -6.098, -6.1337, -6.1396, -6.1715, -6.1678, -6.2234, -4.2663, -5.0148, -5.4363, -5.5393, -4.2321, -4.6862, -4.3393, -5.2456, -5.2313, -5.2874, -5.7867, -4.7965, -4.4755, -5.2852, -5.5113, -4.7696, -4.5117, -5.4802, -5.6172, -5.4424, -5.579, -0.5535, -2.8577, -4.0035, -4.6291, -4.8732, -5.2721, -5.6945, -5.7874, -5.7944, -5.8805, -5.9095, -6.0013, -6.1213, -6.2685, -6.278, -6.2657, -6.3134, -6.5359, -6.5328, -6.5608, -6.5416, -6.5172, -6.612, -6.6286, -6.6376, -6.6451, -6.6725, -6.6426, -6.7429, -6.8599, -6.4203, -5.3835, -6.5228, -4.6652, -4.8245, -4.8441, -4.862, -5.0178, -5.0889, -5.1425, -5.1878, -5.2109, -5.2187, -5.2395, -5.327, -5.3264, -5.3405, -5.3615, -5.5043, -5.6282, -5.651, -5.7464, -5.7788, -5.7995, -5.8345, -5.8517, -5.8741, -5.8747, -5.8935, -5.898, -5.9461, -5.9472, -5.9883, -4.8239, -4.0209, -5.0458, -5.3382, -5.667, -5.0495, -5.0483, -5.2472, -5.4324, -4.8735, -5.3316, -4.9833, -5.581, -5.0649, -5.4279, -5.4123, -3.4276, -3.4947, -3.9578, -4.1498, -4.2413, -4.4, -4.4201, -4.494, -4.6151, -4.6474, -4.9286, -5.1646, -5.1922, -5.2182, -5.2198, -5.228, -5.237, -5.2982, -5.2895, -5.3082, -5.3208, -5.3354, -5.3453, -5.4004, -5.4078, -5.4234, -5.4325, -5.4835, -5.5444, -5.5806, -4.9474, -4.3893, -4.2385, -4.6972, -4.5752, -5.1083, -5.344, -5.0, -5.2566, -5.2306, -5.2095], \"loglift\": [30.0, 29.0, 28.0, 27.0, 26.0, 25.0, 24.0, 23.0, 22.0, 21.0, 20.0, 19.0, 18.0, 17.0, 16.0, 15.0, 14.0, 13.0, 12.0, 11.0, 10.0, 9.0, 8.0, 7.0, 6.0, 5.0, 4.0, 3.0, 2.0, 1.0, 1.0492, 1.0492, 1.0492, 1.049, 1.0489, 1.0488, 1.0487, 1.0484, 1.0484, 1.0484, 1.0483, 1.0483, 1.0483, 1.0483, 1.0483, 1.0482, 1.0482, 1.0481, 1.0481, 1.0481, 1.0481, 1.0479, 1.0478, 1.0478, 1.0477, 1.0477, 1.0476, 1.0475, 1.0475, 1.0475, 1.0448, 1.0373, 0.9941, 1.0263, 1.0344, 1.0017, 1.0135, 1.0177, 0.9996, 0.9169, 0.9318, 0.8788, 1.0006, 1.0134, 0.9042, 0.8571, 0.7352, 0.8379, 0.7149, 0.6105, 0.993, 0.7786, 0.622, 0.924, 0.7071, 0.7995, 0.7661, 0.6891, 0.5168, 0.6961, 0.5595, 0.795, 0.5352, 0.6607, -0.1753, 0.6945, 0.3494, 0.5355, 0.0255, -0.0089, 0.3693, 1.3199, 1.3198, 1.3198, 1.3196, 1.3196, 1.3196, 1.3195, 1.3194, 1.3193, 1.3193, 1.3193, 1.3193, 1.3192, 1.3191, 1.3191, 1.3191, 1.319, 1.319, 1.319, 1.3189, 1.3189, 1.3189, 1.3189, 1.3189, 1.3188, 1.3188, 1.3188, 1.3188, 1.3188, 1.3188, 1.29, 1.2658, 1.3019, 1.2234, 1.2312, 1.0857, 1.1057, 1.2328, 0.9681, 0.7342, 0.8959, 0.9763, 1.2176, 0.5811, 0.8878, 0.9416, 0.7982, 0.4224, 0.9421, 0.7958, 1.0553, 0.9694, 0.4006, -0.1452, 0.9614, 0.5371, -0.0252, 0.1642, 0.3294, -0.4183, 2.1919, 2.1919, 2.1918, 2.1916, 2.1912, 2.191, 2.1908, 2.1907, 2.1905, 2.1902, 2.1902, 2.1902, 2.1901, 2.19, 2.1894, 2.1893, 2.1892, 2.1891, 2.1889, 2.1885, 2.1885, 2.1881, 2.1879, 2.1877, 2.1877, 2.1875, 2.1874, 2.1874, 2.1873, 2.1873, 2.0298, 2.0148, 1.5634, 1.9726, 1.9854, 2.0949, 1.6184, 1.1203, 1.8674, 1.4687, 0.7864, 0.868, 0.2908, 1.5008, 0.6536, 0.7315, 0.4325, 0.3766, 0.9427, 1.037, 0.108, 0.5967, 0.7819, 0.6567, 0.3156, 1.0121, 0.1062, 0.4542, 0.1577, 2.3567, 2.356, 2.3551, 2.3551, 2.355, 2.355, 2.355, 2.3548, 2.3545, 2.3545, 2.3544, 2.3544, 2.3543, 2.3542, 2.3541, 2.354, 2.354, 2.3539, 2.3538, 2.3537, 2.3536, 2.3536, 2.3535, 2.3531, 2.3529, 2.3525, 2.3522, 2.3521, 2.3521, 2.3521, 2.349, 2.349, 2.3293, 2.2871, 2.2067, 2.2102, 2.1598, 2.2412, 2.0543, 1.9973, 1.8916, 1.6171, 1.7287, 1.8144, 1.5672, 2.0334, 1.7599, 1.8053, 1.5524, 0.6668, 1.4257, 1.6516, 1.1005, 1.2198, 1.5484, 0.746, 0.0334, 1.4747, 1.2406, 0.7015, 0.8133, 2.697, 2.6969, 2.6957, 2.6957, 2.6957, 2.6954, 2.6954, 2.6949, 2.6947, 2.6946, 2.6943, 2.6943, 2.694, 2.694, 2.6933, 2.693, 2.693, 2.6929, 2.6927, 2.6927, 2.6926, 2.6925, 2.6924, 2.6924, 2.6924, 2.6922, 2.6921, 2.692, 2.6919, 2.6916, 2.6502, 2.6456, 2.6062, 2.613, 2.4087, 2.4654, 2.3614, 2.4445, 2.4164, 2.397, 2.5877, 2.063, 1.8812, 2.2907, 2.3642, 1.2691, 0.8456, 2.0188, 2.3179, 0.8576, 1.3163, 3.0879, 3.0876, 3.087, 3.0863, 3.0858, 3.0848, 3.0832, 3.0827, 3.0825, 3.0822, 3.0817, 3.0814, 3.0805, 3.0794, 3.0794, 3.0793, 3.0789, 3.0769, 3.0769, 3.0766, 3.0765, 3.0764, 3.076, 3.0758, 3.0757, 3.0756, 3.0752, 3.0746, 3.0742, 3.0727, 2.6852, 0.2852, 2.4163, 3.1492, 3.1488, 3.1488, 3.1487, 3.1483, 3.1481, 3.1479, 3.1477, 3.1476, 3.1476, 3.1475, 3.1472, 3.1472, 3.1471, 3.1471, 3.1464, 3.1458, 3.1457, 3.1451, 3.1449, 3.1448, 3.1445, 3.1444, 3.1443, 3.1443, 3.1441, 3.1441, 3.1438, 3.1437, 3.1434, 3.0103, 2.8044, 2.8073, 2.7826, 2.9665, 2.4795, 2.4073, 2.4805, 2.6063, 1.7672, 2.0772, 1.0953, 2.668, 0.7904, 2.0323, 1.8607, 3.8684, 3.8683, 3.8675, 3.8671, 3.8668, 3.8664, 3.8663, 3.866, 3.8656, 3.8654, 3.8641, 3.8626, 3.8624, 3.8622, 3.8622, 3.8621, 3.8621, 3.8616, 3.8616, 3.8615, 3.8614, 3.8613, 3.8612, 3.8607, 3.8606, 3.8605, 3.8604, 3.86, 3.8593, 3.859, 3.7784, 3.5043, 2.9403, 2.8688, 2.4833, 3.3243, 3.7326, 2.8615, 3.0754, 2.6775, 1.3441]}, \"token.table\": {\"Topic\": [6, 1, 1, 3, 6, 1, 2, 3, 4, 7, 5, 4, 4, 2, 7, 1, 2, 4, 5, 7, 1, 3, 4, 5, 7, 1, 2, 3, 7, 1, 1, 5, 7, 2, 4, 6, 1, 2, 3, 3, 8, 3, 1, 1, 6, 1, 2, 3, 3, 1, 2, 1, 2, 3, 5, 6, 7, 4, 8, 8, 6, 6, 4, 7, 4, 3, 3, 2, 3, 4, 5, 7, 1, 2, 4, 5, 1, 4, 5, 8, 2, 3, 4, 5, 7, 1, 1, 5, 2, 2, 1, 1, 6, 5, 7, 5, 7, 1, 1, 3, 2, 2, 5, 1, 2, 1, 2, 3, 5, 2, 1, 1, 4, 5, 8, 5, 6, 4, 5, 1, 2, 2, 3, 4, 1, 5, 7, 5, 5, 5, 5, 6, 8, 1, 5, 4, 4, 8, 2, 4, 8, 1, 2, 3, 4, 1, 2, 4, 3, 5, 2, 3, 2, 1, 4, 5, 1, 7, 3, 4, 4, 1, 4, 6, 2, 2, 3, 4, 2, 8, 7, 1, 2, 3, 5, 1, 5, 1, 7, 1, 1, 5, 1, 3, 5, 2, 3, 5, 5, 1, 2, 3, 4, 7, 8, 4, 1, 3, 5, 7, 3, 5, 8, 6, 1, 2, 3, 5, 5, 1, 2, 3, 7, 1, 2, 3, 5, 1, 3, 1, 1, 2, 3, 5, 7, 8, 2, 1, 7, 4, 5, 1, 2, 4, 8, 5, 1, 3, 6, 6, 2, 4, 3, 1, 2, 6, 2, 3, 4, 5, 3, 3, 5, 1, 2, 3, 6, 8, 5, 2, 6, 3, 8, 6, 5, 2, 4, 8, 1, 2, 4, 5, 7, 8, 2, 3, 4, 2, 2, 4, 7, 7, 7, 2, 7, 6, 7, 8, 8, 2, 5, 1, 2, 3, 6, 5, 7, 1, 2, 3, 4, 5, 7, 7, 1, 5, 1, 3, 4, 7, 7, 2, 5, 1, 2, 3, 4, 5, 1, 2, 3, 4, 5, 1, 5, 1, 2, 3, 6, 6, 1, 2, 3, 4, 1, 3, 2, 3, 4, 1, 2, 3, 6, 2, 2, 1, 2, 3, 4, 5, 1, 5, 7, 1, 2, 3, 4, 4, 1, 1, 2, 4, 2, 6, 5, 7, 5, 1, 7, 7, 4, 3, 6, 5, 6, 1, 2, 3, 4, 6, 1, 2, 3, 4, 1, 2, 3, 4, 8, 1, 2, 3, 7, 7, 1, 2, 8, 1, 2, 7, 1, 2, 3, 6, 2, 3, 3, 1, 7, 3, 1, 5, 1, 2, 4, 7, 1, 4, 5, 2, 8, 1, 2, 3, 2, 3, 3, 3, 1, 2, 3, 5, 4, 5, 7, 5, 1, 2, 3, 4, 5, 7, 2, 3, 7, 8, 8, 1, 2, 4, 4, 2, 4, 2, 5, 1, 1, 2, 4, 7, 2, 4, 5, 1, 2, 6, 6, 3, 7, 8, 2, 3, 4, 5, 5, 1, 8, 1, 4, 8, 1, 1, 2, 3, 4, 5, 7, 2, 4, 1, 2, 3, 4, 3, 3, 1, 2, 3, 5, 2, 4, 5, 6, 7, 8, 2, 3, 7, 1, 2, 3, 3, 4, 5, 8, 7, 3, 1, 3, 5, 1, 4, 4, 3, 2, 3, 8, 1, 2, 3, 1, 2, 3, 4, 8, 1, 2, 3, 8, 1, 2, 3, 7, 1, 8, 1, 2, 4, 5, 7, 8, 3, 5, 8, 4, 6, 7, 1, 4, 5, 2, 5, 7, 5, 2, 7, 1, 3, 8, 3, 1, 2, 5, 7, 1, 1, 4, 7, 8, 6, 4, 1, 2, 4, 1, 2, 3, 4, 5, 1, 3, 3, 1, 2, 3, 5, 7, 4, 1, 2, 3, 1, 2, 3, 1, 3, 1, 2, 3, 4, 5, 3, 4, 4, 5, 1, 2, 4, 7, 1, 4, 4, 7, 7, 5, 1, 8, 1, 2, 4, 5, 7, 8, 2, 1, 2, 8, 7, 6, 7, 1, 2, 3, 1, 5, 7, 1, 2, 3, 7, 5, 1, 2, 3, 4, 1, 2, 3, 4, 8, 2, 3, 2, 8, 3, 4, 7, 6, 1, 2, 1, 2, 4, 7, 7, 1, 2, 3, 1, 2, 1, 3, 4, 5, 7], \"Freq\": [0.9996386536632963, 0.9992839898474547, 0.9874212937365526, 0.011492779364537955, 0.9929768135148569, 0.44273269380663577, 0.39859184696649264, 0.04414084684014315, 0.09777197575091708, 0.016552817565053682, 0.9948229890773388, 0.9954737778759635, 0.996758131880786, 0.9985868862288615, 0.9971672987720452, 0.038111064194515945, 0.24884283091713355, 0.3284277002645051, 0.10984953797242832, 0.2746238449310708, 0.999286107450224, 0.06744490869501445, 0.03372245434750722, 0.8970172856436921, 0.9969971325026091, 0.6521135503728464, 0.17578014609721768, 0.17203159766559384, 0.9952287038810387, 0.9983260596173134, 0.16361318371884617, 0.32433055887629686, 0.5111102110863072, 0.9162900475343803, 0.08286029402637503, 0.9999827387988399, 0.507773349910113, 0.18473764087182, 0.307215634819988, 0.9931238752030296, 0.9919999359092679, 0.9966700901834387, 0.9991412463893272, 0.9997339787860999, 0.9909751041089104, 0.33623162260349054, 0.1620497768733318, 0.500881128517571, 0.9985996896502775, 0.08485180457529472, 0.9147721945309171, 0.013044671910942898, 0.12881613512056111, 0.10272679129867533, 0.7549603868458202, 0.9858209202593979, 0.9928016226841411, 0.30441817039235214, 0.6943236352099539, 0.9899316121094723, 0.9771218558555587, 0.9993148122769326, 0.9956368874758175, 0.9956801447921539, 0.9966595485057116, 0.9967993172963854, 0.9991880572094732, 0.9992821695721967, 0.14112804819920413, 0.14568056588304942, 0.6661850877360281, 0.045525176838452946, 0.42708037403345134, 0.2143875687112365, 0.19955838905729723, 0.15888406772077804, 0.5743122095816704, 0.3939086624796471, 0.03144648986182057, 0.9905753495385926, 0.1987067818059513, 0.10678799838551124, 0.23925918625614545, 0.1284159474256148, 0.3271227292315661, 0.9979760873670889, 0.04551770536654668, 0.9535174486267968, 0.9988473603377614, 0.9982817005700468, 0.9994941034871625, 0.9976631179166883, 0.9853288206955261, 0.9122877745691146, 0.08469515148519631, 0.16604985852239446, 0.8302492926119723, 0.999287246582608, 0.9977799960086521, 0.9941080078279857, 0.9989326836417568, 0.9990263388028565, 0.9929475522335082, 0.09713991661488497, 0.9026275437666302, 0.7624694725029897, 0.08333453566572255, 0.13815260231626428, 0.015780958581216562, 0.9992070581316166, 0.9981651546642759, 0.24537310400892073, 0.3659443706339939, 0.08249612979610267, 0.3046010946317637, 0.9957191504215056, 0.9950201226917333, 0.9969084588169055, 0.9966307061137956, 0.01676885901637368, 0.9820263061463838, 0.46597584123569846, 0.08625510252660801, 0.4471385199942553, 0.27679817747037033, 0.5072291475472268, 0.21497523427901857, 0.9978100116588813, 0.9977531327027354, 0.9980639801066147, 0.9916939632507998, 0.9979115034249526, 0.9934900415641493, 0.20650266769198478, 0.7922554270105955, 0.9975623585555434, 0.9951409994760164, 0.9958725396175411, 0.9984447219749145, 0.633964326069797, 0.3654380350911887, 0.00945652433736636, 0.15319569426533503, 0.8378480562906594, 0.995814085872318, 0.2952028690718472, 0.703862578533785, 0.9981367839594693, 0.9947216092185424, 0.9929776366757204, 0.9471236275705818, 0.05287777183929948, 0.9991913037338304, 0.02041264235145355, 0.20242536998524768, 0.7756804093552349, 0.5233985705343698, 0.4749606565517545, 0.06596548599062577, 0.9311282060984483, 0.9957018291859805, 0.13519831494146478, 0.8634256022398091, 0.989752906716861, 0.9985448714610767, 0.9987655227765564, 0.997864122983104, 0.9932023699057952, 0.998122681638965, 0.990799024270685, 0.9928941738653905, 0.8092294218772335, 0.06249751037307165, 0.1023275299372572, 0.025905703781584105, 0.9995804984140613, 0.9950061545336278, 0.9988323724252957, 0.9957666750092924, 0.9992897894478283, 0.9512365184322219, 0.048329410679461365, 0.9993746769834003, 0.9972946476112029, 0.9942779381373772, 0.9997060010325342, 0.049542300361852004, 0.9495607569354968, 0.9973034117800954, 0.41964382237274467, 0.15787570987324132, 0.286552901361324, 0.007808906079751721, 0.12799815617679994, 0.9933349072881037, 0.9970114517967075, 0.39290664369704187, 0.030816207348787598, 0.23368957239497262, 0.34154629811572923, 0.9994407446343625, 0.9954065238602642, 0.9952867855882749, 0.9941871593403562, 0.3469429817860322, 0.40736213660334847, 0.2451647354236666, 0.00037372673082876004, 0.9938738209927012, 0.6778908739710592, 0.18781118429981772, 0.12236183219533578, 0.012014856908069147, 0.5869415331191647, 0.054666963230660885, 0.34222547201137865, 0.015937390534330603, 0.18539955481230178, 0.8130542976664484, 0.9989301537412449, 0.4965656960429255, 0.23744471008219986, 0.26588239311549516, 0.7487128292872443, 0.2507622125138662, 0.9911236188578022, 0.9989837650185471, 0.12968030090654478, 0.8684650454650423, 0.9724217049469874, 0.025931245465252998, 0.6249783928453411, 0.18359620706425872, 0.1906395398160845, 0.9864504497754717, 0.9993710943819648, 0.2767653914718858, 0.7225731178547438, 0.9847457914624348, 0.9879847166986465, 0.9983470264182295, 0.996598556475764, 0.995306497141092, 0.3143797264796909, 0.6849464679046883, 0.9815746454033643, 0.356267816633531, 0.15918349253838618, 0.47696738789890075, 0.007580166311351723, 0.997540333881942, 0.9984889488048858, 0.9967591409064337, 0.09396210414222891, 0.7030745216057172, 0.2026955434334545, 0.989185363117487, 0.9894411175507738, 0.992359505971065, 0.32926019840174864, 0.6655259329397046, 0.9965999225202841, 0.9898314833453612, 0.9849589127240103, 0.9929942345756826, 0.9989385506695888, 0.9932921615283148, 0.9920182794951482, 0.07206827755583212, 0.5787301076453185, 0.21347497366916937, 0.026752618183604346, 0.028936505382265925, 0.08025785455081304, 0.0782604225264632, 0.09960417412458954, 0.8210229781412595, 0.9988676994314412, 0.6984244587202597, 0.2846051821419878, 0.016708719108140185, 0.994948118240678, 0.9957326519768674, 0.9980635418596403, 0.9930732399554408, 0.9934907671319451, 0.9977885889458641, 0.9976914442962496, 0.9886209668322563, 0.9995009680073166, 0.9988447015463747, 0.7154880966575446, 0.2604587018528545, 0.023973336571967017, 0.9889445866980873, 0.3061856310820265, 0.6908803983389317, 0.34141541055238067, 0.0929538532154598, 0.48523080609328073, 0.009353846864448786, 0.011692308580560981, 0.05904615833183296, 0.9966351906690477, 0.28524012764457424, 0.714049011331983, 0.40538768981501316, 0.17958884704240222, 0.41378950722050567, 0.998044015797143, 0.9938764574205038, 0.0783162120690064, 0.9181900725331784, 0.3510205819306434, 0.1755102909653217, 0.12220109043847165, 0.3272364770802026, 0.024604246397007715, 0.1554069955855861, 0.10172094256511091, 0.04520930780671596, 0.6979186892661776, 0.9959565187121532, 0.9684122809246114, 0.030743247013479726, 0.29382047266888867, 0.556510053074267, 0.14934120344593058, 0.0003628309121621248, 0.9908446622911335, 0.32760957905018007, 0.45694579317327244, 0.2153495398968848, 0.9929366242358479, 0.9849906304509319, 0.01372809241046595, 0.2112004909687058, 0.16091465978568062, 0.6268966954150473, 0.5063770436059027, 0.31482364482307346, 0.11808703642612062, 0.06062101679127184, 0.9990769312105823, 0.9992291549148637, 0.7302652632841629, 0.17412417410764172, 0.09250346749468467, 0.0014403654108168893, 0.0014403654108168893, 0.8818104910088559, 0.05051389658537293, 0.06735186211383058, 0.8250214548892335, 0.11631557445817231, 0.024246063408182396, 0.03440319807917772, 0.9972404064843496, 0.9988755712290549, 0.9534407916561858, 0.04641227775795063, 0.9960669625341637, 0.9986134111870796, 0.9942610629316085, 0.4170126430759855, 0.5809251270596099, 0.9955193127905898, 0.9989853005889342, 0.9958023362926902, 0.9957474594061296, 0.9960174854679124, 0.9963347466904081, 0.9921610955778055, 0.9979462120891536, 0.9817241276346106, 0.2526239297961914, 0.7090476205463135, 0.03840103167368816, 0.9918500412893569, 0.996445209434323, 0.25374224696680286, 0.591851385150128, 0.10072701080603805, 0.05325058533058062, 0.15828242672583978, 0.2768067083499283, 0.5633654145550032, 0.0015003073623302348, 0.9974572831640415, 0.1310195377166782, 0.6541750157825693, 0.21461369347112216, 0.9953508170856827, 0.9948312116420828, 0.11719394890615403, 0.5138503913577522, 0.3681091984872787, 0.9769095198168817, 0.021953022917233295, 0.995281800744672, 0.3591137572999548, 0.477452419370099, 0.16266909476588548, 0.0006208744075033797, 0.09056531419113241, 0.9056531419113241, 0.9978399379820724, 0.998325173492472, 0.9921473766124372, 0.9967764999635559, 0.8429357314403703, 0.15696727640489372, 0.9946069654576374, 0.0037865747415899904, 0.9920709890796263, 0.0054063814118780725, 0.7460657807183502, 0.002305043606750824, 0.25124975313583986, 0.9986493069555492, 0.9984059590038955, 0.07431818703432955, 0.12209416441354141, 0.8033442122282289, 0.998039452221724, 0.9994354516570866, 0.9985415944222709, 0.9960293923806823, 0.7786417979813468, 0.10669637054378545, 0.11429287588994493, 0.9970502896556273, 0.23798220685949475, 0.14278932411569684, 0.6157789602489426, 0.9962297007406326, 0.13996602351111642, 0.20514627955795986, 0.09056625050719298, 0.45351736049435276, 0.09193846642396863, 0.01852491487647129, 0.57165597285055, 0.1528637016008591, 0.024422011498362105, 0.24964722864992375, 0.9921490452159437, 0.31982254543629773, 0.6488099661864815, 0.03097095795726994, 0.996839903823008, 0.9074932365692165, 0.09195931463901394, 0.25878934389003666, 0.7408479256459873, 0.9988134361391653, 0.31902068085997104, 0.3512516362458238, 0.3203362300593936, 0.008551069796246646, 0.2520432847306596, 0.21720200713553903, 0.5300322017130048, 0.700966770850781, 0.2986823819191221, 0.9905607616381297, 0.9959470088132909, 0.4719316068242479, 0.07434539011614864, 0.45253715722873084, 0.22248663180899667, 0.028130493676999577, 0.5753964615749914, 0.17389759727599738, 0.9982142522331703, 0.999677093011773, 0.99724176076188, 0.05426908032308613, 0.890506272574277, 0.05180230394476403, 0.9989223463733842, 0.9984140346771887, 0.11592769864579278, 0.06520933048825844, 0.5334485507997808, 0.19653367661044557, 0.08785145913001484, 0.1395962871317282, 0.8595613900552082, 0.2212506717266294, 0.1806127932462281, 0.047410858227134874, 0.5497401894432067, 0.9974987337475568, 0.9974552801233001, 0.5644065192334623, 0.06557555512481268, 0.13017237062089682, 0.2394649624955846, 0.998648842419808, 0.7234918408263792, 0.2759711145420209, 0.9971827830796576, 0.9927973215358079, 0.9880904664726521, 0.6848219955704187, 0.3147233138456258, 0.9924381411082764, 0.7023313046827696, 0.05369316652671437, 0.24408790070477623, 0.05733109199472398, 0.22522928997927277, 0.7166386499340497, 0.9990245334450566, 0.9949006428236644, 0.9934516987178178, 0.9460397964952961, 0.025051821624522883, 0.028905948028295637, 0.4179584952473134, 0.580497910065713, 0.9961280475044034, 0.9977759122488287, 0.9980141797316796, 0.9986984233768594, 0.9953293206541732, 0.7098965259618988, 0.15911845092078955, 0.13069675197418032, 0.7750804214351517, 0.17699023412804898, 0.04745390335317255, 0.4181810900490763, 0.5790199708371825, 0.05917108218923729, 0.3050371305962405, 0.24076509304586208, 0.3948139449523247, 0.11270429894345974, 0.7669984452422476, 0.04264486987049828, 0.07736997819361831, 0.9992886837945613, 0.9970778388502529, 0.024640358419916287, 0.440006400355648, 0.4939805187992741, 0.03754721283034863, 0.003520051202845184, 0.9903667964412958, 0.31512195302442303, 0.6845752772599535, 0.9910377810347498, 0.9948611842260143, 0.9974366651199946, 0.9941219080312949, 0.9986275257180356, 0.9959416512245988, 0.9952272923693467, 0.9987494207686382, 0.2883136861854325, 0.7087711452058549, 0.9934290757842692, 0.2922866961759718, 0.7070759047198141, 0.9985590916137507, 0.9946167691358654, 0.9881903383285197, 0.9971881821123388, 0.420114623952781, 0.053803366995019974, 0.44208433214241416, 0.08384358023390613, 0.9989141470954791, 0.26091293090094, 0.7376079073577926, 0.12250271816402744, 0.8711304402775285, 0.9928435400811627, 0.9967050139434064, 0.13422842544183752, 0.8068787372065513, 0.058567833572936594, 0.6974568488524118, 0.0769316039340236, 0.1758436661349111, 0.0019726052290775283, 0.047906126991882826, 0.9647423854403563, 0.03461289474480667, 0.9994990076113037, 0.8647475733277629, 0.11527308518990935, 0.01475814585476348, 0.0047864256826259935, 0.9942952739683963, 0.998734885877377, 0.009957152019614644, 0.9702248927912508, 0.0195160179584447, 0.8886994012526508, 0.09250081316540236, 0.01844252972768147, 0.8756176692812064, 0.12414944235853212, 0.6126774054133458, 0.1849316179368387, 0.15316935135333645, 0.0470165130347895, 0.0022985850817008203, 0.9969228646307099, 0.9966785922424112, 0.9975503938837822, 0.9956142229410371, 0.952444797324012, 0.04681638407474999, 0.9919869684861787, 0.00627839853472265, 0.9991834528850565, 0.9941293984736053, 0.9967367346944304, 0.9964138289561211, 0.9967932986612279, 0.9962647879056169, 0.9988379741202263, 0.9975883411134682, 0.12800592545084377, 0.7909087426626724, 0.052671290636330796, 0.02832918022272772, 0.08146378854345471, 0.9104776366621409, 0.9979431296479327, 0.9974896804017555, 0.9987687631761902, 0.9939692043736222, 0.9985895772041461, 0.510099681272751, 0.4863741147019253, 0.5980156234911599, 0.37124003593130994, 0.030516714869164997, 0.1536634077355284, 0.333820506459941, 0.512211359118428, 0.7530633164618011, 0.17047571379229765, 0.0603316954437351, 0.015469665498393615, 0.9965697188109628, 0.1579809194577184, 0.0937353455449129, 0.30227015922910117, 0.4455061928707658, 0.5979199637022359, 0.16645390930904735, 0.23194038152405413, 0.0035042928275588916, 0.9910643078237529, 0.149408816337743, 0.8498120505982736, 0.9995853993017267, 0.9973510686097568, 0.9955583877957004, 0.9979860167773226, 0.9970215699207947, 0.9912919824784692, 0.9647856656003114, 0.03461931566837756, 0.32299063659532057, 0.5932987696981508, 0.06040559300971409, 0.02316926855167116, 0.99563977875924, 0.6446049157593461, 0.23096032574144743, 0.12437060587318838, 0.9451150177544002, 0.05377986574908434, 0.14310799565480853, 0.5330569174011179, 0.18438392609035104, 0.045077660870395095, 0.09422860434956083], \"Term\": [\"_\", \"accept\", \"agree\", \"agree\", \"ai\", \"also\", \"also\", \"also\", \"also\", \"also\", \"amendment\", \"analysis\", \"announce\", \"application\", \"arab\", \"area\", \"area\", \"area\", \"area\", \"area\", \"argument\", \"arm\", \"arm\", \"arm\", \"armenian\", \"article\", \"article\", \"article\", \"astronomy\", \"atheist\", \"attack\", \"attack\", \"attack\", \"available\", \"available\", \"ax\", \"back\", \"back\", \"back\", \"ball\", \"band\", \"baseball\", \"belief\", \"believe\", \"bhj\", \"big\", \"big\", \"big\", \"bike\", \"bit\", \"bit\", \"black\", \"black\", \"black\", \"black\", \"bo\", \"border\", \"box\", \"box\", \"buyer\", \"bxn\", \"c\", \"cable\", \"cambridge\", \"cap\", \"capable\", \"car\", \"card\", \"carry\", \"carry\", \"carry\", \"carry\", \"case\", \"case\", \"case\", \"case\", \"cause\", \"cause\", \"cause\", \"cd\", \"center\", \"center\", \"center\", \"center\", \"center\", \"certainly\", \"child\", \"child\", \"chip\", \"choose\", \"christian\", \"church\", \"ci\", \"citizen\", \"citizen\", \"civilian\", \"civilian\", \"claim\", \"clear\", \"coach\", \"code\", \"color\", \"colorado\", \"com\", \"com\", \"come\", \"come\", \"come\", \"come\", \"computer\", \"conclusion\", \"condition\", \"condition\", \"condition\", \"condition\", \"constitution\", \"conversion\", \"convert\", \"cop\", \"copy\", \"copy\", \"cost\", \"cost\", \"cost\", \"country\", \"country\", \"country\", \"court\", \"crime\", \"criminal\", \"cub\", \"cx\", \"daughter\", \"death\", \"death\", \"degree\", \"diagnosis\", \"direct\", \"disk\", \"distribution\", \"distribution\", \"division\", \"division\", \"division\", \"dn\", \"do\", \"do\", \"doctor\", \"dog\", \"dream\", \"drive\", \"drive\", \"driver\", \"drug\", \"drug\", \"drug\", \"earth\", \"earth\", \"eat\", \"eat\", \"eeg\", \"effect\", \"effect\", \"ei\", \"email\", \"encryption\", \"engine\", \"ensure\", \"entry\", \"ethernet\", \"ethnic\", \"even\", \"even\", \"even\", \"even\", \"evidence\", \"examine\", \"existence\", \"expansion\", \"explain\", \"fact\", \"fact\", \"faith\", \"fan\", \"father\", \"file\", \"fire\", \"fire\", \"firearm\", \"first\", \"first\", \"first\", \"first\", \"first\", \"floppy\", \"food\", \"force\", \"force\", \"force\", \"force\", \"game\", \"gang\", \"gateway\", \"gb\", \"get\", \"get\", \"get\", \"get\", \"girl\", \"give\", \"give\", \"give\", \"give\", \"go\", \"go\", \"go\", \"go\", \"goal\", \"goal\", \"god\", \"good\", \"good\", \"good\", \"government\", \"government\", \"grade\", \"graphic\", \"greek\", \"greek\", \"ground\", \"ground\", \"group\", \"group\", \"group\", \"guide\", \"gun\", \"guy\", \"guy\", \"gw\", \"gy\", \"hardware\", \"health\", \"helmet\", \"help\", \"help\", \"hh\", \"high\", \"high\", \"high\", \"high\", \"hit\", \"hockey\", \"honest\", \"host\", \"host\", \"host\", \"hst\", \"human_being\", \"husband\", \"hz\", \"hz\", \"ice\", \"icon\", \"ij\", \"illegal\", \"image\", \"improve\", \"inch\", \"include\", \"include\", \"include\", \"include\", \"include\", \"include\", \"increase\", \"increase\", \"increase\", \"info\", \"information\", \"information\", \"information\", \"inhabitant\", \"international\", \"internet\", \"invasion\", \"ip\", \"israeli\", \"item\", \"jet\", \"key\", \"kill\", \"know\", \"know\", \"know\", \"kp\", \"land\", \"land\", \"last\", \"last\", \"last\", \"last\", \"last\", \"last\", \"launch\", \"law\", \"law\", \"lead\", \"lead\", \"lead\", \"lebanese\", \"lebanese_resistance\", \"legal\", \"legal\", \"less\", \"less\", \"less\", \"less\", \"less\", \"level\", \"level\", \"level\", \"level\", \"liar\", \"life\", \"life\", \"line\", \"line\", \"line\", \"line\", \"lk\", \"look\", \"look\", \"look\", \"los_angele\", \"love\", \"love\", \"low\", \"low\", \"low\", \"m\", \"m\", \"m\", \"m\", \"machine\", \"mail\", \"make\", \"make\", \"make\", \"make\", \"make\", \"man\", \"man\", \"man\", \"many\", \"many\", \"many\", \"many\", \"material\", \"matter\", \"mean\", \"mean\", \"medical\", \"memory\", \"mf\", \"military\", \"military\", \"militia\", \"mind\", \"mission\", \"moon\", \"motif\", \"motorcycle\", \"mu\", \"murder\", \"n\", \"need\", \"need\", \"need\", \"negative\", \"nei\", \"new\", \"new\", \"new\", \"new\", \"next\", \"next\", \"next\", \"next\", \"nhl\", \"nntp_poste\", \"nntp_poste\", \"nntp_poste\", \"northern\", \"occupy\", \"offer\", \"offer\", \"offer\", \"opinion\", \"opinion\", \"orbit\", \"organization\", \"organization\", \"organization\", \"organization\", \"owner\", \"owner\", \"pack\", \"patient\", \"patrol\", \"pen\", \"people\", \"people\", \"perhaps\", \"perhaps\", \"period\", \"period\", \"person\", \"person\", \"person\", \"phone\", \"physical\", \"pick\", \"pick\", \"pick\", \"pin\", \"play\", \"player\", \"playoff\", \"point\", \"point\", \"point\", \"police\", \"policy\", \"policy\", \"policy\", \"possess\", \"power\", \"power\", \"power\", \"power\", \"power\", \"power\", \"price\", \"price\", \"price\", \"price\", \"probe\", \"problem\", \"problem\", \"problem\", \"procedure\", \"program\", \"program\", \"protect\", \"protect\", \"prove\", \"provide\", \"provide\", \"provide\", \"provide\", \"public\", \"public\", \"public\", \"question\", \"question\", \"qx\", \"r\", \"radio\", \"radio\", \"radio\", \"rate\", \"rate\", \"rate\", \"rate\", \"reality\", \"reason\", \"recommend\", \"reduce\", \"reduce\", \"reduce\", \"religion\", \"religious\", \"report\", \"report\", \"report\", \"report\", \"report\", \"research\", \"research\", \"result\", \"result\", \"result\", \"result\", \"ride\", \"rider\", \"right\", \"right\", \"right\", \"right\", \"ripem\", \"risk\", \"risk\", \"rlk\", \"rocket\", \"routine\", \"run\", \"run\", \"russian\", \"s\", \"s\", \"s\", \"safety\", \"safety\", \"safety\", \"sale\", \"satellite\", \"saturn\", \"say\", \"say\", \"say\", \"science\", \"science\", \"scientific\", \"score\", \"screen\", \"season\", \"sector\", \"see\", \"see\", \"see\", \"seem\", \"seem\", \"seem\", \"select\", \"select\", \"sell\", \"sell\", \"sell\", \"sell\", \"send\", \"send\", \"send\", \"send\", \"sense\", \"server\", \"service\", \"service\", \"service\", \"service\", \"service\", \"shipping\", \"shoot\", \"shoot\", \"shuttle\", \"significant\", \"sj\", \"sky\", \"slave\", \"slightly\", \"smoke\", \"software\", \"soldier\", \"soldier\", \"son\", \"space\", \"space\", \"speak\", \"sport\", \"stack\", \"stat\", \"state\", \"state\", \"state\", \"state\", \"statement\", \"study\", \"study\", \"super\", \"super\", \"sy\", \"syndrome\", \"system\", \"system\", \"system\", \"take\", \"take\", \"take\", \"take\", \"take\", \"talk\", \"talk\", \"team\", \"tell\", \"tell\", \"tell\", \"tell\", \"terrorism\", \"test\", \"thank\", \"thank\", \"thank\", \"thing\", \"thing\", \"thing\", \"think\", \"think\", \"time\", \"time\", \"time\", \"time\", \"time\", \"trade\", \"translation\", \"treatment\", \"trial\", \"true\", \"true\", \"trust\", \"trust\", \"truth\", \"tube\", \"tumor\", \"turk\", \"turkish\", \"tv\", \"understand\", \"upgrade\", \"use\", \"use\", \"use\", \"use\", \"usenet\", \"usenet\", \"user\", \"valid\", \"version\", \"vertical\", \"village\", \"wa\", \"wa\", \"want\", \"want\", \"want\", \"war\", \"war\", \"war\", \"way\", \"way\", \"way\", \"way\", \"weapon\", \"week\", \"week\", \"week\", \"week\", \"well\", \"well\", \"well\", \"well\", \"widget\", \"win\", \"win\", \"window\", \"wing\", \"winner\", \"wire\", \"withdraw\", \"wm\", \"word\", \"word\", \"work\", \"work\", \"work\", \"work\", \"workstation\", \"write\", \"write\", \"write\", \"wrong\", \"wrong\", \"year\", \"year\", \"year\", \"year\", \"year\"]}, \"R\": 30, \"lambda.step\": 0.01, \"plot.opts\": {\"xlab\": \"PC1\", \"ylab\": \"PC2\"}, \"topic.order\": [3, 2, 4, 8, 6, 5, 7, 1]};\\n\\nfunction LDAvis_load_lib(url, callback){\\n  var s = document.createElement(\\'script\\');\\n  s.src = url;\\n  s.async = true;\\n  s.onreadystatechange = s.onload = callback;\\n  s.onerror = function(){console.warn(\"failed to load library \" + url);};\\n  document.getElementsByTagName(\"head\")[0].appendChild(s);\\n}\\n\\nif(typeof(LDAvis) !== \"undefined\"){\\n   // already loaded: just create the visualization\\n   !function(LDAvis){\\n       new LDAvis(\"#\" + \"ldavis_el35228701065569687140786\", ldavis_el35228701065569687140786_data);\\n   }(LDAvis);\\n}else if(typeof define === \"function\" && define.amd){\\n   // require.js is available: use it to load d3/LDAvis\\n   require.config({paths: {d3: \"https://d3js.org/d3.v5\"}});\\n   require([\"d3\"], function(d3){\\n      window.d3 = d3;\\n      LDAvis_load_lib(\"https://cdn.jsdelivr.net/gh/bmabey/pyLDAvis@3.3.1/pyLDAvis/js/ldavis.v3.0.0.js\", function(){\\n        new LDAvis(\"#\" + \"ldavis_el35228701065569687140786\", ldavis_el35228701065569687140786_data);\\n      });\\n    });\\n}else{\\n    // require.js not available: dynamically load d3 & LDAvis\\n    LDAvis_load_lib(\"https://d3js.org/d3.v5.js\", function(){\\n         LDAvis_load_lib(\"https://cdn.jsdelivr.net/gh/bmabey/pyLDAvis@3.3.1/pyLDAvis/js/ldavis.v3.0.0.js\", function(){\\n                 new LDAvis(\"#\" + \"ldavis_el35228701065569687140786\", ldavis_el35228701065569687140786_data);\\n            })\\n         });\\n}\\n</script>'"
      ]
     },
     "execution_count": 28,
     "metadata": {},
     "output_type": "execute_result"
    }
   ],
   "source": [
    "pyLDAvis.prepared_data_to_html(vis)"
   ]
  },
  {
   "cell_type": "code",
   "execution_count": 29,
   "id": "22e586d3",
   "metadata": {},
   "outputs": [
    {
     "name": "stderr",
     "output_type": "stream",
     "text": [
      "/Users/andrewong/opt/anaconda3/lib/python3.8/site-packages/ipykernel/ipkernel.py:287: DeprecationWarning: `should_run_async` will not call `transform_cell` automatically in the future. Please pass the result to `transformed_cell` argument and any exception that happen during thetransform in `preprocessing_exc_tuple` in IPython 7.17 and above.\n",
      "  and should_run_async(code)\n"
     ]
    },
    {
     "data": {
      "text/html": [
       "<div>\n",
       "<style scoped>\n",
       "    .dataframe tbody tr th:only-of-type {\n",
       "        vertical-align: middle;\n",
       "    }\n",
       "\n",
       "    .dataframe tbody tr th {\n",
       "        vertical-align: top;\n",
       "    }\n",
       "\n",
       "    .dataframe thead th {\n",
       "        text-align: right;\n",
       "    }\n",
       "</style>\n",
       "<table border=\"1\" class=\"dataframe\">\n",
       "  <thead>\n",
       "    <tr style=\"text-align: right;\">\n",
       "      <th></th>\n",
       "      <th>Document_No</th>\n",
       "      <th>Dominant_Topic</th>\n",
       "      <th>Topic_Perc_Contrib</th>\n",
       "      <th>Keywords</th>\n",
       "      <th>Text</th>\n",
       "    </tr>\n",
       "  </thead>\n",
       "  <tbody>\n",
       "    <tr>\n",
       "      <th>0</th>\n",
       "      <td>0</td>\n",
       "      <td>1.0</td>\n",
       "      <td>0.4328</td>\n",
       "      <td>line, organization, use, nntp_poste, host, get...</td>\n",
       "      <td>[s, thing, car, nntp_poste, host, umd, organiz...</td>\n",
       "    </tr>\n",
       "    <tr>\n",
       "      <th>1</th>\n",
       "      <td>1</td>\n",
       "      <td>1.0</td>\n",
       "      <td>0.3592</td>\n",
       "      <td>line, organization, use, nntp_poste, host, get...</td>\n",
       "      <td>[poll, final, call, summary, final, call, cloc...</td>\n",
       "    </tr>\n",
       "    <tr>\n",
       "      <th>2</th>\n",
       "      <td>2</td>\n",
       "      <td>1.0</td>\n",
       "      <td>0.4046</td>\n",
       "      <td>line, organization, use, nntp_poste, host, get...</td>\n",
       "      <td>[question, organization, purdue_university, en...</td>\n",
       "    </tr>\n",
       "    <tr>\n",
       "      <th>3</th>\n",
       "      <td>3</td>\n",
       "      <td>1.0</td>\n",
       "      <td>0.5036</td>\n",
       "      <td>line, organization, use, nntp_poste, host, get...</td>\n",
       "      <td>[system, division, line, nntp_poste, host, amb...</td>\n",
       "    </tr>\n",
       "    <tr>\n",
       "      <th>4</th>\n",
       "      <td>4</td>\n",
       "      <td>1.0</td>\n",
       "      <td>0.3633</td>\n",
       "      <td>line, organization, use, nntp_poste, host, get...</td>\n",
       "      <td>[question, organization, smithsonian_astrophys...</td>\n",
       "    </tr>\n",
       "    <tr>\n",
       "      <th>5</th>\n",
       "      <td>5</td>\n",
       "      <td>2.0</td>\n",
       "      <td>0.6060</td>\n",
       "      <td>write, say, people, think, article, know, make...</td>\n",
       "      <td>[foxvog_dougla, reword, second_amendment, idea...</td>\n",
       "    </tr>\n",
       "    <tr>\n",
       "      <th>6</th>\n",
       "      <td>6</td>\n",
       "      <td>1.0</td>\n",
       "      <td>0.3513</td>\n",
       "      <td>line, organization, use, nntp_poste, host, get...</td>\n",
       "      <td>[man, brain, tumor, treatment, line, people, r...</td>\n",
       "    </tr>\n",
       "    <tr>\n",
       "      <th>7</th>\n",
       "      <td>7</td>\n",
       "      <td>1.0</td>\n",
       "      <td>0.7825</td>\n",
       "      <td>line, organization, use, nntp_poste, host, get...</td>\n",
       "      <td>[las_cruce, nm, line, nntp_poste, host, dante_...</td>\n",
       "    </tr>\n",
       "    <tr>\n",
       "      <th>8</th>\n",
       "      <td>8</td>\n",
       "      <td>1.0</td>\n",
       "      <td>0.4591</td>\n",
       "      <td>line, organization, use, nntp_poste, host, get...</td>\n",
       "      <td>[win, icon, help, please, organization, line, ...</td>\n",
       "    </tr>\n",
       "    <tr>\n",
       "      <th>9</th>\n",
       "      <td>9</td>\n",
       "      <td>1.0</td>\n",
       "      <td>0.6700</td>\n",
       "      <td>line, organization, use, nntp_poste, host, get...</td>\n",
       "      <td>[sigma_design, double, article, pellettiere, w...</td>\n",
       "    </tr>\n",
       "  </tbody>\n",
       "</table>\n",
       "</div>"
      ],
      "text/plain": [
       "   Document_No  Dominant_Topic  Topic_Perc_Contrib  \\\n",
       "0            0             1.0              0.4328   \n",
       "1            1             1.0              0.3592   \n",
       "2            2             1.0              0.4046   \n",
       "3            3             1.0              0.5036   \n",
       "4            4             1.0              0.3633   \n",
       "5            5             2.0              0.6060   \n",
       "6            6             1.0              0.3513   \n",
       "7            7             1.0              0.7825   \n",
       "8            8             1.0              0.4591   \n",
       "9            9             1.0              0.6700   \n",
       "\n",
       "                                            Keywords  \\\n",
       "0  line, organization, use, nntp_poste, host, get...   \n",
       "1  line, organization, use, nntp_poste, host, get...   \n",
       "2  line, organization, use, nntp_poste, host, get...   \n",
       "3  line, organization, use, nntp_poste, host, get...   \n",
       "4  line, organization, use, nntp_poste, host, get...   \n",
       "5  write, say, people, think, article, know, make...   \n",
       "6  line, organization, use, nntp_poste, host, get...   \n",
       "7  line, organization, use, nntp_poste, host, get...   \n",
       "8  line, organization, use, nntp_poste, host, get...   \n",
       "9  line, organization, use, nntp_poste, host, get...   \n",
       "\n",
       "                                                Text  \n",
       "0  [s, thing, car, nntp_poste, host, umd, organiz...  \n",
       "1  [poll, final, call, summary, final, call, cloc...  \n",
       "2  [question, organization, purdue_university, en...  \n",
       "3  [system, division, line, nntp_poste, host, amb...  \n",
       "4  [question, organization, smithsonian_astrophys...  \n",
       "5  [foxvog_dougla, reword, second_amendment, idea...  \n",
       "6  [man, brain, tumor, treatment, line, people, r...  \n",
       "7  [las_cruce, nm, line, nntp_poste, host, dante_...  \n",
       "8  [win, icon, help, please, organization, line, ...  \n",
       "9  [sigma_design, double, article, pellettiere, w...  "
      ]
     },
     "execution_count": 29,
     "metadata": {},
     "output_type": "execute_result"
    }
   ],
   "source": [
    "def format_topics_sentences(ldamodel=None, corpus=corpus, texts=data):\n",
    "    # Init output\n",
    "    sent_topics_df = pd.DataFrame()\n",
    "\n",
    "    # Get main topic in each document\n",
    "    for i, row_list in enumerate(ldamodel[corpus]):\n",
    "        row = row_list[0] if ldamodel.per_word_topics else row_list            \n",
    "        # print(row)\n",
    "        row = sorted(row, key=lambda x: (x[1]), reverse=True)\n",
    "        # Get the Dominant topic, Perc Contribution and Keywords for each document\n",
    "        for j, (topic_num, prop_topic) in enumerate(row):\n",
    "            if j == 0:  # => dominant topic\n",
    "                wp = ldamodel.show_topic(topic_num)\n",
    "                topic_keywords = \", \".join([word for word, prop in wp])\n",
    "                sent_topics_df = sent_topics_df.append(pd.Series([int(topic_num), round(prop_topic,4), topic_keywords]), ignore_index=True)\n",
    "            else:\n",
    "                break\n",
    "    sent_topics_df.columns = ['Dominant_Topic', 'Perc_Contribution', 'Topic_Keywords']\n",
    "\n",
    "    # Add original text to the end of the output\n",
    "    contents = pd.Series(texts)\n",
    "    sent_topics_df = pd.concat([sent_topics_df, contents], axis=1)\n",
    "    return(sent_topics_df)\n",
    "\n",
    "\n",
    "df_topic_sents_keywords = format_topics_sentences(ldamodel=lda_model, corpus=corpus, texts=data_lemmatized)\n",
    "\n",
    "# Format\n",
    "df_dominant_topic = df_topic_sents_keywords.reset_index()\n",
    "df_dominant_topic.columns = ['Document_No', 'Dominant_Topic', 'Topic_Perc_Contrib', 'Keywords', 'Text']\n",
    "df_dominant_topic.head(10)"
   ]
  },
  {
   "cell_type": "code",
   "execution_count": 30,
   "id": "9d73d163",
   "metadata": {},
   "outputs": [
    {
     "name": "stderr",
     "output_type": "stream",
     "text": [
      "/Users/andrewong/opt/anaconda3/lib/python3.8/site-packages/ipykernel/ipkernel.py:287: DeprecationWarning: `should_run_async` will not call `transform_cell` automatically in the future. Please pass the result to `transformed_cell` argument and any exception that happen during thetransform in `preprocessing_exc_tuple` in IPython 7.17 and above.\n",
      "  and should_run_async(code)\n"
     ]
    },
    {
     "data": {
      "text/plain": [
       "[(0,\n",
       "  '1.000*\"ax\" + 0.001*\"mf\" + 0.001*\"pl_pl\" + 0.001*\"m\" + 0.001*\"wm\" + 0.001*\"giz_giz\" + 0.000*\"mi\" + 0.000*\"fq\" + 0.000*\"wt\" + 0.000*\"pmfq\"'),\n",
       " (1,\n",
       "  '0.238*\"say\" + 0.200*\"file\" + 0.194*\"go\" + 0.178*\"get\" + 0.166*\"people\" + 0.166*\"know\" + 0.143*\"make\" + 0.133*\"see\" + 0.132*\"use\" + 0.129*\"also\"'),\n",
       " (2,\n",
       "  '0.395*\"file\" + -0.333*\"say\" + -0.251*\"go\" + 0.171*\"image\" + -0.163*\"know\" + -0.161*\"people\" + 0.158*\"program\" + -0.138*\"think\" + 0.137*\"available\" + -0.137*\"s\"'),\n",
       " (3,\n",
       "  '0.555*\"file\" + 0.335*\"entry\" + -0.173*\"system\" + 0.131*\"say\" + -0.126*\"available\" + 0.122*\"output\" + -0.122*\"use\" + 0.114*\"program\" + -0.106*\"also\" + 0.102*\"printf\"'),\n",
       " (4,\n",
       "  '-0.845*\"_\" + -0.403*\"c\" + -0.198*\"cx\" + -0.115*\"sc\" + -0.098*\"d\" + -0.070*\"i\" + -0.069*\"sj\" + -0.061*\"gc\" + -0.058*\"m\" + -0.056*\"sy\"'),\n",
       " (5,\n",
       "  '-0.397*\"image\" + 0.163*\"wire\" + -0.160*\"color\" + -0.159*\"jpeg\" + -0.154*\"say\" + 0.144*\"entry\" + -0.140*\"go\" + -0.139*\"available\" + -0.139*\"version\" + 0.138*\"privacy\"'),\n",
       " (6,\n",
       "  '0.346*\"wire\" + -0.204*\"internet\" + -0.196*\"privacy\" + 0.177*\"circuit\" + 0.170*\"wiring\" + 0.169*\"ground\" + -0.149*\"anonymous\" + 0.147*\"outlet\" + 0.136*\"neutral\" + -0.135*\"information\"'),\n",
       " (7,\n",
       "  '0.291*\"file\" + 0.269*\"image\" + 0.228*\"wire\" + -0.212*\"entry\" + -0.171*\"widget\" + -0.158*\"program\" + 0.155*\"jpeg\" + 0.142*\"internet\" + 0.129*\"privacy\" + -0.123*\"line\"')]"
      ]
     },
     "execution_count": 30,
     "metadata": {},
     "output_type": "execute_result"
    }
   ],
   "source": [
    "# Lsi model\n",
    "lsimodel = gensim.models.lsimodel.LsiModel(corpus=corpus, num_topics=8, id2word=id2word)\n",
    "lsimodel.show_topics(num_topics=8)"
   ]
  },
  {
   "cell_type": "code",
   "execution_count": 32,
   "id": "ffce8522",
   "metadata": {},
   "outputs": [
    {
     "name": "stderr",
     "output_type": "stream",
     "text": [
      "/Users/andrewong/opt/anaconda3/lib/python3.8/site-packages/ipykernel/ipkernel.py:287: DeprecationWarning: `should_run_async` will not call `transform_cell` automatically in the future. Please pass the result to `transformed_cell` argument and any exception that happen during thetransform in `preprocessing_exc_tuple` in IPython 7.17 and above.\n",
      "  and should_run_async(code)\n"
     ]
    },
    {
     "name": "stdout",
     "output_type": "stream",
     "text": [
      "\n",
      "Coherence Score:  0.49864781680196385\n"
     ]
    }
   ],
   "source": [
    "# Compute Coherence Score\n",
    "coherence_model_lsi = CoherenceModel(model=lsimodel, texts=data_lemmatized, dictionary=id2word, coherence='c_v')\n",
    "coherence_lsi = coherence_model_lsi.get_coherence()\n",
    "print('\\nCoherence Score: ', coherence_lsi)"
   ]
  },
  {
   "cell_type": "code",
   "execution_count": null,
   "id": "a6d0840b",
   "metadata": {},
   "outputs": [],
   "source": []
  }
 ],
 "metadata": {
  "kernelspec": {
   "display_name": "Python 3",
   "language": "python",
   "name": "python3"
  },
  "language_info": {
   "codemirror_mode": {
    "name": "ipython",
    "version": 3
   },
   "file_extension": ".py",
   "mimetype": "text/x-python",
   "name": "python",
   "nbconvert_exporter": "python",
   "pygments_lexer": "ipython3",
   "version": "3.8.8"
  }
 },
 "nbformat": 4,
 "nbformat_minor": 5
}
