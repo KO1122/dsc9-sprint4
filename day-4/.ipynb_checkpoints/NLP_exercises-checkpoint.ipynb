{
 "cells": [
  {
   "cell_type": "code",
   "execution_count": 1,
   "id": "bearing-perth",
   "metadata": {
    "ExecuteTime": {
     "end_time": "2021-07-05T08:44:08.713112Z",
     "start_time": "2021-07-05T08:44:00.247062Z"
    }
   },
   "outputs": [
    {
     "data": {
      "text/plain": [
       "<spacy.lang.en.English at 0x104642610>"
      ]
     },
     "execution_count": 1,
     "metadata": {},
     "output_type": "execute_result"
    }
   ],
   "source": [
    "import spacy\n",
    "nlp=spacy.load(\"en_core_web_lg\")\n",
    "nlp"
   ]
  },
  {
   "cell_type": "markdown",
   "id": "minor-agency",
   "metadata": {},
   "source": [
    "### (1) How to tokenize a given text?\n",
    "\n",
    "Q. Print the tokens of the given text document\n",
    "\n",
    "Input :\n",
    "\n",
    "`text=\"Last week, the University of Cambridge shared its own research that shows if everyone wears a mask outside home,dreaded ‘second wave’ of the pandemic can be avoided.\"`\n",
    "\n",
    "Desired Output :\n",
    "\n",
    "`Last`\n",
    "`week`\n",
    "`,`\n",
    "`the`\n",
    "`University`\n",
    "`of`\n",
    "`Cambridge`\n",
    "`shared`\n",
    "`...(truncated)...`"
   ]
  },
  {
   "cell_type": "code",
   "execution_count": 14,
   "id": "moving-tract",
   "metadata": {
    "ExecuteTime": {
     "end_time": "2021-07-04T01:42:54.964580Z",
     "start_time": "2021-07-04T01:42:54.213426Z"
    }
   },
   "outputs": [],
   "source": [
    "text=\"Last week, the University of Cambridge shared its own research that shows if everyone wears a mask outside home,dreaded ‘second wave’ of the pandemic can be avoided.\""
   ]
  },
  {
   "cell_type": "code",
   "execution_count": 15,
   "id": "ba7e288f",
   "metadata": {},
   "outputs": [
    {
     "name": "stdout",
     "output_type": "stream",
     "text": [
      "['Last', 'week', ',', 'the', 'University', 'of', 'Cambridge', 'shared', 'its', 'own', 'research', 'that', 'shows', 'if', 'everyone', 'wears', 'a', 'mask', 'outside', 'home', ',', 'dreaded', '‘', 'second', 'wave', '’', 'of', 'the', 'pandemic', 'can', 'be', 'avoided', '.']\n"
     ]
    }
   ],
   "source": [
    "doc = nlp(text)\n",
    "print([w.text for w in doc])"
   ]
  },
  {
   "cell_type": "code",
   "execution_count": 19,
   "id": "346d6e5c",
   "metadata": {},
   "outputs": [
    {
     "data": {
      "text/plain": [
       "'Last week , the University of Cambridge shared its own research that shows if everyone wears a mask outside home , dreaded ‘ second wave ’ of the pandemic can be avoided .'"
      ]
     },
     "execution_count": 19,
     "metadata": {},
     "output_type": "execute_result"
    }
   ],
   "source": [
    "list1 = [w.text for w in doc]\n",
    "' '.join(list1)"
   ]
  },
  {
   "cell_type": "code",
   "execution_count": 17,
   "id": "cab6f519",
   "metadata": {
    "scrolled": true
   },
   "outputs": [
    {
     "name": "stdout",
     "output_type": "stream",
     "text": [
      "Last\n",
      "week\n",
      ",\n",
      "the\n",
      "University\n",
      "of\n",
      "Cambridge\n",
      "shared\n",
      "its\n",
      "own\n",
      "research\n",
      "that\n",
      "shows\n",
      "if\n",
      "everyone\n",
      "wears\n",
      "a\n",
      "mask\n",
      "outside\n",
      "home\n",
      ",\n",
      "dreaded\n",
      "‘\n",
      "second\n",
      "wave\n",
      "’\n",
      "of\n",
      "the\n",
      "pandemic\n",
      "can\n",
      "be\n",
      "avoided\n",
      ".\n"
     ]
    }
   ],
   "source": [
    "for w in doc:\n",
    "    print(w.text)"
   ]
  },
  {
   "cell_type": "markdown",
   "id": "rising-indonesian",
   "metadata": {},
   "source": [
    "### (2) How to get the sentences of a text document ?\n",
    "\n",
    "Q. Print the sentences of the given text document\n",
    "\n",
    "Input : \n",
    "\n",
    "`text=\"\"\"The outbreak of coronavirus disease 2019 (COVID-19) has created a global health crisis that has had a deep impact on the way we perceive our world and our everyday lives. Not only the rate of contagion and patterns of transmission threatens our sense of agency, but the safety measures put in place to contain the spread of the virus also require social distancing by refraining from doing what is inherently human, which is to find solace in the company of others. Within this context of physical threat, social and physical distancing, as well as public alarm, what has been (and can be) the role of the different mass media channels in our lives on individual, social and societal levels? Mass media have long been recognized as powerful forces shaping how we experience the world and ourselves. This recognition is accompanied by a growing volume of research, that closely follows the footsteps of technological transformations (e.g. radio, movies, television, the internet, mobiles) and the zeitgeist (e.g. cold war, 9/11, climate change) in an attempt to map mass media major impacts on how we perceive ourselves, both as individuals and citizens. Are media (broadcast and digital) still able to convey a sense of unity reaching large audiences, or are messages lost in the noisy crowd of mass self-communication? \"\"\"`\n",
    "\n",
    "Desired Output :\n",
    "\n",
    "`The outbreak of coronavirus disease 2019 (COVID-19) has created a global health crisis that has had a deep impact on the way we perceive our world and our everyday lives.`\n",
    "\n",
    "`Not only the rate of contagion and patterns of transmission threatens our sense of agency, but the safety measures put in place to contain the spread of the virus also require social distancing by refraining from doing what is inherently human, which is to find solace in the company of others.`\n",
    "\n",
    "`Within this context of physical threat, social and physical distancing, as well as public alarm, what has been (and can be)...(truncated)...`"
   ]
  },
  {
   "cell_type": "code",
   "execution_count": 20,
   "id": "touched-rating",
   "metadata": {},
   "outputs": [],
   "source": [
    "text=\"\"\"The outbreak of coronavirus disease 2019 (COVID-19) has created a global health crisis that has had a deep impact on the way we perceive our world and our everyday lives. Not only the rate of contagion and patterns of transmission threatens our sense of agency, but the safety measures put in place to contain the spread of the virus also require social distancing by refraining from doing what is inherently human, which is to find solace in the company of others. Within this context of physical threat, social and physical distancing, as well as public alarm, what has been (and can be) the role of the different mass media channels in our lives on individual, social and societal levels? Mass media have long been recognized as powerful forces shaping how we experience the world and ourselves. This recognition is accompanied by a growing volume of research, that closely follows the footsteps of technological transformations (e.g. radio, movies, television, the internet, mobiles) and the zeitgeist (e.g. cold war, 9/11, climate change) in an attempt to map mass media major impacts on how we perceive ourselves, both as individuals and citizens. Are media (broadcast and digital) still able to convey a sense of unity reaching large audiences, or are messages lost in the noisy crowd of mass self-communication? \"\"\""
   ]
  },
  {
   "cell_type": "code",
   "execution_count": 22,
   "id": "475fc38a",
   "metadata": {},
   "outputs": [
    {
     "name": "stdout",
     "output_type": "stream",
     "text": [
      "The outbreak of coronavirus disease 2019 (COVID-19) has created a global health crisis that has had a deep impact on the way we perceive our world and our everyday lives.\n",
      "\n",
      "Not only the rate of contagion and patterns of transmission threatens our sense of agency, but the safety measures put in place to contain the spread of the virus also require social distancing by refraining from doing what is inherently human, which is to find solace in the company of others.\n",
      "\n",
      "Within this context of physical threat, social and physical distancing, as well as public alarm, what has been (and can be) the role of the different mass media channels in our lives on individual, social and societal levels?\n",
      "\n",
      "Mass media have long been recognized as powerful forces shaping how we experience the world and ourselves.\n",
      "\n",
      "This recognition is accompanied by a growing volume of research, that closely follows the footsteps of technological transformations (e.g. radio, movies, television, the internet, mobiles) and the zeitgeist (e.g. cold war, 9/11, climate change) in an attempt to map mass media major impacts on how we perceive ourselves, both as individuals and citizens.\n",
      "\n",
      "Are media (broadcast and digital) still able to convey a sense of unity reaching large audiences, or are messages lost in the noisy crowd of mass self-communication?\n",
      "\n"
     ]
    }
   ],
   "source": [
    "doc = nlp(text)\n",
    "for sent in doc.sents:\n",
    "    print(sent)\n",
    "    print(\"\")"
   ]
  },
  {
   "cell_type": "markdown",
   "id": "inappropriate-benefit",
   "metadata": {
    "ExecuteTime": {
     "end_time": "2021-07-04T01:43:21.734984Z",
     "start_time": "2021-07-04T01:43:21.676543Z"
    }
   },
   "source": [
    "### (3) How to remove stop words in a text ?\n",
    "\n",
    "Q. Remove all the stopwords ( ‘a’ , ‘the’, ‘was’…) from the text\n",
    "\n",
    "Input :\n",
    "\n",
    "`text=\"\"\"the outbreak of coronavirus disease 2019 (COVID-19) has created a global health crisis that has had a deep impact on the way we perceive our world and our everyday lives. Not only the rate of contagion and patterns of transmission threatens our sense of agency, but the safety measures put in place to contain the spread of the virus also require social distancing by refraining from doing what is inherently human, which is to find solace in the company of others. Within this context of physical threat, social and physical distancing, as well as public alarm, what has been (and can be) the role of the different mass media channels in our lives on individual, social and societal levels? Mass media have long been recognized as powerful forces shaping how we experience the world and ourselves. This recognition is accompanied by a growing volume of research, that closely follows the footsteps of technological transformations (e.g. radio, movies, television, the internet, mobiles) and the zeitgeist (e.g. cold war, 9/11, climate change) in an attempt to map mass media major impacts on how we perceive ourselves, both as individuals and citizens. Are media (broadcast and digital) still able to convey a sense of unity reaching large audiences, or are messages lost in the noisy crowd of mass self-communication? \"\"\"`\n",
    "\n",
    "Desired Output :\n",
    "\n",
    "`'outbreak coronavirus disease 2019 ( COVID-19 ) created global health crisis deep impact way perceive world everyday lives . rate contagion patterns transmission threatens sense agency , safety measures place contain spread virus require social distancing refraining inherently human , find solace company . context physical threat , social physical distancing , public alarm , ( ) role different mass media channels lives individual , social societal levels ? Mass media long recognized powerful forces shaping experience world . recognition accompanied growing volume research , closely follows footsteps technological transformations ( e.g. radio , movies , television , internet , mobiles ) zeitgeist ( e.g. cold war , 9/11 , climate change ) attempt map mass media major impacts perceive , individuals citizens . media ( broadcast digital ) able convey sense unity reaching large audiences , messages lost noisy crowd mass self - communication ?'`"
   ]
  },
  {
   "cell_type": "code",
   "execution_count": 56,
   "id": "professional-market",
   "metadata": {},
   "outputs": [],
   "source": [
    "text=\"\"\"the outbreak of coronavirus disease 2019 (COVID-19) has created a global health crisis that has had a deep impact on the way we perceive our world and our everyday lives. Not only the rate of contagion and patterns of transmission threatens our sense of agency, but the safety measures put in place to contain the spread of the virus also require social distancing by refraining from doing what is inherently human, which is to find solace in the company of others. Within this context of physical threat, social and physical distancing, as well as public alarm, what has been (and can be) the role of the different mass media channels in our lives on individual, social and societal levels? Mass media have long been recognized as powerful forces shaping how we experience the world and ourselves. This recognition is accompanied by a growing volume of research, that closely follows the footsteps of technological transformations (e.g. radio, movies, television, the internet, mobiles) and the zeitgeist (e.g. cold war, 9/11, climate change) in an attempt to map mass media major impacts on how we perceive ourselves, both as individuals and citizens. Are media (broadcast and digital) still able to convey a sense of unity reaching large audiences, or are messages lost in the noisy crowd of mass self-communication? \"\"\""
   ]
  },
  {
   "cell_type": "code",
   "execution_count": 57,
   "id": "7c134fc8",
   "metadata": {},
   "outputs": [],
   "source": [
    "doc = nlp(text)"
   ]
  },
  {
   "cell_type": "code",
   "execution_count": 27,
   "id": "a73cd8fc",
   "metadata": {},
   "outputs": [],
   "source": [
    "import nltk\n",
    "from nltk.corpus import stopwords\n",
    "stopword = nltk.corpus.stopwords.words('english')"
   ]
  },
  {
   "cell_type": "code",
   "execution_count": 48,
   "id": "141a870b",
   "metadata": {},
   "outputs": [],
   "source": [
    "def remove_stopwords(text):\n",
    "    text=[w.text for w in text if w.text not in stopword]\n",
    "    return text"
   ]
  },
  {
   "cell_type": "code",
   "execution_count": 49,
   "id": "01d61e2d",
   "metadata": {},
   "outputs": [
    {
     "data": {
      "text/plain": [
       "['outbreak',\n",
       " 'coronavirus',\n",
       " 'disease',\n",
       " '2019',\n",
       " '(',\n",
       " 'COVID-19',\n",
       " ')',\n",
       " 'created',\n",
       " 'global',\n",
       " 'health',\n",
       " 'crisis',\n",
       " 'deep',\n",
       " 'impact',\n",
       " 'way',\n",
       " 'perceive',\n",
       " 'world',\n",
       " 'everyday',\n",
       " 'lives',\n",
       " '.',\n",
       " 'Not',\n",
       " 'rate',\n",
       " 'contagion',\n",
       " 'patterns',\n",
       " 'transmission',\n",
       " 'threatens',\n",
       " 'sense',\n",
       " 'agency',\n",
       " ',',\n",
       " 'safety',\n",
       " 'measures',\n",
       " 'put',\n",
       " 'place',\n",
       " 'contain',\n",
       " 'spread',\n",
       " 'virus',\n",
       " 'also',\n",
       " 'require',\n",
       " 'social',\n",
       " 'distancing',\n",
       " 'refraining',\n",
       " 'inherently',\n",
       " 'human',\n",
       " ',',\n",
       " 'find',\n",
       " 'solace',\n",
       " 'company',\n",
       " 'others',\n",
       " '.',\n",
       " 'Within',\n",
       " 'context',\n",
       " 'physical',\n",
       " 'threat',\n",
       " ',',\n",
       " 'social',\n",
       " 'physical',\n",
       " 'distancing',\n",
       " ',',\n",
       " 'well',\n",
       " 'public',\n",
       " 'alarm',\n",
       " ',',\n",
       " '(',\n",
       " ')',\n",
       " 'role',\n",
       " 'different',\n",
       " 'mass',\n",
       " 'media',\n",
       " 'channels',\n",
       " 'lives',\n",
       " 'individual',\n",
       " ',',\n",
       " 'social',\n",
       " 'societal',\n",
       " 'levels',\n",
       " '?',\n",
       " 'Mass',\n",
       " 'media',\n",
       " 'long',\n",
       " 'recognized',\n",
       " 'powerful',\n",
       " 'forces',\n",
       " 'shaping',\n",
       " 'experience',\n",
       " 'world',\n",
       " '.',\n",
       " 'This',\n",
       " 'recognition',\n",
       " 'accompanied',\n",
       " 'growing',\n",
       " 'volume',\n",
       " 'research',\n",
       " ',',\n",
       " 'closely',\n",
       " 'follows',\n",
       " 'footsteps',\n",
       " 'technological',\n",
       " 'transformations',\n",
       " '(',\n",
       " 'e.g.',\n",
       " 'radio',\n",
       " ',',\n",
       " 'movies',\n",
       " ',',\n",
       " 'television',\n",
       " ',',\n",
       " 'internet',\n",
       " ',',\n",
       " 'mobiles',\n",
       " ')',\n",
       " 'zeitgeist',\n",
       " '(',\n",
       " 'e.g.',\n",
       " 'cold',\n",
       " 'war',\n",
       " ',',\n",
       " '9/11',\n",
       " ',',\n",
       " 'climate',\n",
       " 'change',\n",
       " ')',\n",
       " 'attempt',\n",
       " 'map',\n",
       " 'mass',\n",
       " 'media',\n",
       " 'major',\n",
       " 'impacts',\n",
       " 'perceive',\n",
       " ',',\n",
       " 'individuals',\n",
       " 'citizens',\n",
       " '.',\n",
       " 'Are',\n",
       " 'media',\n",
       " '(',\n",
       " 'broadcast',\n",
       " 'digital',\n",
       " ')',\n",
       " 'still',\n",
       " 'able',\n",
       " 'convey',\n",
       " 'sense',\n",
       " 'unity',\n",
       " 'reaching',\n",
       " 'large',\n",
       " 'audiences',\n",
       " ',',\n",
       " 'messages',\n",
       " 'lost',\n",
       " 'noisy',\n",
       " 'crowd',\n",
       " 'mass',\n",
       " 'self',\n",
       " '-',\n",
       " 'communication',\n",
       " '?']"
      ]
     },
     "execution_count": 49,
     "metadata": {},
     "output_type": "execute_result"
    }
   ],
   "source": [
    "remove_stopwords(doc)"
   ]
  },
  {
   "cell_type": "code",
   "execution_count": 50,
   "id": "4c59e0b8",
   "metadata": {},
   "outputs": [
    {
     "data": {
      "text/plain": [
       "'outbreak coronavirus disease 2019 ( COVID-19 ) created global health crisis deep impact way perceive world everyday lives . Not rate contagion patterns transmission threatens sense agency , safety measures put place contain spread virus also require social distancing refraining inherently human , find solace company others . Within context physical threat , social physical distancing , well public alarm , ( ) role different mass media channels lives individual , social societal levels ? Mass media long recognized powerful forces shaping experience world . This recognition accompanied growing volume research , closely follows footsteps technological transformations ( e.g. radio , movies , television , internet , mobiles ) zeitgeist ( e.g. cold war , 9/11 , climate change ) attempt map mass media major impacts perceive , individuals citizens . Are media ( broadcast digital ) still able convey sense unity reaching large audiences , messages lost noisy crowd mass self - communication ?'"
      ]
     },
     "execution_count": 50,
     "metadata": {},
     "output_type": "execute_result"
    }
   ],
   "source": [
    "' '.join(remove_stopwords(doc))"
   ]
  },
  {
   "cell_type": "code",
   "execution_count": 59,
   "id": "19c5473a",
   "metadata": {},
   "outputs": [
    {
     "name": "stdout",
     "output_type": "stream",
     "text": [
      "outbreak coronavirus disease 2019 ( COVID-19 ) created global health crisis deep impact way perceive world everyday lives . rate contagion patterns transmission threatens sense agency , safety measures place contain spread virus require social distancing refraining inherently human , find solace company . context physical threat , social physical distancing , public alarm , ( ) role different mass media channels lives individual , social societal levels ? Mass media long recognized powerful forces shaping experience world . recognition accompanied growing volume research , closely follows footsteps technological transformations ( e.g. radio , movies , television , internet , mobiles ) zeitgeist ( e.g. cold war , 9/11 , climate change ) attempt map mass media major impacts perceive , individuals citizens . media ( broadcast digital ) able convey sense unity reaching large audiences , messages lost noisy crowd mass self - communication ?\n"
     ]
    }
   ],
   "source": [
    "# Alternative Solution\n",
    "doc = nlp(text)\n",
    "\n",
    "new_text = []\n",
    "for token in doc:\n",
    "    if token.is_stop:\n",
    "        continue\n",
    "    new_text.append(token.text)\n",
    "\n",
    "print(\" \".join(new_text))"
   ]
  },
  {
   "cell_type": "markdown",
   "id": "surprising-message",
   "metadata": {
    "ExecuteTime": {
     "end_time": "2021-07-05T09:06:44.868834Z",
     "start_time": "2021-07-05T09:06:44.863763Z"
    }
   },
   "source": [
    "### (4) How to remove punctuations ?\n",
    "\n",
    "Q. Remove all the punctuations in the given text\n",
    "\n",
    "Input :\n",
    "\n",
    "`text=\"The match has concluded !!! India has won the match . Will we fin the finals too ? !\"`\n",
    "\n",
    "Desired Output :\n",
    "\n",
    "`'The match has concluded India has won the match Will we fin the finals too'`"
   ]
  },
  {
   "cell_type": "code",
   "execution_count": 60,
   "id": "controlling-swiss",
   "metadata": {},
   "outputs": [],
   "source": [
    "text=\"The match has concluded !!! India has won the match . Will we fin the finals too ? !\""
   ]
  },
  {
   "cell_type": "code",
   "execution_count": 63,
   "id": "bac45668",
   "metadata": {},
   "outputs": [
    {
     "name": "stdout",
     "output_type": "stream",
     "text": [
      "The match has concluded India has won the match Will we fin the finals too\n"
     ]
    }
   ],
   "source": [
    "doc = nlp(text)\n",
    "\n",
    "new_text = []\n",
    "for token in doc:\n",
    "    if token.is_punct:\n",
    "        continue\n",
    "    new_text.append(token.text)\n",
    "\n",
    "print(\" \".join(new_text))"
   ]
  },
  {
   "cell_type": "markdown",
   "id": "moving-bumper",
   "metadata": {},
   "source": [
    "### (5) How to lemmatize a given text ?\n",
    "\n",
    "Q. Perform lemmatzation on the given text\n",
    "\n",
    "Input:\n",
    "\n",
    "`text= \"Dancing is an art. Students should be taught dance as a subject in schools . I danced in many of my school function. Some people are always hesitating to dance.\"`\n",
    "\n",
    "Desired Output:\n",
    "\n",
    "`text= 'dancing be an art . student should be teach dance as a subject in school . I dance in many of my school function . some people be always hesitate to dance .'`"
   ]
  },
  {
   "cell_type": "code",
   "execution_count": 64,
   "id": "third-numbers",
   "metadata": {},
   "outputs": [],
   "source": [
    "text= \"Dancing is an art. Students should be taught dance as a subject in schools . I danced in many of my school function. Some people are always hesitating to dance.\""
   ]
  },
  {
   "cell_type": "code",
   "execution_count": 65,
   "id": "2665576f",
   "metadata": {},
   "outputs": [
    {
     "data": {
      "text/plain": [
       "'dancing be an art . student should be teach dance as a subject in school . I dance in many of my school function . some people be always hesitate to dance .'"
      ]
     },
     "execution_count": 65,
     "metadata": {},
     "output_type": "execute_result"
    }
   ],
   "source": [
    "doc = nlp(text)\n",
    "' '.join([token.lemma_ for token in doc])"
   ]
  },
  {
   "cell_type": "markdown",
   "id": "israeli-classics",
   "metadata": {},
   "source": [
    "### (6) How to extract usernames from emails ?\n",
    "\n",
    "Q. Extract the usernames from the email addresses present in the text\n",
    "\n",
    "Input :\n",
    "\n",
    "`text= \"The new registrations are potter709@gmail.com , elixir101@gmail.com. If you find any disruptions, kindly contact granger111@gamil.com or severus77@gamil.com \"`\n",
    "\n",
    "Desired Output :\n",
    "\n",
    "`['potter709', 'elixir101', 'granger111', 'severus77']`"
   ]
  },
  {
   "cell_type": "code",
   "execution_count": 66,
   "id": "thirty-victor",
   "metadata": {},
   "outputs": [],
   "source": [
    "text= \"The new registrations are potter709@gmail.com , elixir101@gmail.com. If you find any disruptions, kindly contact granger111@gamil.com or severus77@gamil.com \""
   ]
  },
  {
   "cell_type": "code",
   "execution_count": 67,
   "id": "3ac224fa",
   "metadata": {},
   "outputs": [
    {
     "name": "stdout",
     "output_type": "stream",
     "text": [
      "['The', 'new', 'registrations', 'are', 'potter709@gmail.com', ',', 'elixir101@gmail.com', '.', 'If', 'you', 'find', 'any', 'disruptions', ',', 'kindly', 'contact', 'granger111@gamil.com', 'or', 'severus77@gamil.com']\n"
     ]
    }
   ],
   "source": [
    "doc = nlp(text)\n",
    "print([w.text for w in doc])"
   ]
  },
  {
   "cell_type": "code",
   "execution_count": 69,
   "id": "f2898cf0",
   "metadata": {},
   "outputs": [
    {
     "name": "stdout",
     "output_type": "stream",
     "text": [
      "['potter709', 'elixir101', 'granger111', 'severus77']\n"
     ]
    }
   ],
   "source": [
    "import re \n",
    "findall_result = re.findall(\"\\S+(?=@)\", text)\n",
    "print(findall_result) "
   ]
  },
  {
   "cell_type": "code",
   "execution_count": 73,
   "id": "a4ca3086",
   "metadata": {},
   "outputs": [
    {
     "name": "stdout",
     "output_type": "stream",
     "text": [
      "['potter709', 'elixir101', 'granger111', 'severus77']\n"
     ]
    }
   ],
   "source": [
    "# Alternative Solution - Jopet\n",
    "text= \"The new registrations are potter709@gmail.com , elixir101@gmail.com. If you find any disruptions, kindly contact granger111@gamil.com or severus77@gamil.com \"\n",
    "doc = nlp(text)\n",
    "doc_split = [w.text.split('@', 1)[0] for w in doc if '@' in str(w)]\n",
    "\n",
    "print(doc_split)"
   ]
  },
  {
   "cell_type": "markdown",
   "id": "swedish-perry",
   "metadata": {},
   "source": [
    "### (7) How to find the most common words in the text excluding stopwords\n",
    "\n",
    "Q. Extract the top 10 most common words in the given text excluding stopwords.\n",
    "\n",
    "Input :\n",
    "\n",
    "`text=\"\"\"Junkfood - Food that do no good to our body. And there's no need of them in our body but still we willingly eat them because they are great in taste and easy to cook or ready to eat. Junk foods have no or very less nutritional value and irrespective of the way they are marketed, they are not healthy to consume.The only reason of their gaining popularity and increased trend of consumption is \n",
    "that they are ready to eat or easy to cook foods. People, of all age groups are moving towards Junkfood as it is hassle free and often ready to grab and eat. Cold drinks, chips, noodles, pizza, burgers, French fries etc. are few examples from the great variety of junk food available in the market.\n",
    " Junkfood is the most dangerous food ever but it is pleasure in eating and it gives a great taste in mouth examples of Junkfood are kurkure and chips.. cold rings are also source of junk food... they shud nt be ate in high amounts as it results fatal to our body... it cn be eated in a limited extend ... in research its found tht ths junk foods r very dangerous fr our health\n",
    "Junkfood is very harmful that is slowly eating away the health of the present generation. The term itself denotes how dangerous it is for our bodies. Most importantly, it tastes so good that people consume it on a daily basis. However, not much awareness is spread about the harmful effects of Junkfood .\n",
    "The problem is more serious than you think. Various studies show that Junkfood impacts our health negatively. They contain higher levels of calories, fats, and sugar. On the contrary, they have very low amounts of healthy nutrients and lack dietary fibers. Parents must discourage their children from consuming junk food because of the ill effects it has on one’s health.\n",
    "Junkfood is the easiest way to gain unhealthy weight. The amount of fats and sugar in the food makes you gain weight rapidly. However, this is not a healthy weight. It is more of fats and cholesterol which will have a harmful impact on your health. Junk food is also one of the main reasons for the increase in obesity nowadays.\n",
    "This food only looks and tastes good, other than that, it has no positive points. The amount of calorie your body requires to stay fit is not fulfilled by this food. For instance, foods like French fries, burgers, candy, and cookies, all have high amounts of sugar and fats. Therefore, this can result in long-term illnesses like diabetes and high blood pressure. This may also result in kidney failure.\"\"\"`\n",
    "\n",
    "Desired Output:\n",
    "\n",
    "`text= {Junkfood: 10,\n",
    " food: 8,\n",
    " good: 5,\n",
    " harmful : 3\n",
    " body: 1,\n",
    " need: 1,...(truncated)`"
   ]
  },
  {
   "cell_type": "markdown",
   "id": "63b6e2fc",
   "metadata": {},
   "source": [
    "### New Output\n",
    "[('Junkfood', 8), ('food', 8), ('health', 5), ('body', 4), ('eat', 4), ('foods', 4), ('junk', 4), ('fats', 4), ('good', 3), ('great', 3)]"
   ]
  },
  {
   "cell_type": "code",
   "execution_count": 86,
   "id": "intellectual-opera",
   "metadata": {},
   "outputs": [],
   "source": [
    "text=\"\"\"Junkfood - Food that do no good to our body. And there's no need of them in our body but still we willingly eat them because they are great in taste and easy to cook or ready to eat. Junk foods have no or very less nutritional value and irrespective of the way they are marketed, they are not healthy to consume.The only reason of their gaining popularity and increased trend of consumption is \n",
    "that they are ready to eat or easy to cook foods. People, of all age groups are moving towards Junkfood as it is hassle free and often ready to grab and eat. Cold drinks, chips, noodles, pizza, burgers, French fries etc. are few examples from the great variety of junk food available in the market.\n",
    " Junkfood is the most dangerous food ever but it is pleasure in eating and it gives a great taste in mouth examples of Junkfood are kurkure and chips.. cold rings are also source of junk food... they shud nt be ate in high amounts as it results fatal to our body... it cn be eated in a limited extend ... in research its found tht ths junk foods r very dangerous fr our health\n",
    "Junkfood is very harmful that is slowly eating away the health of the present generation. The term itself denotes how dangerous it is for our bodies. Most importantly, it tastes so good that people consume it on a daily basis. However, not much awareness is spread about the harmful effects of Junkfood .\n",
    "The problem is more serious than you think. Various studies show that Junkfood impacts our health negatively. They contain higher levels of calories, fats, and sugar. On the contrary, they have very low amounts of healthy nutrients and lack dietary fibers. Parents must discourage their children from consuming junk food because of the ill effects it has on one’s health.\n",
    "Junkfood is the easiest way to gain unhealthy weight. The amount of fats and sugar in the food makes you gain weight rapidly. However, this is not a healthy weight. It is more of fats and cholesterol which will have a harmful impact on your health. Junk food is also one of the main reasons for the increase in obesity nowadays.\n",
    "This food only looks and tastes good, other than that, it has no positive points. The amount of calorie your body requires to stay fit is not fulfilled by this food. For instance, foods like French fries, burgers, candy, and cookies, all have high amounts of sugar and fats. Therefore, this can result in long-term illnesses like diabetes and high blood pressure. This may also result in kidney failure.\"\"\""
   ]
  },
  {
   "cell_type": "code",
   "execution_count": 87,
   "id": "b1670d75",
   "metadata": {
    "scrolled": true
   },
   "outputs": [
    {
     "name": "stdout",
     "output_type": "stream",
     "text": [
      "Junkfood Food good body need body willingly eat great taste easy cook ready eat Junk foods nutritional value irrespective way marketed healthy consume reason gaining popularity increased trend consumption ready eat easy cook foods People age groups moving Junkfood hassle free ready grab eat Cold drinks chips noodles pizza burgers French fries etc examples great variety junk food available market Junkfood dangerous food pleasure eating gives great taste mouth examples Junkfood kurkure chips cold rings source junk food shud nt ate high amounts results fatal body cn eated limited extend research found tht ths junk foods r dangerous fr health Junkfood harmful slowly eating away health present generation term denotes dangerous bodies importantly tastes good people consume daily basis awareness spread harmful effects Junkfood problem think studies Junkfood impacts health negatively contain higher levels calories fats sugar contrary low amounts healthy nutrients lack dietary fibers Parents discourage children consuming junk food ill effects health Junkfood easiest way gain unhealthy weight fats sugar food makes gain weight rapidly healthy weight fats cholesterol harmful impact health Junk food main reasons increase obesity nowadays food looks tastes good positive points calorie body requires stay fit fulfilled food instance foods like French fries burgers candy cookies high amounts sugar fats result long term illnesses like diabetes high blood pressure result kidney failure\n"
     ]
    }
   ],
   "source": [
    "# Remove Stopwords, Punctuation and Newline\n",
    "doc = nlp(text)\n",
    "\n",
    "new_text = []\n",
    "for token in doc:\n",
    "    if token.is_stop:\n",
    "        continue\n",
    "    if token.is_punct:\n",
    "        continue\n",
    "    if token.is_space:\n",
    "        continue\n",
    "    new_text.append(token.text)\n",
    "\n",
    "print(\" \".join(new_text))"
   ]
  },
  {
   "cell_type": "code",
   "execution_count": 88,
   "id": "8e7e30b2",
   "metadata": {},
   "outputs": [
    {
     "data": {
      "text/plain": [
       "[('Junkfood', 8),\n",
       " ('food', 8),\n",
       " ('health', 5),\n",
       " ('body', 4),\n",
       " ('eat', 4),\n",
       " ('foods', 4),\n",
       " ('junk', 4),\n",
       " ('fats', 4),\n",
       " ('good', 3),\n",
       " ('great', 3)]"
      ]
     },
     "execution_count": 88,
     "metadata": {},
     "output_type": "execute_result"
    }
   ],
   "source": [
    "from collections import Counter\n",
    "Counter(new_text).most_common(10)"
   ]
  },
  {
   "cell_type": "code",
   "execution_count": null,
   "id": "e8ee073e",
   "metadata": {},
   "outputs": [],
   "source": [
    "# Alternative\n",
    "doc = nlp(text)\n",
    "words = []\n",
    "for token in doc:\n",
    "    if token.is_alpha and not token.is_stop:\n",
    "        words.append(token.text)\n",
    "\n",
    "freq = Counter(words)\n",
    "print(freq.most_common(10))"
   ]
  },
  {
   "cell_type": "markdown",
   "id": "utility-bunny",
   "metadata": {},
   "source": [
    "### (8) How to extract all the nouns in a text?\n",
    "\n",
    "Q. Extract and print all the nouns present in the below text\n",
    "\n",
    "Input:\n",
    "\n",
    "`text=\"James works at Microsoft. She lives in manchester and likes to play the flute\"`\n",
    "\n",
    "Desired Output :\n",
    "\n",
    "`James\n",
    "Microsoft\n",
    "manchester\n",
    "flute`"
   ]
  },
  {
   "cell_type": "code",
   "execution_count": 81,
   "id": "radio-holiday",
   "metadata": {},
   "outputs": [
    {
     "name": "stdout",
     "output_type": "stream",
     "text": [
      "James\n",
      "Microsoft\n",
      "manchester\n",
      "flute\n"
     ]
    }
   ],
   "source": [
    "text=\"James works at Microsoft. She lives in manchester and likes to play the flute\"\n",
    "doc = nlp(text)\n",
    "for token in doc:\n",
    "    if token.pos_ == 'PROPN':\n",
    "        print(token)\n",
    "    elif token.pos_ == 'NOUN':\n",
    "        print(token)"
   ]
  },
  {
   "cell_type": "code",
   "execution_count": null,
   "id": "ff007bc0",
   "metadata": {},
   "outputs": [],
   "source": [
    "# Alternative\n",
    "doc = nlp(text)\n",
    "nouns = []\n",
    "for token in doc:\n",
    "    if token.pos_ in ['NOUN', 'PROPN']:\n",
    "        nouns.append(token.text)\n",
    "\n",
    "print(\" \".join(nouns))"
   ]
  },
  {
   "cell_type": "markdown",
   "id": "acceptable-separation",
   "metadata": {},
   "source": [
    "### (9) How to extract all the pronouns in a text?\n",
    "\n",
    "Q. Extract and print all the pronouns in the text\n",
    "\n",
    "Input :\n",
    "\n",
    "`text=\"John is happy finally. He had landed his dream job finally. He told his mom. She was elated \"`\n",
    "\n",
    "Desired Output :\n",
    "\n",
    "`He\n",
    "his\n",
    "He\n",
    "his\n",
    "She\n",
    "`"
   ]
  },
  {
   "cell_type": "code",
   "execution_count": 82,
   "id": "secure-substance",
   "metadata": {},
   "outputs": [],
   "source": [
    "text=\"John is happy finally. He had landed his dream job finally. He told his mom. She was elated \""
   ]
  },
  {
   "cell_type": "code",
   "execution_count": 83,
   "id": "1e90ebfc",
   "metadata": {},
   "outputs": [
    {
     "name": "stdout",
     "output_type": "stream",
     "text": [
      "He\n",
      "his\n",
      "He\n",
      "his\n",
      "She\n"
     ]
    }
   ],
   "source": [
    "doc = nlp(text)\n",
    "for token in doc:\n",
    "    if token.pos_ == 'PRON':\n",
    "        print(token)"
   ]
  },
  {
   "cell_type": "markdown",
   "id": "possible-fifty",
   "metadata": {},
   "source": [
    "### (10) How to find similarity between two words?\n",
    "\n",
    "Find the similarity between any two words.\n",
    "\n",
    "Input :\n",
    "\n",
    "`word1=\"amazing\"\n",
    "word2=\"terrible\"\n",
    "word3=\"excellent\"`\n",
    "\n",
    "Desired Output:\n",
    "\n",
    "`#> similarity between amazing and terrible is 0.46189071343764604`\n",
    "\n",
    "`#> similarity between amazing and excellent is 0.6388207086737778`"
   ]
  },
  {
   "cell_type": "code",
   "execution_count": 84,
   "id": "aboriginal-taiwan",
   "metadata": {},
   "outputs": [],
   "source": [
    "word1=\"amazing\"\n",
    "word2=\"terrible\"\n",
    "word3=\"excellent\""
   ]
  },
  {
   "cell_type": "code",
   "execution_count": 90,
   "id": "bfa719ab",
   "metadata": {},
   "outputs": [
    {
     "name": "stdout",
     "output_type": "stream",
     "text": [
      "similarity between amazing and terrible is 0.4618907677093859\n",
      "similarity between amazing and excellent is 0.6388207086737778\n"
     ]
    }
   ],
   "source": [
    "similarity1 = nlp(word1).similarity(nlp(word2))\n",
    "similarity2 = nlp(word1).similarity(nlp(word3))\n",
    "print(f\"similarity between amazing and terrible is {similarity1}\")\n",
    "print(f\"similarity between amazing and excellent is {similarity2}\")"
   ]
  },
  {
   "cell_type": "markdown",
   "id": "arranged-neighborhood",
   "metadata": {},
   "source": [
    "### (11) How to find similarity between two documents?\n",
    "\n",
    "Q. Find the similarity between any two text documents\n",
    "\n",
    "Input :\n",
    "  \n",
    "`text1=\"John lives in Canada\"\n",
    "text2=\"James lives in America, though he's not from there\"`\n",
    "\n",
    "Desired Output :\n",
    "\n",
    "`0.792817083631068`"
   ]
  },
  {
   "cell_type": "code",
   "execution_count": 91,
   "id": "driving-inspector",
   "metadata": {},
   "outputs": [],
   "source": [
    "text1=\"John lives in Canada\"\n",
    "text2=\"James lives in America, though he's not from there\""
   ]
  },
  {
   "cell_type": "code",
   "execution_count": 92,
   "id": "ec637560",
   "metadata": {},
   "outputs": [
    {
     "data": {
      "text/plain": [
       "0.7928170836310687"
      ]
     },
     "execution_count": 92,
     "metadata": {},
     "output_type": "execute_result"
    }
   ],
   "source": [
    "doc1 = nlp(text1)\n",
    "doc2 = nlp(text2)\n",
    "doc1.similarity(doc2)"
   ]
  },
  {
   "cell_type": "markdown",
   "id": "basic-recall",
   "metadata": {},
   "source": [
    "### (12 )How to merge two tokens as one ?\n",
    "\n",
    "Q. Merge the first name and last name as single token in the given sentence\n",
    "\n",
    "Input:\n",
    "\n",
    "`text=\"Robert Langdon is a famous character in various books and movies \"`\n",
    "\n",
    "Desired Output:\n",
    "\n",
    "`Robert Langdon\n",
    "is\n",
    "a\n",
    "famous\n",
    "character\n",
    "in\n",
    "various\n",
    "books\n",
    "and\n",
    "movies`"
   ]
  },
  {
   "cell_type": "code",
   "execution_count": 93,
   "id": "engaging-smith",
   "metadata": {},
   "outputs": [],
   "source": [
    "text=\"Robert Langdon is a famous character in various books and movies \""
   ]
  },
  {
   "cell_type": "code",
   "execution_count": 94,
   "id": "96791bab",
   "metadata": {},
   "outputs": [
    {
     "data": {
      "text/plain": [
       "[Robert, Langdon, is, a, famous, character, in, various, books, and, movies]"
      ]
     },
     "execution_count": 94,
     "metadata": {},
     "output_type": "execute_result"
    }
   ],
   "source": [
    "doc=nlp(text)\n",
    "[doc[i] for i in range(len(doc))]"
   ]
  },
  {
   "cell_type": "code",
   "execution_count": 96,
   "id": "9498606a",
   "metadata": {},
   "outputs": [
    {
     "name": "stdout",
     "output_type": "stream",
     "text": [
      "Robert Langdon\n",
      "is\n",
      "a\n",
      "famous\n",
      "character\n",
      "in\n",
      "various\n",
      "books\n",
      "and\n",
      "movies\n"
     ]
    }
   ],
   "source": [
    "with doc.retokenize() as retokenizer:\n",
    "    retokenizer.merge(doc[0:2])\n",
    "for token in doc:\n",
    "    print(token.text)"
   ]
  },
  {
   "cell_type": "markdown",
   "id": "soviet-witch",
   "metadata": {},
   "source": [
    "### (13) How to extract Noun phrases from a text ?\n",
    "\n",
    "Q. Extract and print the noun phrases in given text document\n",
    "\n",
    "Input:\n",
    "\n",
    "`text=\"There is a empty house on the Elm Street\"`\n",
    "\n",
    "Expected Output :\n",
    "\n",
    "`[a empty house, the Elm Street]`"
   ]
  },
  {
   "cell_type": "code",
   "execution_count": 97,
   "id": "aging-style",
   "metadata": {},
   "outputs": [],
   "source": [
    "text=\"There is a empty house on the Elm Street\""
   ]
  },
  {
   "cell_type": "code",
   "execution_count": 98,
   "id": "fa5ae2a5",
   "metadata": {},
   "outputs": [
    {
     "data": {
      "text/plain": [
       "[a empty house, the Elm Street]"
      ]
     },
     "execution_count": 98,
     "metadata": {},
     "output_type": "execute_result"
    }
   ],
   "source": [
    "doc = nlp(text)\n",
    "[i for i in doc.noun_chunks]"
   ]
  },
  {
   "cell_type": "markdown",
   "id": "killing-diameter",
   "metadata": {},
   "source": [
    "### (14) How to identify named entities in the given text?\n",
    "\n",
    "Q. Identify and print all the named entities with their labels in the below text\n",
    "\n",
    "Input\n",
    "\n",
    "`text=\" Walter works at Google. He lives in London.\"`\n",
    "\n",
    "Desired Output:\n",
    "\n",
    "`Walter PERSON`\n",
    "\n",
    "`Google ORG`\n",
    "\n",
    "`London GPE`"
   ]
  },
  {
   "cell_type": "code",
   "execution_count": 99,
   "id": "heard-louisiana",
   "metadata": {},
   "outputs": [],
   "source": [
    "text=\" Walter works at Google. He lives in London.\""
   ]
  },
  {
   "cell_type": "code",
   "execution_count": 110,
   "id": "3de23440",
   "metadata": {},
   "outputs": [
    {
     "name": "stdout",
     "output_type": "stream",
     "text": [
      "Walter PERSON\n",
      "Google ORG\n",
      "London GPE\n"
     ]
    }
   ],
   "source": [
    "doc = nlp(text)\n",
    "for token in doc.ents:\n",
    "    print(token.text, token.label_)"
   ]
  },
  {
   "cell_type": "markdown",
   "id": "falling-peoples",
   "metadata": {},
   "source": [
    "### (15) How to identify all the names of Organizations present in the text with NER ?\n",
    "\n",
    "Q. Identify and extract a list of all organizations/Companies mentioned in the given news article\n",
    "\n",
    "Input :\n",
    "\n",
    "`text =\" Google has released it's new model which has got attention of everyone. Amazon is planning to expand into Food delivery, thereby giving competition . Apple is coming up with new iphone model. Flipkart will have to catch up soon.\"`\n",
    "\n",
    "Expected Solution\n",
    "\n",
    "`['Google', 'Amazon', 'Apple', 'Flipkart']`"
   ]
  },
  {
   "cell_type": "code",
   "execution_count": 143,
   "id": "alike-radar",
   "metadata": {},
   "outputs": [],
   "source": [
    "#There is an ERROR here w/ Google\n",
    "text =\"Google has released it's new model which has got attention of everyone. Amazon is planning to expand into Food delivery, thereby giving competition . Apple is coming up with new iphone model. Flipkart will have to catch up soon.\""
   ]
  },
  {
   "cell_type": "code",
   "execution_count": 144,
   "id": "e8ca4bb7",
   "metadata": {},
   "outputs": [
    {
     "data": {
      "text/plain": [
       "['Amazon', 'Apple', 'Flipkart']"
      ]
     },
     "execution_count": 144,
     "metadata": {},
     "output_type": "execute_result"
    }
   ],
   "source": [
    "doc = nlp(text)\n",
    "[str(token) for token in doc.ents]"
   ]
  },
  {
   "cell_type": "code",
   "execution_count": 165,
   "id": "54b9c106",
   "metadata": {},
   "outputs": [
    {
     "name": "stdout",
     "output_type": "stream",
     "text": [
      "['Amazon', 'Apple', 'Flipkart']\n"
     ]
    }
   ],
   "source": [
    "# Alternative \n",
    "text = \"Google has released it's new model which has got attention of everyone. Amazon is planning to expand into Food delivery, thereby giving competition . Apple is coming up with new iphone model. Flipkart will have to catch up soon.\"\n",
    "\n",
    "doc = nlp(text)\n",
    "orgs = []\n",
    "for entity in doc.ents:\n",
    "    if entity.label_ == 'ORG':\n",
    "        orgs.append(entity.text)\n",
    "\n",
    "print(orgs)"
   ]
  },
  {
   "cell_type": "markdown",
   "id": "weird-aquatic",
   "metadata": {},
   "source": [
    "### (16) How to replace all names of people in the text with 'UNKNOWN'\n",
    "\n",
    "Q. Identify and replace all the person names in the news article with UNKNOWN to keep privacy\n",
    "\n",
    "Input :\n",
    "\n",
    "`news=\" Walter was arrested yesterday at Brooklyn for murder. The suspicions and fingerprints pointed to Walter  and his friend  Pinkman . The arrest was made by inspector Hank\"`\n",
    "\n",
    "Desired Output :\n",
    "\n",
    "`'UNKNOWN was arrested yesterday at Brooklyn for murder . The suspicions and fingerprints pointed to UNKNOWN   and his friend   UNKNOWN . The arrest was made by inspector UNKNOWN'`"
   ]
  },
  {
   "cell_type": "code",
   "execution_count": 129,
   "id": "smaller-reggae",
   "metadata": {},
   "outputs": [],
   "source": [
    "news=\" Walter was arrested yesterday at Brooklyn for murder. The suspicions and fingerprints pointed to Walter  and his friend  Pinkman . The arrest was made by inspector Hank\""
   ]
  },
  {
   "cell_type": "code",
   "execution_count": 168,
   "id": "7672e62c",
   "metadata": {},
   "outputs": [
    {
     "data": {
      "text/plain": [
       "'  UNKNOWN was arrested yesterday at Brooklyn for murder . The suspicions and fingerprints pointed to UNKNOWN   and his friend   UNKNOWN . The arrest was made by inspector UNKNOWN'"
      ]
     },
     "execution_count": 168,
     "metadata": {},
     "output_type": "execute_result"
    }
   ],
   "source": [
    "doc = nlp(news)\n",
    "list1 = []\n",
    "for token in doc:\n",
    "    if token.ent_type_ == 'PERSON':\n",
    "        list1.append('UNKNOWN')\n",
    "    else:\n",
    "        list1.append(str(token))\n",
    "\n",
    "' '.join(list1)"
   ]
  },
  {
   "cell_type": "code",
   "execution_count": 169,
   "id": "bb590dbf",
   "metadata": {},
   "outputs": [
    {
     "name": "stdout",
     "output_type": "stream",
     "text": [
      "  UNKNOWN was arrested yesterday at Brooklyn for murder . The suspicions and fingerprints pointed to UNKNOWN   and his friend   UNKNOWN . The arrest was made by inspector UNKNOWN\n"
     ]
    }
   ],
   "source": [
    "# Alternative\n",
    "news=\" Walter was arrested yesterday at Brooklyn for murder. The suspicions and fingerprints pointed to Walter  and his friend  Pinkman . The arrest was made by inspector Hank\"\n",
    "doc = nlp(news)\n",
    "ents = [entity.text for entity in doc.ents if entity.label_ == 'PERSON']\n",
    "news_censored = []\n",
    "for token in doc:\n",
    "    if token.text in ents:\n",
    "        news_censored.append('UNKNOWN')\n",
    "    else:\n",
    "        news_censored.append(token.text)\n",
    "\n",
    "print(\" \".join(news_censored))"
   ]
  },
  {
   "cell_type": "markdown",
   "id": "prescription-aerospace",
   "metadata": {},
   "source": [
    "### (17) How to visualize the named entities using spaCy?\n",
    "\n",
    "Q. Display the named entities prsent in the given document along with their categories using spacy\n",
    "\n",
    "Input :\n",
    "\n",
    "`text=\" Walter was arrested yesterday at Brooklyn for murder. The suspicions and fingerprints pointed to Walter  and his friend  Pinkman . He is from Paris \"`"
   ]
  },
  {
   "cell_type": "code",
   "execution_count": 145,
   "id": "automotive-lambda",
   "metadata": {},
   "outputs": [],
   "source": [
    "text=\" Walter was arrested yesterday at Brooklyn for murder. The suspicions and fingerprints pointed to Walter  and his friend  Pinkman . He is from Paris \""
   ]
  },
  {
   "cell_type": "code",
   "execution_count": 149,
   "id": "308ae0dc",
   "metadata": {},
   "outputs": [
    {
     "data": {
      "text/html": [
       "<span class=\"tex2jax_ignore\"><!DOCTYPE html>\n",
       "<html lang=\"en\">\n",
       "    <head>\n",
       "        <title>displaCy</title>\n",
       "    </head>\n",
       "\n",
       "    <body style=\"font-size: 16px; font-family: -apple-system, BlinkMacSystemFont, 'Segoe UI', Helvetica, Arial, sans-serif, 'Apple Color Emoji', 'Segoe UI Emoji', 'Segoe UI Symbol'; padding: 4rem 2rem; direction: ltr\">\n",
       "<figure style=\"margin-bottom: 6rem\">\n",
       "<div class=\"entities\" style=\"line-height: 2.5; direction: ltr\"> \n",
       "<mark class=\"entity\" style=\"background: #aa9cfc; padding: 0.45em 0.6em; margin: 0 0.25em; line-height: 1; border-radius: 0.35em;\">\n",
       "    Walter\n",
       "    <span style=\"font-size: 0.8em; font-weight: bold; line-height: 1; border-radius: 0.35em; vertical-align: middle; margin-left: 0.5rem\">PERSON</span>\n",
       "</mark>\n",
       " was arrested \n",
       "<mark class=\"entity\" style=\"background: #bfe1d9; padding: 0.45em 0.6em; margin: 0 0.25em; line-height: 1; border-radius: 0.35em;\">\n",
       "    yesterday\n",
       "    <span style=\"font-size: 0.8em; font-weight: bold; line-height: 1; border-radius: 0.35em; vertical-align: middle; margin-left: 0.5rem\">DATE</span>\n",
       "</mark>\n",
       " at \n",
       "<mark class=\"entity\" style=\"background: #feca74; padding: 0.45em 0.6em; margin: 0 0.25em; line-height: 1; border-radius: 0.35em;\">\n",
       "    Brooklyn\n",
       "    <span style=\"font-size: 0.8em; font-weight: bold; line-height: 1; border-radius: 0.35em; vertical-align: middle; margin-left: 0.5rem\">GPE</span>\n",
       "</mark>\n",
       " for murder. The suspicions and fingerprints pointed to \n",
       "<mark class=\"entity\" style=\"background: #aa9cfc; padding: 0.45em 0.6em; margin: 0 0.25em; line-height: 1; border-radius: 0.35em;\">\n",
       "    Walter\n",
       "    <span style=\"font-size: 0.8em; font-weight: bold; line-height: 1; border-radius: 0.35em; vertical-align: middle; margin-left: 0.5rem\">PERSON</span>\n",
       "</mark>\n",
       "  and his friend  \n",
       "<mark class=\"entity\" style=\"background: #aa9cfc; padding: 0.45em 0.6em; margin: 0 0.25em; line-height: 1; border-radius: 0.35em;\">\n",
       "    Pinkman\n",
       "    <span style=\"font-size: 0.8em; font-weight: bold; line-height: 1; border-radius: 0.35em; vertical-align: middle; margin-left: 0.5rem\">PERSON</span>\n",
       "</mark>\n",
       " . He is from \n",
       "<mark class=\"entity\" style=\"background: #feca74; padding: 0.45em 0.6em; margin: 0 0.25em; line-height: 1; border-radius: 0.35em;\">\n",
       "    Paris\n",
       "    <span style=\"font-size: 0.8em; font-weight: bold; line-height: 1; border-radius: 0.35em; vertical-align: middle; margin-left: 0.5rem\">GPE</span>\n",
       "</mark>\n",
       " </div>\n",
       "</figure>\n",
       "</body>\n",
       "</html></span>"
      ],
      "text/plain": [
       "<IPython.core.display.HTML object>"
      ]
     },
     "metadata": {},
     "output_type": "display_data"
    },
    {
     "data": {
      "text/plain": [
       "<IPython.core.display.HTML object>"
      ]
     },
     "metadata": {},
     "output_type": "display_data"
    }
   ],
   "source": [
    "from IPython.core.display import display, HTML\n",
    "doc = nlp(text)\n",
    "from spacy import displacy\n",
    "html = displacy.render(doc, style=\"ent\", page=True)\n",
    "\n",
    "display(HTML(html))"
   ]
  },
  {
   "cell_type": "markdown",
   "id": "academic-influence",
   "metadata": {},
   "source": [
    "### (18) How to implement dependency parsing ?\n",
    "\n",
    "Q. Find the dependencies of all the words in the given text\n",
    "\n",
    "Input :\n",
    "\n",
    "`text=\"Mark plays volleyball every evening.\"`\n",
    "\n",
    "Desired Output :\n",
    "\n",
    "`Mark nsubj`\n",
    "\n",
    "`plays ROOT`\n",
    "\n",
    "`volleyball dobj`\n",
    "\n",
    "`every det`\n",
    "\n",
    "`evening npadvmod`\n",
    "\n",
    "`. punct`"
   ]
  },
  {
   "cell_type": "code",
   "execution_count": 156,
   "id": "intensive-acting",
   "metadata": {},
   "outputs": [],
   "source": [
    "text=\"Mark plays volleyball every evening.\""
   ]
  },
  {
   "cell_type": "code",
   "execution_count": 157,
   "id": "7bfcbc91",
   "metadata": {},
   "outputs": [
    {
     "name": "stdout",
     "output_type": "stream",
     "text": [
      "Mark nsubj\n",
      "plays ROOT\n",
      "volleyball dobj\n",
      "every det\n",
      "evening npadvmod\n",
      ". punct\n"
     ]
    }
   ],
   "source": [
    "doc = nlp(text)\n",
    "for token in doc:\n",
    "    print(token.text, token.dep_)"
   ]
  },
  {
   "cell_type": "markdown",
   "id": "central-discussion",
   "metadata": {},
   "source": [
    "### (19) How to find the ROOT word of any word in a sentence?\n",
    "\n",
    "Q. Find and print the root word / headword of any word in the given sentence\n",
    "\n",
    "Input :\n",
    "\n",
    "`text=\"Mark plays volleyball. Sam is not into sports, he paints a lot\"`\n",
    "\n",
    "Desired Output :\n",
    "\n",
    "`Mark plays`\n",
    "\n",
    "`plays plays`\n",
    "\n",
    "`volleyball plays`\n",
    "\n",
    "`. plays`\n",
    "\n",
    "`Sam is`\n",
    "\n",
    "`is paints`\n",
    "\n",
    "`not is`\n",
    "\n",
    "`into is`\n",
    "\n",
    "`sports into`\n",
    "\n",
    "`, paints`\n",
    "\n",
    "`he paints`\n",
    "\n",
    "`paints paints`\n",
    "\n",
    "`a lot`\n",
    "\n",
    "`lot paints`"
   ]
  },
  {
   "cell_type": "code",
   "execution_count": 158,
   "id": "textile-screen",
   "metadata": {},
   "outputs": [],
   "source": [
    "text=\"Mark plays volleyball. Sam is not into sports, he paints a lot\""
   ]
  },
  {
   "cell_type": "code",
   "execution_count": 161,
   "id": "7710d13b",
   "metadata": {},
   "outputs": [
    {
     "name": "stdout",
     "output_type": "stream",
     "text": [
      "Mark plays\n",
      "plays plays\n",
      "volleyball plays\n",
      ". plays\n",
      "Sam is\n",
      "is paints\n",
      "not is\n",
      "into is\n",
      "sports into\n",
      ", paints\n",
      "he paints\n",
      "paints paints\n",
      "a lot\n",
      "lot paints\n"
     ]
    }
   ],
   "source": [
    "doc = nlp(text)\n",
    "for token in doc:\n",
    "    print(token.text, token.head)"
   ]
  },
  {
   "cell_type": "markdown",
   "id": "integral-estonia",
   "metadata": {},
   "source": [
    "### (20) How to visualize the dependency tree in spaCy?\n",
    "\n",
    "Q. Visualize the dependencies of various tokens of the given text using spaCy\n",
    "\n",
    "Input :\n",
    "\n",
    "`text=\"Mark plays volleyball. Sam is not into sports, he paints a lot\"`"
   ]
  },
  {
   "cell_type": "code",
   "execution_count": 162,
   "id": "arabic-manhattan",
   "metadata": {},
   "outputs": [],
   "source": [
    "text=\"Mark plays volleyball. Sam is not into sports, he paints a lot\""
   ]
  },
  {
   "cell_type": "code",
   "execution_count": 164,
   "id": "b53be688",
   "metadata": {},
   "outputs": [
    {
     "data": {
      "text/html": [
       "<span class=\"tex2jax_ignore\"><svg xmlns=\"http://www.w3.org/2000/svg\" xmlns:xlink=\"http://www.w3.org/1999/xlink\" xml:lang=\"en\" id=\"0a331206e23544a98b9a9ce2f075c63c-0\" class=\"displacy\" width=\"2150\" height=\"399.5\" direction=\"ltr\" style=\"max-width: none; height: 399.5px; color: #000000; background: #ffffff; font-family: Arial; direction: ltr\">\n",
       "<text class=\"displacy-token\" fill=\"currentColor\" text-anchor=\"middle\" y=\"309.5\">\n",
       "    <tspan class=\"displacy-word\" fill=\"currentColor\" x=\"50\">Mark</tspan>\n",
       "    <tspan class=\"displacy-tag\" dy=\"2em\" fill=\"currentColor\" x=\"50\">PROPN</tspan>\n",
       "</text>\n",
       "\n",
       "<text class=\"displacy-token\" fill=\"currentColor\" text-anchor=\"middle\" y=\"309.5\">\n",
       "    <tspan class=\"displacy-word\" fill=\"currentColor\" x=\"225\">plays</tspan>\n",
       "    <tspan class=\"displacy-tag\" dy=\"2em\" fill=\"currentColor\" x=\"225\">VERB</tspan>\n",
       "</text>\n",
       "\n",
       "<text class=\"displacy-token\" fill=\"currentColor\" text-anchor=\"middle\" y=\"309.5\">\n",
       "    <tspan class=\"displacy-word\" fill=\"currentColor\" x=\"400\">volleyball.</tspan>\n",
       "    <tspan class=\"displacy-tag\" dy=\"2em\" fill=\"currentColor\" x=\"400\">NOUN</tspan>\n",
       "</text>\n",
       "\n",
       "<text class=\"displacy-token\" fill=\"currentColor\" text-anchor=\"middle\" y=\"309.5\">\n",
       "    <tspan class=\"displacy-word\" fill=\"currentColor\" x=\"575\">Sam</tspan>\n",
       "    <tspan class=\"displacy-tag\" dy=\"2em\" fill=\"currentColor\" x=\"575\">PROPN</tspan>\n",
       "</text>\n",
       "\n",
       "<text class=\"displacy-token\" fill=\"currentColor\" text-anchor=\"middle\" y=\"309.5\">\n",
       "    <tspan class=\"displacy-word\" fill=\"currentColor\" x=\"750\">is</tspan>\n",
       "    <tspan class=\"displacy-tag\" dy=\"2em\" fill=\"currentColor\" x=\"750\">AUX</tspan>\n",
       "</text>\n",
       "\n",
       "<text class=\"displacy-token\" fill=\"currentColor\" text-anchor=\"middle\" y=\"309.5\">\n",
       "    <tspan class=\"displacy-word\" fill=\"currentColor\" x=\"925\">not</tspan>\n",
       "    <tspan class=\"displacy-tag\" dy=\"2em\" fill=\"currentColor\" x=\"925\">PART</tspan>\n",
       "</text>\n",
       "\n",
       "<text class=\"displacy-token\" fill=\"currentColor\" text-anchor=\"middle\" y=\"309.5\">\n",
       "    <tspan class=\"displacy-word\" fill=\"currentColor\" x=\"1100\">into</tspan>\n",
       "    <tspan class=\"displacy-tag\" dy=\"2em\" fill=\"currentColor\" x=\"1100\">ADP</tspan>\n",
       "</text>\n",
       "\n",
       "<text class=\"displacy-token\" fill=\"currentColor\" text-anchor=\"middle\" y=\"309.5\">\n",
       "    <tspan class=\"displacy-word\" fill=\"currentColor\" x=\"1275\">sports,</tspan>\n",
       "    <tspan class=\"displacy-tag\" dy=\"2em\" fill=\"currentColor\" x=\"1275\">NOUN</tspan>\n",
       "</text>\n",
       "\n",
       "<text class=\"displacy-token\" fill=\"currentColor\" text-anchor=\"middle\" y=\"309.5\">\n",
       "    <tspan class=\"displacy-word\" fill=\"currentColor\" x=\"1450\">he</tspan>\n",
       "    <tspan class=\"displacy-tag\" dy=\"2em\" fill=\"currentColor\" x=\"1450\">PRON</tspan>\n",
       "</text>\n",
       "\n",
       "<text class=\"displacy-token\" fill=\"currentColor\" text-anchor=\"middle\" y=\"309.5\">\n",
       "    <tspan class=\"displacy-word\" fill=\"currentColor\" x=\"1625\">paints</tspan>\n",
       "    <tspan class=\"displacy-tag\" dy=\"2em\" fill=\"currentColor\" x=\"1625\">VERB</tspan>\n",
       "</text>\n",
       "\n",
       "<text class=\"displacy-token\" fill=\"currentColor\" text-anchor=\"middle\" y=\"309.5\">\n",
       "    <tspan class=\"displacy-word\" fill=\"currentColor\" x=\"1800\">a</tspan>\n",
       "    <tspan class=\"displacy-tag\" dy=\"2em\" fill=\"currentColor\" x=\"1800\">DET</tspan>\n",
       "</text>\n",
       "\n",
       "<text class=\"displacy-token\" fill=\"currentColor\" text-anchor=\"middle\" y=\"309.5\">\n",
       "    <tspan class=\"displacy-word\" fill=\"currentColor\" x=\"1975\">lot</tspan>\n",
       "    <tspan class=\"displacy-tag\" dy=\"2em\" fill=\"currentColor\" x=\"1975\">NOUN</tspan>\n",
       "</text>\n",
       "\n",
       "<g class=\"displacy-arrow\">\n",
       "    <path class=\"displacy-arc\" id=\"arrow-0a331206e23544a98b9a9ce2f075c63c-0-0\" stroke-width=\"2px\" d=\"M70,264.5 C70,177.0 215.0,177.0 215.0,264.5\" fill=\"none\" stroke=\"currentColor\"/>\n",
       "    <text dy=\"1.25em\" style=\"font-size: 0.8em; letter-spacing: 1px\">\n",
       "        <textPath xlink:href=\"#arrow-0a331206e23544a98b9a9ce2f075c63c-0-0\" class=\"displacy-label\" startOffset=\"50%\" side=\"left\" fill=\"currentColor\" text-anchor=\"middle\">nsubj</textPath>\n",
       "    </text>\n",
       "    <path class=\"displacy-arrowhead\" d=\"M70,266.5 L62,254.5 78,254.5\" fill=\"currentColor\"/>\n",
       "</g>\n",
       "\n",
       "<g class=\"displacy-arrow\">\n",
       "    <path class=\"displacy-arc\" id=\"arrow-0a331206e23544a98b9a9ce2f075c63c-0-1\" stroke-width=\"2px\" d=\"M245,264.5 C245,177.0 390.0,177.0 390.0,264.5\" fill=\"none\" stroke=\"currentColor\"/>\n",
       "    <text dy=\"1.25em\" style=\"font-size: 0.8em; letter-spacing: 1px\">\n",
       "        <textPath xlink:href=\"#arrow-0a331206e23544a98b9a9ce2f075c63c-0-1\" class=\"displacy-label\" startOffset=\"50%\" side=\"left\" fill=\"currentColor\" text-anchor=\"middle\">dobj</textPath>\n",
       "    </text>\n",
       "    <path class=\"displacy-arrowhead\" d=\"M390.0,266.5 L398.0,254.5 382.0,254.5\" fill=\"currentColor\"/>\n",
       "</g>\n",
       "\n",
       "<g class=\"displacy-arrow\">\n",
       "    <path class=\"displacy-arc\" id=\"arrow-0a331206e23544a98b9a9ce2f075c63c-0-2\" stroke-width=\"2px\" d=\"M595,264.5 C595,177.0 740.0,177.0 740.0,264.5\" fill=\"none\" stroke=\"currentColor\"/>\n",
       "    <text dy=\"1.25em\" style=\"font-size: 0.8em; letter-spacing: 1px\">\n",
       "        <textPath xlink:href=\"#arrow-0a331206e23544a98b9a9ce2f075c63c-0-2\" class=\"displacy-label\" startOffset=\"50%\" side=\"left\" fill=\"currentColor\" text-anchor=\"middle\">nsubj</textPath>\n",
       "    </text>\n",
       "    <path class=\"displacy-arrowhead\" d=\"M595,266.5 L587,254.5 603,254.5\" fill=\"currentColor\"/>\n",
       "</g>\n",
       "\n",
       "<g class=\"displacy-arrow\">\n",
       "    <path class=\"displacy-arc\" id=\"arrow-0a331206e23544a98b9a9ce2f075c63c-0-3\" stroke-width=\"2px\" d=\"M770,264.5 C770,2.0 1625.0,2.0 1625.0,264.5\" fill=\"none\" stroke=\"currentColor\"/>\n",
       "    <text dy=\"1.25em\" style=\"font-size: 0.8em; letter-spacing: 1px\">\n",
       "        <textPath xlink:href=\"#arrow-0a331206e23544a98b9a9ce2f075c63c-0-3\" class=\"displacy-label\" startOffset=\"50%\" side=\"left\" fill=\"currentColor\" text-anchor=\"middle\">ccomp</textPath>\n",
       "    </text>\n",
       "    <path class=\"displacy-arrowhead\" d=\"M770,266.5 L762,254.5 778,254.5\" fill=\"currentColor\"/>\n",
       "</g>\n",
       "\n",
       "<g class=\"displacy-arrow\">\n",
       "    <path class=\"displacy-arc\" id=\"arrow-0a331206e23544a98b9a9ce2f075c63c-0-4\" stroke-width=\"2px\" d=\"M770,264.5 C770,177.0 915.0,177.0 915.0,264.5\" fill=\"none\" stroke=\"currentColor\"/>\n",
       "    <text dy=\"1.25em\" style=\"font-size: 0.8em; letter-spacing: 1px\">\n",
       "        <textPath xlink:href=\"#arrow-0a331206e23544a98b9a9ce2f075c63c-0-4\" class=\"displacy-label\" startOffset=\"50%\" side=\"left\" fill=\"currentColor\" text-anchor=\"middle\">neg</textPath>\n",
       "    </text>\n",
       "    <path class=\"displacy-arrowhead\" d=\"M915.0,266.5 L923.0,254.5 907.0,254.5\" fill=\"currentColor\"/>\n",
       "</g>\n",
       "\n",
       "<g class=\"displacy-arrow\">\n",
       "    <path class=\"displacy-arc\" id=\"arrow-0a331206e23544a98b9a9ce2f075c63c-0-5\" stroke-width=\"2px\" d=\"M770,264.5 C770,89.5 1095.0,89.5 1095.0,264.5\" fill=\"none\" stroke=\"currentColor\"/>\n",
       "    <text dy=\"1.25em\" style=\"font-size: 0.8em; letter-spacing: 1px\">\n",
       "        <textPath xlink:href=\"#arrow-0a331206e23544a98b9a9ce2f075c63c-0-5\" class=\"displacy-label\" startOffset=\"50%\" side=\"left\" fill=\"currentColor\" text-anchor=\"middle\">prep</textPath>\n",
       "    </text>\n",
       "    <path class=\"displacy-arrowhead\" d=\"M1095.0,266.5 L1103.0,254.5 1087.0,254.5\" fill=\"currentColor\"/>\n",
       "</g>\n",
       "\n",
       "<g class=\"displacy-arrow\">\n",
       "    <path class=\"displacy-arc\" id=\"arrow-0a331206e23544a98b9a9ce2f075c63c-0-6\" stroke-width=\"2px\" d=\"M1120,264.5 C1120,177.0 1265.0,177.0 1265.0,264.5\" fill=\"none\" stroke=\"currentColor\"/>\n",
       "    <text dy=\"1.25em\" style=\"font-size: 0.8em; letter-spacing: 1px\">\n",
       "        <textPath xlink:href=\"#arrow-0a331206e23544a98b9a9ce2f075c63c-0-6\" class=\"displacy-label\" startOffset=\"50%\" side=\"left\" fill=\"currentColor\" text-anchor=\"middle\">pobj</textPath>\n",
       "    </text>\n",
       "    <path class=\"displacy-arrowhead\" d=\"M1265.0,266.5 L1273.0,254.5 1257.0,254.5\" fill=\"currentColor\"/>\n",
       "</g>\n",
       "\n",
       "<g class=\"displacy-arrow\">\n",
       "    <path class=\"displacy-arc\" id=\"arrow-0a331206e23544a98b9a9ce2f075c63c-0-7\" stroke-width=\"2px\" d=\"M1470,264.5 C1470,177.0 1615.0,177.0 1615.0,264.5\" fill=\"none\" stroke=\"currentColor\"/>\n",
       "    <text dy=\"1.25em\" style=\"font-size: 0.8em; letter-spacing: 1px\">\n",
       "        <textPath xlink:href=\"#arrow-0a331206e23544a98b9a9ce2f075c63c-0-7\" class=\"displacy-label\" startOffset=\"50%\" side=\"left\" fill=\"currentColor\" text-anchor=\"middle\">nsubj</textPath>\n",
       "    </text>\n",
       "    <path class=\"displacy-arrowhead\" d=\"M1470,266.5 L1462,254.5 1478,254.5\" fill=\"currentColor\"/>\n",
       "</g>\n",
       "\n",
       "<g class=\"displacy-arrow\">\n",
       "    <path class=\"displacy-arc\" id=\"arrow-0a331206e23544a98b9a9ce2f075c63c-0-8\" stroke-width=\"2px\" d=\"M1820,264.5 C1820,177.0 1965.0,177.0 1965.0,264.5\" fill=\"none\" stroke=\"currentColor\"/>\n",
       "    <text dy=\"1.25em\" style=\"font-size: 0.8em; letter-spacing: 1px\">\n",
       "        <textPath xlink:href=\"#arrow-0a331206e23544a98b9a9ce2f075c63c-0-8\" class=\"displacy-label\" startOffset=\"50%\" side=\"left\" fill=\"currentColor\" text-anchor=\"middle\">det</textPath>\n",
       "    </text>\n",
       "    <path class=\"displacy-arrowhead\" d=\"M1820,266.5 L1812,254.5 1828,254.5\" fill=\"currentColor\"/>\n",
       "</g>\n",
       "\n",
       "<g class=\"displacy-arrow\">\n",
       "    <path class=\"displacy-arc\" id=\"arrow-0a331206e23544a98b9a9ce2f075c63c-0-9\" stroke-width=\"2px\" d=\"M1645,264.5 C1645,89.5 1970.0,89.5 1970.0,264.5\" fill=\"none\" stroke=\"currentColor\"/>\n",
       "    <text dy=\"1.25em\" style=\"font-size: 0.8em; letter-spacing: 1px\">\n",
       "        <textPath xlink:href=\"#arrow-0a331206e23544a98b9a9ce2f075c63c-0-9\" class=\"displacy-label\" startOffset=\"50%\" side=\"left\" fill=\"currentColor\" text-anchor=\"middle\">npadvmod</textPath>\n",
       "    </text>\n",
       "    <path class=\"displacy-arrowhead\" d=\"M1970.0,266.5 L1978.0,254.5 1962.0,254.5\" fill=\"currentColor\"/>\n",
       "</g>\n",
       "</svg></span>"
      ],
      "text/plain": [
       "<IPython.core.display.HTML object>"
      ]
     },
     "metadata": {},
     "output_type": "display_data"
    }
   ],
   "source": [
    "doc = nlp(text)\n",
    "displacy.render(doc, style = 'dep')"
   ]
  },
  {
   "cell_type": "code",
   "execution_count": null,
   "id": "97384a9b",
   "metadata": {},
   "outputs": [],
   "source": []
  }
 ],
 "metadata": {
  "kernelspec": {
   "display_name": "Python 3",
   "language": "python",
   "name": "python3"
  },
  "language_info": {
   "codemirror_mode": {
    "name": "ipython",
    "version": 3
   },
   "file_extension": ".py",
   "mimetype": "text/x-python",
   "name": "python",
   "nbconvert_exporter": "python",
   "pygments_lexer": "ipython3",
   "version": "3.8.8"
  }
 },
 "nbformat": 4,
 "nbformat_minor": 5
}
